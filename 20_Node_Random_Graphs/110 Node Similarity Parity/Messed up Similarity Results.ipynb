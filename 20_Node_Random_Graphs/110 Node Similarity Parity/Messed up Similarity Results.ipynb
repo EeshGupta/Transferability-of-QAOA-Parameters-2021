{
 "cells": [
  {
   "cell_type": "code",
   "execution_count": 1,
   "metadata": {},
   "outputs": [
    {
     "name": "stderr",
     "output_type": "stream",
     "text": [
      "2021-09-16 04:29:12,883- WARNING•\tQuickBB solver is unavailable\n",
      "2021-09-16 04:29:12,885- WARNING•\tTamaki solver is unavailable: No path /home/egupta/.local/lib/python3.7/site-packages/thirdparty/tamaki_treewidth\n"
     ]
    }
   ],
   "source": [
    "import warnings\n",
    "warnings.filterwarnings('ignore')\n",
    "\n",
    "#################\n",
    "# My notebook issues\n",
    "import os\n",
    "import sys\n",
    "nb_dir = os.path.split(os.getcwd())[0]\n",
    "if nb_dir not in sys.path:\n",
    "    sys.path.append(nb_dir)\n",
    "sys.path.append('home/egupta/.local/bin')\n",
    "\n",
    "##############\n",
    "\n",
    "import os\n",
    "import numpy as np\n",
    "import scipy.stats as ss\n",
    "import networkx as nx\n",
    "import csv \n",
    "import numpy as np\n",
    "import seaborn as sns\n",
    "from pandas import DataFrame\n",
    "from scipy.optimize import curve_fit\n",
    "import matplotlib\n",
    "from matplotlib import pyplot as plt\n",
    "\n",
    "%matplotlib inline\n",
    "\n",
    "\n",
    "##qtensor imports\n",
    "import qtensor\n",
    "from qtensor import QAOA_energy\n",
    "from qtensor import parameter_optimization as popt\n",
    "import torch"
   ]
  },
  {
   "cell_type": "markdown",
   "metadata": {},
   "source": [
    "# Importing Graphs"
   ]
  },
  {
   "cell_type": "code",
   "execution_count": 2,
   "metadata": {},
   "outputs": [],
   "source": [
    "file2 = open(\"/home/egupta/Documents/Eesh's Experiments/20_Node_Random_Graphs/20NodeRandomLocalData.txt\")\n",
    "file3 = open(\"/home/egupta/Documents/Eesh's Experiments/20_Node_Random_Graphs/20NodeRandomGraphs.txt\")\n",
    "g_data = list(np.loadtxt(file2).reshape(55,20,4))\n",
    "mat_list = list(np.loadtxt(file3).reshape(55,20,20))\n",
    "def mats_to_graphs(mat_list):\n",
    "  \"\"\"\n",
    "  Given list of adjaceny matrix repr of graphs, converts to actual graphs\n",
    "  \"\"\"\n",
    "  g_list = []\n",
    "  for mat in mat_list:\n",
    "    arr = np.array(mat)\n",
    "    G = nx.convert_matrix.from_numpy_matrix(arr)\n",
    "    g_list.append(G)\n",
    "  return g_list\n",
    "g_list = mats_to_graphs(mat_list)\n",
    "file4 = open(\"/home/egupta/Documents/Eesh's Experiments/20_Node_Random_Graphs/New20NodeRandomGraphsData.txt\")\n",
    "file5 = open(\"/home/egupta/Documents/Eesh's Experiments/20_Node_Random_Graphs/New20NodeRandomGraphs.txt\")\n",
    "g_data_more = np.loadtxt(file4).reshape(55,20,4)\n",
    "mat_list = np.loadtxt(file5).reshape(55,20,20)\n",
    "g_list_more = mats_to_graphs(mat_list)\n",
    "for i in g_data_more:\n",
    "    g_data.append(i)\n",
    "for i in g_list_more:\n",
    "    g_list.append(i)"
   ]
  },
  {
   "cell_type": "code",
   "execution_count": null,
   "metadata": {},
   "outputs": [],
   "source": []
  },
  {
   "cell_type": "markdown",
   "metadata": {},
   "source": [
    "# Importing Similarity Data"
   ]
  },
  {
   "cell_type": "code",
   "execution_count": 50,
   "metadata": {},
   "outputs": [
    {
     "name": "stdout",
     "output_type": "stream",
     "text": [
      "110\n",
      "110\n",
      "110\n",
      "110\n",
      "2310\n",
      "2310\n",
      "2310\n",
      "2310\n",
      "2420\n",
      "2420\n",
      "2420\n",
      "2420\n",
      "2420\n",
      "2420\n",
      "2420\n",
      "2420\n",
      "2420\n",
      "2420\n",
      "2420\n",
      "2420\n",
      "2420\n",
      "2420\n",
      "2420\n",
      "2420\n"
     ]
    }
   ],
   "source": [
    "datas = [[],[],[],[]]\n",
    "for i in range(0,6,1):\n",
    "#     if i ==2: \n",
    "#         print('ho')\n",
    "# #         for j in range(4):\n",
    "# #             for k in range(14*110):\n",
    "# #                 datas[j].append(np.N\n",
    "    resi = []\n",
    "    with open('Similarity_110_20_20_data_sep14_Pt'+str(i)+'.csv', 'r', newline = '') as g:\n",
    "        spamreader = csv.reader(g, quotechar='|')\n",
    "        j = 0\n",
    "        for row in spamreader:\n",
    "            #row = [float(i) for i in row]\n",
    "            print(len(row))\n",
    "            for k in row:\n",
    "                #######\n",
    "                if k[0] == \"[\":\n",
    "                    k = k[1:]\n",
    "                    k = k[:-1]\n",
    "                    #print(k)\n",
    "                \n",
    "                datas[j].append(float(k))\n",
    "            j = j+1"
   ]
  },
  {
   "cell_type": "code",
   "execution_count": 51,
   "metadata": {},
   "outputs": [],
   "source": [
    "actual_sim, subgraph_sim = datas[2], datas[3]"
   ]
  },
  {
   "cell_type": "markdown",
   "metadata": {},
   "source": [
    "# Graphing Similarity Data"
   ]
  },
  {
   "cell_type": "code",
   "execution_count": 52,
   "metadata": {},
   "outputs": [
    {
     "data": {
      "text/plain": [
       "nan"
      ]
     },
     "execution_count": 52,
     "metadata": {},
     "output_type": "execute_result"
    }
   ],
   "source": [
    "float(np.NAN)"
   ]
  },
  {
   "cell_type": "code",
   "execution_count": 53,
   "metadata": {},
   "outputs": [],
   "source": [
    "from scipy.stats import gaussian_kde\n",
    "from matplotlib import cm\n",
    "from matplotlib.colors import Normalize"
   ]
  },
  {
   "cell_type": "code",
   "execution_count": 54,
   "metadata": {},
   "outputs": [
    {
     "data": {
      "text/plain": [
       "Text(0.5, 0, 'Similarity Metric')"
      ]
     },
     "execution_count": 54,
     "metadata": {},
     "output_type": "execute_result"
    },
    {
     "data": {
      "image/png": "[encoded data removed]",
      "text/plain": [
       "<Figure size 432x288 with 2 Axes>"
      ]
     },
     "metadata": {
      "needs_background": "light"
     },
     "output_type": "display_data"
    }
   ],
   "source": [
    "fig , ax = plt.subplots()\n",
    "# Generate fake data\n",
    "x = np.copy(subgraph_sim)\n",
    "y = np.copy(actual_sim)\n",
    "\n",
    "# for i in range(len(subgraph_sim)):\n",
    "#     #print(y[i])\n",
    "#     if y[i] is float(np.NAN):\n",
    "#         #print('hi')\n",
    "#         x.remove(x[i])\n",
    "#         y.remove(y[i])\n",
    "\n",
    "# print(np.NAN in y)\n",
    "\n",
    "# Calculate the point density\n",
    "xy = np.vstack([x,y])\n",
    "z = gaussian_kde(xy)(xy)\n",
    "\n",
    "\n",
    "idx = np.argsort(z)\n",
    "new_x = [x[i] for i in idx]\n",
    "new_y = [y[i] for i in idx]\n",
    "new_z = [z[i] for i in idx]\n",
    "\n",
    "\n",
    "#fig, ax = plt.subplots()\n",
    "ax.scatter(new_x, new_y, c=new_z, s=100)\n",
    "#plt.colorbar()\n",
    "# cbar = plt.colorbar(label = \"Number of graph pairs per marker\")\n",
    "\n",
    "\n",
    "\n",
    "norm = Normalize(vmin = np.min(z), vmax = np.max(z))\n",
    "cbar = fig.colorbar(cm.ScalarMappable(norm = norm), ax=ax)\n",
    "cbar.ax.set_ylabel('Number of graph pairs per marker')\n",
    "\n",
    "######################\n",
    "low = min(x+y)\n",
    "ax.plot([0.6, 1], [0.6, 1], color = 'gray', linestyle = '--')\n",
    "\n",
    "#####################\n",
    "ax.set_ylabel(\"True Similarity\")#, fontsize = 20)\n",
    "ax.set_xlabel(\"Similarity Metric\")#, fontsize = 20)"
   ]
  },
  {
   "cell_type": "code",
   "execution_count": 55,
   "metadata": {},
   "outputs": [],
   "source": [
    "actual_sim, subgraph_sim = datas[2], datas[3]"
   ]
  },
  {
   "cell_type": "code",
   "execution_count": 56,
   "metadata": {},
   "outputs": [
    {
     "data": {
      "text/plain": [
       "12100"
      ]
     },
     "execution_count": 56,
     "metadata": {},
     "output_type": "execute_result"
    }
   ],
   "source": [
    "len(datas[0])"
   ]
  },
  {
   "cell_type": "markdown",
   "metadata": {},
   "source": [
    "# Parity Analysis"
   ]
  },
  {
   "cell_type": "code",
   "execution_count": 68,
   "metadata": {},
   "outputs": [],
   "source": [
    "def even_percent(graph):\n",
    "  \"\"\"\n",
    "  Determines the relative percent of even degree nodes\n",
    "  \"\"\"\n",
    "  nodes = graph.number_of_nodes()\n",
    "  tot_ev = 0\n",
    "  for i in range(nodes):\n",
    "    if graph.degree[i]%2 == 0:\n",
    "      tot_ev+=1\n",
    "  return tot_ev/nodes\n"
   ]
  },
  {
   "cell_type": "code",
   "execution_count": 69,
   "metadata": {},
   "outputs": [],
   "source": [
    "import numpy as np\n",
    "matrix = np.zeros((11,11,1000))\n",
    "pointer_matrix = np.zeros((11,11))"
   ]
  },
  {
   "cell_type": "code",
   "execution_count": 70,
   "metadata": {},
   "outputs": [],
   "source": [
    "full_g_list = g_list"
   ]
  },
  {
   "cell_type": "code",
   "execution_count": 71,
   "metadata": {},
   "outputs": [],
   "source": [
    "n_graphs = len(full_g_list)\n",
    "for i in range(110):\n",
    "  for j in range(110):\n",
    "    don = even_percent(full_g_list[i])\n",
    "    don_ind = int((don*10))\n",
    "    acc = even_percent(full_g_list[j])\n",
    "    acc_ind = int((acc*10))\n",
    "    a_sim = actual_sim[i*110 +j]\n",
    "    if a_sim is float(np.NAN):\n",
    "        continue\n",
    "\n",
    "    pointer = int(pointer_matrix[don_ind][acc_ind])\n",
    "    #pointer = int(pointer)\n",
    "    # print('#####')\n",
    "    # print(don)\n",
    "    # print(acc)\n",
    "    # print(don_ind)\n",
    "    # print(acc_ind)\n",
    "    # print(pointer)\n",
    "    #print(pointer_matrix[don_ind][acc_ind])\n",
    "    matrix[don_ind][acc_ind][pointer] = a_sim\n",
    "    pointer_matrix[don_ind][acc_ind] = pointer + 1    "
   ]
  },
  {
   "cell_type": "code",
   "execution_count": 72,
   "metadata": {},
   "outputs": [],
   "source": [
    "new_matrix = np.zeros((11,11))\n",
    "for i in range(11):\n",
    "  for j in range(11):\n",
    "    terms = []\n",
    "    for k in range(int(pointer_matrix[i][j])):\n",
    "      terms.append(matrix[i][j][k])\n",
    "    new_matrix[11-j-1][i] = np.mean(terms)"
   ]
  },
  {
   "cell_type": "code",
   "execution_count": 73,
   "metadata": {},
   "outputs": [
    {
     "data": {
      "image/png": "[encoded data removed]",
      "text/plain": [
       "<Figure size 432x288 with 2 Axes>"
      ]
     },
     "metadata": {
      "needs_background": "light"
     },
     "output_type": "display_data"
    }
   ],
   "source": [
    "df = DataFrame(new_matrix)  #, index=Index, columns=Cols)\n",
    "# plt.vlines(grid_lines, 0, n)\n",
    "# plt.hlines(grid_lines, 0, n)\n",
    "\n",
    "ax = sns.heatmap(df, annot=False, cmap=\"autumn\",xticklabels=[str(i*10) for i in range(0,11,1)], yticklabels=[str(100 - (i*10)) for i in range(0,11,1)], cbar_kws={'label': 'Average Approximation Ratio'})\n",
    "plt.xlabel(\"% of even degree nodes in the donor\")\n",
    "plt.ylabel(\"% of even degree nodes in acceptor\")\n",
    "#ax.tick_params(left=False, bottom=False) \n",
    "plt.show()"
   ]
  },
  {
   "cell_type": "markdown",
   "metadata": {},
   "source": [
    "# Replacing teh 40% and 50% columns graphs on that 55 parity plot"
   ]
  },
  {
   "cell_type": "code",
   "execution_count": 64,
   "metadata": {},
   "outputs": [],
   "source": [
    "imp_idx = []\n",
    "for i in range(110):\n",
    "    graph = g_list[i]\n",
    "    k = even_percent(graph)\n",
    "    if k in [0.4, 0.5]:\n",
    "        if i>55:\n",
    "            imp_idx.append(i)\n",
    "    else:\n",
    "        if i<55:\n",
    "            imp_idx.append(i)"
   ]
  },
  {
   "cell_type": "code",
   "execution_count": 65,
   "metadata": {},
   "outputs": [
    {
     "data": {
      "text/plain": [
       "[0,\n",
       " 1,\n",
       " 2,\n",
       " 3,\n",
       " 4,\n",
       " 5,\n",
       " 6,\n",
       " 7,\n",
       " 12,\n",
       " 13,\n",
       " 14,\n",
       " 15,\n",
       " 16,\n",
       " 17,\n",
       " 18,\n",
       " 19,\n",
       " 20,\n",
       " 21,\n",
       " 22,\n",
       " 23,\n",
       " 24,\n",
       " 25,\n",
       " 26,\n",
       " 27,\n",
       " 28,\n",
       " 29,\n",
       " 30,\n",
       " 31,\n",
       " 32,\n",
       " 33,\n",
       " 34,\n",
       " 35,\n",
       " 36,\n",
       " 37,\n",
       " 38,\n",
       " 39,\n",
       " 46,\n",
       " 47,\n",
       " 48,\n",
       " 49,\n",
       " 50,\n",
       " 51,\n",
       " 52,\n",
       " 53,\n",
       " 54,\n",
       " 75,\n",
       " 76,\n",
       " 77,\n",
       " 78,\n",
       " 79,\n",
       " 80,\n",
       " 81,\n",
       " 82,\n",
       " 83,\n",
       " 84]"
      ]
     },
     "execution_count": 65,
     "metadata": {},
     "output_type": "execute_result"
    }
   ],
   "source": [
    "imp_idx"
   ]
  },
  {
   "cell_type": "code",
   "execution_count": 67,
   "metadata": {},
   "outputs": [
    {
     "data": {
      "image/png": "[encoded data removed]",
      "text/plain": [
       "<Figure size 432x288 with 2 Axes>"
      ]
     },
     "metadata": {
      "needs_background": "light"
     },
     "output_type": "display_data"
    }
   ],
   "source": [
    "import numpy as np\n",
    "matrix = np.zeros((11,11,1000))\n",
    "pointer_matrix = np.zeros((11,11))\n",
    "\n",
    "##########################################################\n",
    "\n",
    "n_graphs = len(full_g_list)\n",
    "for i in range(110):\n",
    "  for j in range(110):\n",
    "    if (i not in imp_idx) or (j not in imp_idx):\n",
    "        continue\n",
    "    don = even_percent(full_g_list[i])\n",
    "    don_ind = int((don*10))\n",
    "    acc = even_percent(full_g_list[j])\n",
    "    acc_ind = int((acc*10))\n",
    "    a_sim = actual_sim[i*110 +j]\n",
    "    if a_sim is float(np.NAN):\n",
    "        continue\n",
    "\n",
    "    pointer = int(pointer_matrix[don_ind][acc_ind])\n",
    "    #pointer = int(pointer)\n",
    "    # print('#####')\n",
    "    # print(don)\n",
    "    # print(acc)\n",
    "    # print(don_ind)\n",
    "    # print(acc_ind)\n",
    "    # print(pointer)\n",
    "    #print(pointer_matrix[don_ind][acc_ind])\n",
    "    matrix[don_ind][acc_ind][pointer] = a_sim\n",
    "    pointer_matrix[don_ind][acc_ind] = pointer + 1    \n",
    "    \n",
    "#######################################################################\n",
    "\n",
    "new_matrix = np.zeros((11,11))\n",
    "for i in range(11):\n",
    "  for j in range(11):\n",
    "    terms = []\n",
    "    for k in range(int(pointer_matrix[i][j])):\n",
    "      terms.append(matrix[i][j][k])\n",
    "    new_matrix[11-j-1][i] = np.mean(terms)\n",
    "    \n",
    "##########################################################################\n",
    "\n",
    "df = DataFrame(new_matrix)  #, index=Index, columns=Cols)\n",
    "# plt.vlines(grid_lines, 0, n)\n",
    "# plt.hlines(grid_lines, 0, n)\n",
    "\n",
    "ax = sns.heatmap(df, annot=False, cmap=\"autumn\",xticklabels=[str(i*10) for i in range(0,11,1)], yticklabels=[str(100 - (i*10)) for i in range(0,11,1)], cbar_kws={'label': 'Average Approximation Ratio'})\n",
    "plt.xlabel(\"% of even degree nodes in the donor\")\n",
    "plt.ylabel(\"% of even degree nodes in acceptor\")\n",
    "#ax.tick_params(left=False, bottom=False) \n",
    "plt.show()"
   ]
  },
  {
   "cell_type": "code",
   "execution_count": 74,
   "metadata": {},
   "outputs": [
    {
     "data": {
      "image/png": "[encoded data removed]",
      "text/plain": [
       "<Figure size 432x288 with 2 Axes>"
      ]
     },
     "metadata": {
      "needs_background": "light"
     },
     "output_type": "display_data"
    }
   ],
   "source": [
    "imp_idx = [i for i in range(55, 110, 1)]\n",
    "\n",
    "#######################################################\n",
    "import numpy as np\n",
    "matrix = np.zeros((11,11,1000))\n",
    "pointer_matrix = np.zeros((11,11))\n",
    "\n",
    "##########################################################\n",
    "\n",
    "n_graphs = len(full_g_list)\n",
    "for i in range(110):\n",
    "  for j in range(110):\n",
    "    if (i not in imp_idx) or (j not in imp_idx):\n",
    "        continue\n",
    "    don = even_percent(full_g_list[i])\n",
    "    don_ind = int((don*10))\n",
    "    acc = even_percent(full_g_list[j])\n",
    "    acc_ind = int((acc*10))\n",
    "    a_sim = actual_sim[i*110 +j]\n",
    "    if a_sim is float(np.NAN):\n",
    "        continue\n",
    "\n",
    "    pointer = int(pointer_matrix[don_ind][acc_ind])\n",
    "    #pointer = int(pointer)\n",
    "    # print('#####')\n",
    "    # print(don)\n",
    "    # print(acc)\n",
    "    # print(don_ind)\n",
    "    # print(acc_ind)\n",
    "    # print(pointer)\n",
    "    #print(pointer_matrix[don_ind][acc_ind])\n",
    "    matrix[don_ind][acc_ind][pointer] = a_sim\n",
    "    pointer_matrix[don_ind][acc_ind] = pointer + 1    \n",
    "    \n",
    "#######################################################################\n",
    "\n",
    "new_matrix = np.zeros((11,11))\n",
    "for i in range(11):\n",
    "  for j in range(11):\n",
    "    terms = []\n",
    "    for k in range(int(pointer_matrix[i][j])):\n",
    "      terms.append(matrix[i][j][k])\n",
    "    new_matrix[11-j-1][i] = np.mean(terms)\n",
    "    \n",
    "##########################################################################\n",
    "\n",
    "df = DataFrame(new_matrix)  #, index=Index, columns=Cols)\n",
    "# plt.vlines(grid_lines, 0, n)\n",
    "# plt.hlines(grid_lines, 0, n)\n",
    "\n",
    "ax = sns.heatmap(df, annot=False, cmap=\"autumn\",xticklabels=[str(i*10) for i in range(0,11,1)], yticklabels=[str(100 - (i*10)) for i in range(0,11,1)], cbar_kws={'label': 'Average Approximation Ratio'})\n",
    "plt.xlabel(\"% of even degree nodes in the donor\")\n",
    "plt.ylabel(\"% of even degree nodes in acceptor\")\n",
    "#ax.tick_params(left=False, bottom=False) \n",
    "plt.show()"
   ]
  },
  {
   "cell_type": "code",
   "execution_count": null,
   "metadata": {},
   "outputs": [],
   "source": []
  }
 ],
 "metadata": {
  "kernelspec": {
   "display_name": "Python 3",
   "language": "python",
   "name": "python3"
  },
  "language_info": {
   "codemirror_mode": {
    "name": "ipython",
    "version": 3
   },
   "file_extension": ".py",
   "mimetype": "text/x-python",
   "name": "python",
   "nbconvert_exporter": "python",
   "pygments_lexer": "ipython3",
   "version": "3.7.6"
  }
 },
 "nbformat": 4,
 "nbformat_minor": 4
}
