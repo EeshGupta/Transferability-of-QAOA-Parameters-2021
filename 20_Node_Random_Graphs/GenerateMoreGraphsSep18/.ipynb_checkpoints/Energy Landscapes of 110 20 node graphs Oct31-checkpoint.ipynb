{
 "cells": [
  {
   "cell_type": "code",
   "execution_count": 1,
   "metadata": {},
   "outputs": [
    {
     "name": "stderr",
     "output_type": "stream",
     "text": [
      "2021-10-30 10:02:20,155- WARNING•\tQuickBB solver is unavailable\n",
      "2021-10-30 10:02:20,157- WARNING•\tTamaki solver is unavailable: No path /home/egupta/.local/lib/python3.7/site-packages/thirdparty/tamaki_treewidth\n"
     ]
    }
   ],
   "source": [
    "import warnings\n",
    "warnings.filterwarnings('ignore')\n",
    "\n",
    "#################\n",
    "# My notebook issues\n",
    "import os\n",
    "import sys\n",
    "nb_dir = os.path.split(os.getcwd())[0]\n",
    "if nb_dir not in sys.path:\n",
    "    sys.path.append(nb_dir)\n",
    "sys.path.append('home/egupta/.local/bin')\n",
    "\n",
    "##############\n",
    "\n",
    "import os\n",
    "import numpy as np\n",
    "import scipy.stats as ss\n",
    "import networkx as nx\n",
    "import csv \n",
    "import numpy as np\n",
    "import seaborn as sns\n",
    "from pandas import DataFrame\n",
    "from scipy.optimize import curve_fit\n",
    "import matplotlib\n",
    "from matplotlib import pyplot as plt\n",
    "\n",
    "%matplotlib inline\n",
    "\n",
    "\n",
    "##qtensor imports\n",
    "import qtensor\n",
    "from qtensor import QAOA_energy\n",
    "from qtensor import parameter_optimization as popt\n",
    "import torch"
   ]
  },
  {
   "cell_type": "markdown",
   "metadata": {},
   "source": [
    "# Importing Graphs"
   ]
  },
  {
   "cell_type": "code",
   "execution_count": 2,
   "metadata": {},
   "outputs": [],
   "source": [
    "file3 = open(\"New110Distinct20NodeRandomGraphs.txt\")\n",
    "file2 = open(\"New110Distinct20NodeRandomGraphsData.txt\")\n",
    "g_data = list(np.loadtxt(file2).reshape(110,20,4))\n",
    "mat_list = list(np.loadtxt(file3).reshape(110,20,20))\n",
    "def mats_to_graphs(mat_list):\n",
    "  \"\"\"\n",
    "  Given list of adjaceny matrix repr of graphs, converts to actual graphs\n",
    "  \"\"\"\n",
    "  g_list = []\n",
    "  for mat in mat_list:\n",
    "    arr = np.array(mat)\n",
    "    G = nx.convert_matrix.from_numpy_matrix(arr)\n",
    "    g_list.append(G)\n",
    "  return g_list\n",
    "g_list = mats_to_graphs(mat_list)\n"
   ]
  },
  {
   "cell_type": "code",
   "execution_count": 3,
   "metadata": {},
   "outputs": [],
   "source": [
    "def find_max_energy(results):\n",
    "    \"\"\"\n",
    "    Given multiple local optima, find the max\n",
    "    \"\"\"\n",
    "    energies = []\n",
    "    #print(results)\n",
    "    for i in range(len(results)):\n",
    "        energies.append(results[i][2])\n",
    "    return max(energies)"
   ]
  },
  {
   "cell_type": "code",
   "execution_count": 4,
   "metadata": {},
   "outputs": [],
   "source": [
    "max_energies = []\n",
    "for i in range(len(g_data)):\n",
    "    e = find_max_energy(g_data[i])\n",
    "    max_energies.append(e)"
   ]
  },
  {
   "cell_type": "markdown",
   "metadata": {},
   "source": [
    "# Evaluating energy landscapes "
   ]
  },
  {
   "cell_type": "code",
   "execution_count": 5,
   "metadata": {},
   "outputs": [],
   "source": [
    "def even_percent(graph):\n",
    "  \"\"\"\n",
    "  Determines the relative percent of even degree nodes\n",
    "  \"\"\"\n",
    "  nodes = graph.number_of_nodes()\n",
    "  tot_ev = 0\n",
    "  for i in range(nodes):\n",
    "    if graph.degree[i]%2 == 0:\n",
    "      tot_ev+=1\n",
    "  return tot_ev/nodes"
   ]
  },
  {
   "cell_type": "code",
   "execution_count": 7,
   "metadata": {},
   "outputs": [
    {
     "name": "stderr",
     "output_type": "stream",
     "text": [
      "IOPub message rate exceeded.\n",
      "The notebook server will temporarily stop sending output\n",
      "to the client in order to avoid crashing it.\n",
      "To change this limit, set the config variable\n",
      "`--NotebookApp.iopub_msg_rate_limit`.\n",
      "\n",
      "Current values:\n",
      "NotebookApp.iopub_msg_rate_limit=1000.0 (msgs/sec)\n",
      "NotebookApp.rate_limit_window=3.0 (secs)\n",
      "\n",
      "IOPub message rate exceeded.\n",
      "The notebook server will temporarily stop sending output\n",
      "to the client in order to avoid crashing it.\n",
      "To change this limit, set the config variable\n",
      "`--NotebookApp.iopub_msg_rate_limit`.\n",
      "\n",
      "Current values:\n",
      "NotebookApp.iopub_msg_rate_limit=1000.0 (msgs/sec)\n",
      "NotebookApp.rate_limit_window=3.0 (secs)\n",
      "\n",
      "IOPub message rate exceeded.\n",
      "The notebook server will temporarily stop sending output\n",
      "to the client in order to avoid crashing it.\n",
      "To change this limit, set the config variable\n",
      "`--NotebookApp.iopub_msg_rate_limit`.\n",
      "\n",
      "Current values:\n",
      "NotebookApp.iopub_msg_rate_limit=1000.0 (msgs/sec)\n",
      "NotebookApp.rate_limit_window=3.0 (secs)\n",
      "\n"
     ]
    }
   ],
   "source": [
    "%%capture\n",
    "datas = []\n",
    "step = 20\n",
    "graphs = g_list\n",
    "for k in range(len(graphs)):\n",
    "    gamma = np.linspace(0, 1, num = step)\n",
    "    beta = np.linspace(0, 0.5, num = step)\n",
    "    data = np.zeros((step, step))\n",
    "    \n",
    "    max_e = max_energies[k]\n",
    "\n",
    "    for i in range(step):\n",
    "      for j in range(step):\n",
    "        data[step-i-1, j] = (QAOA_energy(graphs[k], gamma = [gamma[i]], beta = [beta[j]]))/max_e\n",
    "    fig, ax = plt.subplots(figsize = (12, 7))\n",
    "    title = \"Energy landscape of graph indexed \"+str(k)\n",
    "    plt.title(title, fontsize = 18)\n",
    "    ttl = ax.title\n",
    "    ttl.set_position([0.5, 1.05])\n",
    "    sns.heatmap(data, ax = ax)\n",
    "    plt.show()\n",
    "    datas.append(data)"
   ]
  },
  {
   "cell_type": "code",
   "execution_count": 8,
   "metadata": {},
   "outputs": [],
   "source": [
    "b_file = open(\"EnergyLandscapes110RandomGraphsOct30(1).txt\", \"w\")\n",
    "for data_ in datas:\n",
    "    for row in data_:\n",
    "        np.savetxt(b_file, row)\n",
    "b_file.close()"
   ]
  },
  {
   "cell_type": "code",
   "execution_count": 9,
   "metadata": {},
   "outputs": [
    {
     "name": "stdout",
     "output_type": "stream",
     "text": [
      "[0, 11, 22, 23, 24, 25, 26, 27, 28, 29]\n",
      "[1, 12, 30, 31, 32, 33, 34, 35, 36, 37]\n",
      "[2, 13, 38, 39, 40, 41, 42, 43, 44, 45]\n",
      "[3, 14, 46, 47, 48, 49, 50, 51, 52, 53]\n",
      "[4, 15, 54, 55, 56, 57, 58, 59, 60, 61]\n",
      "[5, 16, 62, 63, 64, 65, 66, 67, 68, 69]\n",
      "[6, 17, 70, 71, 72, 73, 74, 75, 76, 77]\n",
      "[7, 18, 78, 79, 80, 81, 82, 83, 84, 85]\n",
      "[8, 19, 86, 87, 88, 89, 90, 91, 92, 93]\n",
      "[9, 20, 94, 95, 96, 97, 98, 99, 100, 101]\n",
      "[10, 21, 102, 103, 104, 105, 106, 107, 108, 109]\n"
     ]
    }
   ],
   "source": [
    "percents = [i/10 for i in range(0,11,1)]\n",
    "datas_av = []\n",
    "graphs = g_list\n",
    "for p in percents:\n",
    "    #identify all graphs with that percentage of even degree nodes \n",
    "    ind = []\n",
    "    for g_ind in range(len(graphs)):\n",
    "        if even_percent(graphs[g_ind]) == p:\n",
    "            ind.append(g_ind)\n",
    "    n = len(ind)\n",
    "    #now create averaged out energy landscapes\n",
    "    print(ind)\n",
    "    data_av = np.zeros((step, step))\n",
    "    for i in range(step):\n",
    "        for j in range(step):\n",
    "            ratios =[datas[k][i][j] for k in ind]\n",
    "            if n !=0:\n",
    "                data_av[i][j] = sum(ratios)/n\n",
    "    datas_av.append(data_av)\n",
    "            "
   ]
  },
  {
   "cell_type": "code",
   "execution_count": 10,
   "metadata": {},
   "outputs": [
    {
     "data": {
      "text/plain": [
       "20"
      ]
     },
     "execution_count": 10,
     "metadata": {},
     "output_type": "execute_result"
    }
   ],
   "source": [
    "step"
   ]
  },
  {
   "cell_type": "code",
   "execution_count": 11,
   "metadata": {},
   "outputs": [
    {
     "data": {
      "image/png": "[encoded data removed]",
      "text/plain": [
       "<Figure size 432x288 with 12 Axes>"
      ]
     },
     "metadata": {
      "needs_background": "light"
     },
     "output_type": "display_data"
    }
   ],
   "source": [
    "\n",
    "df = DataFrame(datas_av[1])\n",
    "\n",
    "fig, axn = plt.subplots(2, 6, sharex=True, sharey=True)\n",
    "fig.delaxes(axn[1,5]) #The indexing is zero-based here\n",
    "cbar_ax = fig.add_axes([.91, .3, .03, .4])\n",
    "\n",
    "for i, ax in enumerate(axn.flat):\n",
    "    if i !=11:\n",
    "        sns.heatmap(datas_av[i], ax=ax,\n",
    "                    cbar=i == 0,\n",
    "                    cbar_ax=None if i else cbar_ax)\n",
    "        ax.set_title( str(int(percents[i]*100)) + '%')#'Parity: ' +\n"
   ]
  },
  {
   "cell_type": "code",
   "execution_count": 51,
   "metadata": {},
   "outputs": [
    {
     "data": {
      "text/plain": [
       "0.1"
      ]
     },
     "execution_count": 51,
     "metadata": {},
     "output_type": "execute_result"
    }
   ],
   "source": [
    "percents[1]"
   ]
  },
  {
   "cell_type": "code",
   "execution_count": 45,
   "metadata": {},
   "outputs": [
    {
     "data": {
      "text/plain": [
       "array([[0.77941213, 0.77941213, 0.77941213, 0.77941213, 0.77941213],\n",
       "       [0.77941213, 0.80112941, 0.77941213, 0.75769486, 0.77941213],\n",
       "       [0.77941213, 0.77941213, 0.77941213, 0.77941213, 0.77941213],\n",
       "       [0.77941213, 0.75769486, 0.77941213, 0.80112941, 0.77941213],\n",
       "       [0.77941213, 0.77941213, 0.77941213, 0.77941213, 0.77941213]])"
      ]
     },
     "execution_count": 45,
     "metadata": {},
     "output_type": "execute_result"
    }
   ],
   "source": [
    "datas_av[8]"
   ]
  },
  {
   "cell_type": "code",
   "execution_count": 47,
   "metadata": {},
   "outputs": [
    {
     "data": {
      "text/plain": [
       "array([[0.77946757, 0.77946757, 0.77946757, 0.77946757, 0.77946757],\n",
       "       [0.77946757, 0.79997987, 0.77946757, 0.75895527, 0.77946757],\n",
       "       [0.77946757, 0.77946757, 0.77946757, 0.77946757, 0.77946757],\n",
       "       [0.77946757, 0.75895527, 0.77946757, 0.79997987, 0.77946757],\n",
       "       [0.77946757, 0.77946757, 0.77946757, 0.77946757, 0.77946757]])"
      ]
     },
     "execution_count": 47,
     "metadata": {},
     "output_type": "execute_result"
    }
   ],
   "source": [
    "datas[19]"
   ]
  },
  {
   "cell_type": "code",
   "execution_count": null,
   "metadata": {},
   "outputs": [],
   "source": []
  },
  {
   "cell_type": "code",
   "execution_count": null,
   "metadata": {},
   "outputs": [],
   "source": []
  },
  {
   "cell_type": "code",
   "execution_count": null,
   "metadata": {},
   "outputs": [],
   "source": []
  },
  {
   "cell_type": "code",
   "execution_count": null,
   "metadata": {},
   "outputs": [],
   "source": []
  }
 ],
 "metadata": {
  "kernelspec": {
   "display_name": "Python 3",
   "language": "python",
   "name": "python3"
  },
  "language_info": {
   "codemirror_mode": {
    "name": "ipython",
    "version": 3
   },
   "file_extension": ".py",
   "mimetype": "text/x-python",
   "name": "python",
   "nbconvert_exporter": "python",
   "pygments_lexer": "ipython3",
   "version": "3.7.6"
  }
 },
 "nbformat": 4,
 "nbformat_minor": 4
}
