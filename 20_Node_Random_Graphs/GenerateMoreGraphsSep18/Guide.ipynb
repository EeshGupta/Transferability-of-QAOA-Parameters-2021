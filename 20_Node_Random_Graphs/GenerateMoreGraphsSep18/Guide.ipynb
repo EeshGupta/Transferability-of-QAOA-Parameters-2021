{
 "cells": [
  {
   "cell_type": "markdown",
   "metadata": {},
   "source": [
    "# Aim\n",
    "To show how figures in this folder were generated"
   ]
  },
  {
   "cell_type": "markdown",
   "metadata": {},
   "source": [
    "## Table Of Contents :\n",
    "* [Generating Graphs](#first-bullet)\n",
    "* [Optimizing Graphs](#second-bullet)\n",
    "* [Computing Similarity](#third-bullet)\n",
    "* [Metrics](#fourth-bullet)\n",
    "* [Centers and Parity](#fifth-bullet)"
   ]
  },
  {
   "cell_type": "code",
   "execution_count": 3,
   "metadata": {},
   "outputs": [
    {
     "name": "stderr",
     "output_type": "stream",
     "text": [
      "2021-11-28 13:06:13,041- WARNING•\tQuickBB solver is unavailable\n",
      "2021-11-28 13:06:13,043- WARNING•\tTamaki solver is unavailable: No path /home/egupta/.local/lib/python3.7/site-packages/thirdparty/tamaki_treewidth\n"
     ]
    }
   ],
   "source": [
    "# Imports \n",
    "\n",
    "import warnings\n",
    "warnings.filterwarnings('ignore')\n",
    "\n",
    "#################\n",
    "# My notebook issues\n",
    "import os\n",
    "import sys\n",
    "nb_dir = os.path.split(os.getcwd())[0]\n",
    "if nb_dir not in sys.path:\n",
    "    sys.path.append(nb_dir)\n",
    "sys.path.append('home/egupta/.local/bin')\n",
    "\n",
    "##############\n",
    "\n",
    "import os\n",
    "import numpy as np\n",
    "import scipy.stats as ss\n",
    "import networkx as nx\n",
    "import csv \n",
    "import numpy as np\n",
    "import seaborn as sns\n",
    "from pandas import DataFrame\n",
    "from scipy.optimize import curve_fit\n",
    "import matplotlib\n",
    "from matplotlib import pyplot as plt\n",
    "\n",
    "%matplotlib inline\n",
    "\n",
    "\n",
    "##qtensor imports\n",
    "import qtensor\n",
    "from qtensor import QAOA_energy\n",
    "from qtensor import parameter_optimization as popt\n",
    "import torch"
   ]
  },
  {
   "cell_type": "markdown",
   "metadata": {},
   "source": [
    "## Generating Graphs <a class=\"anchor\" id=\"first-bullet\"></a>"
   ]
  },
  {
   "cell_type": "markdown",
   "metadata": {},
   "source": [
    "**Goal**: Generate 110 distinct 20-node random graphs, 10 for each parity (0,10,20, ..., 100 % even degree nodes). Degree of each node ranged from 1 to 6. \n",
    "\n",
    "**Notebook**: Create Graphs September 18.ipynb\n",
    "\n",
    "*Note: I had already generated 22 such graphs (2 for each parity) using similar methods in another notebook in another folder. So in the notebook above, I generated only 88 graphs (8 for each parity)*\n",
    "\n",
    "**Data Stored**: \"New110Distinct20NodeRandomGraphs.txt\"\n",
    "\n",
    "**Methods** \n",
    "* Largely used Networkx (nx) library: first generate random degree sequence (my own function generate_deg_seq()) with specified parity AND second use nx.random_degree_sequence_graph() to generate the graph with specified degree sequence\n",
    "* Details: Needed to make sure within each parity, all 10 graphs were isomorphic as well as connected\n",
    "* Details: Graphs stored as adjacency matrices"
   ]
  },
  {
   "cell_type": "code",
   "execution_count": 4,
   "metadata": {},
   "outputs": [
    {
     "data": {
      "image/png": "[encoded data removed]",
      "text/plain": [
       "<Figure size 432x288 with 1 Axes>"
      ]
     },
     "metadata": {},
     "output_type": "display_data"
    }
   ],
   "source": [
    "# How to use stored graphs\n",
    "\n",
    "##first import\n",
    "file = open(\"New110Distinct20NodeRandomGraphs.txt\")\n",
    "mat_list = np.loadtxt(file).reshape(110,20,20)\n",
    "\n",
    "def mats_to_graphs(mat_list):\n",
    "  \"\"\"\n",
    "  Given list of adjaceny matrix repr of graphs, converts to actual graphs\n",
    "  \"\"\"\n",
    "  g_list = []\n",
    "  for mat in mat_list:\n",
    "    arr = np.array(mat)\n",
    "    G = nx.convert_matrix.from_numpy_matrix(arr)\n",
    "    g_list.append(G)\n",
    "  return g_list\n",
    "\n",
    "g_list = mats_to_graphs(mat_list)\n",
    "\n",
    "## now call and draw those graphs\n",
    "i = 75\n",
    "nx.draw(g_list[i])"
   ]
  },
  {
   "cell_type": "markdown",
   "metadata": {},
   "source": [
    "## Optimizing Graphs <a class=\"anchor\" id=\"second-bullet\"></a>"
   ]
  },
  {
   "cell_type": "markdown",
   "metadata": {},
   "source": [
    "**Goal**: Find QAOA optimal parameters and energies for those generated graphs. \n",
    "\n",
    "**Notebook**: Optimize New Graphs(i) *for i = 1,2,...,6*\n",
    "\n",
    "*Note: I had already optimized 22 such graphs (2 for each parity) using similar methods in another notebook in another folder. So in the notebook above, I optimized only 88 graphs (8 for each parity)*\n",
    "\n",
    "*Note: Each graph took nearly 30 minutes to optimize. So to optimize all 110 graphs in less or (optimal hahah) time, I used paralleleization: optimized 15-20 graphs in one notebook, another 15-20 in another, etc. With this, I have 6 notebooks all titled 'Optimize New Graphs(i)'*\n",
    "\n",
    "**Data Stored**: New110Distinct20NodeRandomGraphsData.txt\n",
    "\n",
    "**Methods** \n",
    "* Largely used Qtensor: Optimized each graph 20 times (20 seeds) with max iteration set to 200 steps. All optimization runs had random initial parameters. Each run yielded 1 gamma parameter, 1 beta parameter 1 optimized energy, and 1 initial energy value.\n"
   ]
  },
  {
   "cell_type": "code",
   "execution_count": 10,
   "metadata": {},
   "outputs": [
    {
     "data": {
      "text/plain": [
       "array([ 0.09499374,  0.88048744, 18.08533964, 15.93582062])"
      ]
     },
     "execution_count": 10,
     "metadata": {},
     "output_type": "execute_result"
    }
   ],
   "source": [
    "# How to use stored graphs\n",
    "\n",
    "##first import\n",
    "file2 = open(\"New110Distinct20NodeRandomGraphsData.txt\")\n",
    "g_data = list(np.loadtxt(file2).reshape(110,20,4))\n",
    "\n",
    "##Now call\n",
    "i = 30\n",
    "j = 19 #between 0 to 19 since only 20 seeds\n",
    "g_data[i][j] # i'th graph, j'th seed or optimization run"
   ]
  },
  {
   "cell_type": "code",
   "execution_count": 11,
   "metadata": {},
   "outputs": [],
   "source": [
    "# first value is gamma, second beta, third is optimized energy, \n",
    "#fourth is initial energy"
   ]
  },
  {
   "cell_type": "markdown",
   "metadata": {},
   "source": [
    "## Computing Similarity <a class=\"anchor\" id=\"third-bullet\"></a>"
   ]
  },
  {
   "cell_type": "markdown",
   "metadata": {},
   "source": [
    "**Goal**: Compute True/Actual Similarity or Transferability of Optimal QAOA parameters between all possible pairs of the 110 graphs in datatset\n",
    "\n",
    "**Notebook**: Computing Similarity Metric T1 110 distinct Sep 19 ptX *for X = 1,2,...,6*\n",
    "\n",
    "*Note: Computing similarity of each graph pair took non-trivial amount of time (I think 2 minutes). So to compute similarity of 110^2 graph pairs in less or  time, I used parallelization: computed transferability of 22x110 graphs in one notebook,  etc. With this, I have 6 notebooks all titled 'Computing Similarity Metric T1 110 distinct Sep 19 ptX'*\n",
    "\n",
    "**Data Stored**: Similarity110DistinctSep19PtX.txt *for X = 1,2,...,6*\n",
    "\n",
    "**Methods** \n",
    "* To compute tranferability or similarity between each graph pair, we need to compute approximation ratios of acceptor graph as a function of the 20 optimal parameters of donor. And then the average approx ratio is the transferability coefficient. \n",
    "\n",
    "* At the same time, I compute Similarity Metric 1 which is referred to in notebook as subgraph similarity metric. This metric is average transferability across donor subgraph - acceptor p = 1 subgraph pairs (in other words, we need to compute the transferability matrix--the blue heatmap). This was done in the folder Transferability Matrices/Tranferability_Matrix_Random_1_6_June_23.ipynb\n",
    "\n",
    "* DEPRECATED: Mutual Similarity (or how subgraphs of a graph transfer amongst themselves)\n"
   ]
  },
  {
   "cell_type": "code",
   "execution_count": 13,
   "metadata": {},
   "outputs": [
    {
     "name": "stdout",
     "output_type": "stream",
     "text": [
      "0.9376697592793044\n",
      "0.927057860979914\n",
      "0.9827373835665554\n",
      "0.938006097853941\n"
     ]
    }
   ],
   "source": [
    "#Using the data \n",
    "\n",
    "## first import it\n",
    "datas = [[],[],[],[]]\n",
    "for i in range(1,6,1):\n",
    "    resi = []\n",
    "    \n",
    "    file = open('Similarity110DistinctSep19Pt'+str(i)+'.txt', 'r', newline = '')\n",
    "    resi = (np.loadtxt(file).reshape(4,2420)).tolist()\n",
    "    #print(len(resi))\n",
    "    for j in range(4):\n",
    "        for k in resi[j]:\n",
    "            datas[j].append(float(k))\n",
    "            \n",
    "## then use it \n",
    "i = 100  #donor graph\n",
    "j = 101  #acceptor graph\n",
    "k = i*110 + j # index of the pair\n",
    "for data in datas: \n",
    "    print(data[k])"
   ]
  },
  {
   "cell_type": "markdown",
   "metadata": {},
   "source": [
    "The 4 numbers are: \n",
    "* Mutual Similarity of Donor\n",
    "* Mutual Similarity of Acceptor\n",
    "* True Similarity (or transferability)\n",
    "* Similarity Metric 1 (subgraph similarity)"
   ]
  },
  {
   "cell_type": "markdown",
   "metadata": {},
   "source": [
    "## Metrics <a class=\"anchor\" id=\"fourth-bullet\"></a>"
   ]
  },
  {
   "cell_type": "markdown",
   "metadata": {},
   "source": [
    "### Similarity Metric 2 \n",
    "\n",
    "**Goal**: Compute Similarity Metric 2 for all graph pairs.\n",
    "\n",
    "**Notebook**: Newer Parity Metric Aug 30 Sep 23\n",
    "\n",
    "**Data Stored**: N/A *No need to store data because simple, non time consuming computation*\n",
    "\n",
    "**Methods** \n",
    "* Compute parity of even_percent() of a graph\n",
    "\n",
    "* Use parity of graphs in each graph pair to compute similarity metric 2 (see paper for exact formula)\n",
    "\n",
    "* Compare the metric computed against true similarity or transferability\n",
    "\n",
    "* Do above comparison but also consider parity of graph pair (see yellow heatmaps). Each square is an average approx ratio over all 10x10 graph pairs with similar donor parity -acceptor parity\n",
    "\n"
   ]
  },
  {
   "cell_type": "markdown",
   "metadata": {},
   "source": [
    "### Similarity Metric 3 \n",
    "\n",
    "**Goal**: Compute Similarity Metric 3 for all graph pairs.\n",
    "\n",
    "**Notebook**: New Parity Metric Sep 7 Sep 21\n",
    "\n",
    "**Data Stored**: N/A *No need to store data because simple, non time consuming computation*\n",
    "\n",
    "**Methods** \n",
    "* Compute parity of even_percent() of a graph\n",
    "\n",
    "* Use parity of graphs in each graph pair to compute similarity metric 2 (see paper for exact formula)\n",
    "\n",
    "* Compare the metric computed against true similarity or transferability\n",
    "\n",
    "* Do above comparison but also consider parity of graph pair (see yellow heatmaps). Each square is an average approx ratio over all 10x10 graph pairs with similar donor parity -acceptor parity\n"
   ]
  },
  {
   "cell_type": "markdown",
   "metadata": {},
   "source": [
    "## Centers and Parity <a class=\"anchor\" id=\"fifth-bullet\"></a>"
   ]
  },
  {
   "cell_type": "markdown",
   "metadata": {},
   "source": [
    "**Goal**: Analyze distribution of optimal parameters of graphs (analysis work for similarity metric 3)\n",
    "\n",
    "**Notebook**: Centers and Parity, Where are the centers Sep 21, Where are the Parameters\n",
    "\n",
    "**Data Stored**: N/A *No need to store data because simple, non time consuming computation*\n",
    "\n",
    "**Methods** \n",
    "* Plotting the obtained optimized parameters, observing clustering around 6 centers, computing approximation ratios at those 6 centers"
   ]
  },
  {
   "cell_type": "markdown",
   "metadata": {},
   "source": [
    "For any questions/queries, reach out Eesh Gupta at eag4013@gmail.com or eesh.gupta@rutgers.edu"
   ]
  }
 ],
 "metadata": {
  "kernelspec": {
   "display_name": "Python 3",
   "language": "python",
   "name": "python3"
  },
  "language_info": {
   "codemirror_mode": {
    "name": "ipython",
    "version": 3
   },
   "file_extension": ".py",
   "mimetype": "text/x-python",
   "name": "python",
   "nbconvert_exporter": "python",
   "pygments_lexer": "ipython3",
   "version": "3.7.6"
  }
 },
 "nbformat": 4,
 "nbformat_minor": 4
}
