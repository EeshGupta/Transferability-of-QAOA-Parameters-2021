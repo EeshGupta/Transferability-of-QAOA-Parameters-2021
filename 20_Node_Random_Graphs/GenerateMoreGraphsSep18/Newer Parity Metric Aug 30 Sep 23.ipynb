{
 "cells": [
  {
   "cell_type": "code",
   "execution_count": 1,
   "metadata": {},
   "outputs": [],
   "source": [
    "import warnings\n",
    "warnings.filterwarnings('ignore')\n",
    "\n",
    "#################\n",
    "# My notebook issues\n",
    "import os\n",
    "import sys\n",
    "nb_dir = os.path.split(os.getcwd())[0]\n",
    "if nb_dir not in sys.path:\n",
    "    sys.path.append(nb_dir)\n",
    "sys.path.append('home/egupta/.local/bin')\n",
    "\n",
    "##############\n",
    "\n",
    "import os\n",
    "import numpy as np\n",
    "import scipy.stats as ss\n",
    "import networkx as nx\n",
    "import csv \n",
    "import numpy as np\n",
    "import seaborn as sns\n",
    "from pandas import DataFrame\n",
    "from scipy.optimize import curve_fit\n",
    "import matplotlib\n",
    "from matplotlib import pyplot as plt\n",
    "\n",
    "%matplotlib inline\n",
    "\n",
    "##qtensor imports\n",
    "# import qtensor\n",
    "# from qtensor import QAOA_energy\n",
    "# from qtensor import parameter_optimization as popt\n",
    "# import torch"
   ]
  },
  {
   "cell_type": "code",
   "execution_count": 2,
   "metadata": {},
   "outputs": [],
   "source": [
    "file3 = open(\"New110Distinct20NodeRandomGraphs.txt\")\n",
    "mat_list = np.loadtxt(file3).reshape(110,20,20)\n",
    "def mats_to_graphs(mat_list):\n",
    "  \"\"\"\n",
    "  Given list of adjaceny matrix repr of graphs, converts to actual graphs\n",
    "  \"\"\"\n",
    "  g_list = []\n",
    "  for mat in mat_list:\n",
    "    arr = np.array(mat)\n",
    "    G = nx.convert_matrix.from_numpy_matrix(arr)\n",
    "    g_list.append(G)\n",
    "  return g_list\n",
    "g_list = mats_to_graphs(mat_list)\n",
    "graphs = g_list"
   ]
  },
  {
   "cell_type": "code",
   "execution_count": 3,
   "metadata": {},
   "outputs": [
    {
     "name": "stdout",
     "output_type": "stream",
     "text": [
      "4\n",
      "4\n",
      "4\n",
      "4\n",
      "4\n"
     ]
    }
   ],
   "source": [
    "datas = [[],[],[],[]]\n",
    "for i in range(1,6,1):\n",
    "    resi = []\n",
    "    \n",
    "    file = open('Similarity110DistinctSep19Pt'+str(i)+'.txt', 'r', newline = '')\n",
    "    resi = (np.loadtxt(file).reshape(4,2420)).tolist()\n",
    "    print(len(resi))\n",
    "    for j in range(4):\n",
    "        for k in resi[j]:\n",
    "            datas[j].append(float(k))\n",
    "            \n",
    "a = datas[2]\n",
    "b= datas[3]"
   ]
  },
  {
   "cell_type": "code",
   "execution_count": null,
   "metadata": {},
   "outputs": [],
   "source": []
  },
  {
   "cell_type": "code",
   "execution_count": 4,
   "metadata": {},
   "outputs": [],
   "source": [
    "graphs = g_list"
   ]
  },
  {
   "cell_type": "code",
   "execution_count": 5,
   "metadata": {},
   "outputs": [],
   "source": [
    "def even_percent(graph):\n",
    "  \"\"\"\n",
    "  Determines the relative percent of even degree nodes\n",
    "  \"\"\"\n",
    "  nodes = graph.number_of_nodes()\n",
    "  tot_ev = 0\n",
    "  for i in range(nodes):\n",
    "    if graph.degree[i]%2 == 0:\n",
    "      tot_ev+=1\n",
    "  return tot_ev/nodes\n",
    "\n",
    "ev_deg_dict ={}\n",
    "n = len(graphs)\n",
    "for i in range(n):\n",
    "  ev_deg_dict[i] = even_percent(graphs[i])"
   ]
  },
  {
   "cell_type": "code",
   "execution_count": 6,
   "metadata": {},
   "outputs": [
    {
     "data": {
      "text/plain": [
       "{0: 0.0,\n",
       " 1: 0.1,\n",
       " 2: 0.2,\n",
       " 3: 0.3,\n",
       " 4: 0.4,\n",
       " 5: 0.5,\n",
       " 6: 0.6,\n",
       " 7: 0.7,\n",
       " 8: 0.8,\n",
       " 9: 0.9,\n",
       " 10: 1.0,\n",
       " 11: 0.0,\n",
       " 12: 0.1,\n",
       " 13: 0.2,\n",
       " 14: 0.3,\n",
       " 15: 0.4,\n",
       " 16: 0.5,\n",
       " 17: 0.6,\n",
       " 18: 0.7,\n",
       " 19: 0.8,\n",
       " 20: 0.9,\n",
       " 21: 1.0,\n",
       " 22: 0.0,\n",
       " 23: 0.0,\n",
       " 24: 0.0,\n",
       " 25: 0.0,\n",
       " 26: 0.0,\n",
       " 27: 0.0,\n",
       " 28: 0.0,\n",
       " 29: 0.0,\n",
       " 30: 0.1,\n",
       " 31: 0.1,\n",
       " 32: 0.1,\n",
       " 33: 0.1,\n",
       " 34: 0.1,\n",
       " 35: 0.1,\n",
       " 36: 0.1,\n",
       " 37: 0.1,\n",
       " 38: 0.2,\n",
       " 39: 0.2,\n",
       " 40: 0.2,\n",
       " 41: 0.2,\n",
       " 42: 0.2,\n",
       " 43: 0.2,\n",
       " 44: 0.2,\n",
       " 45: 0.2,\n",
       " 46: 0.3,\n",
       " 47: 0.3,\n",
       " 48: 0.3,\n",
       " 49: 0.3,\n",
       " 50: 0.3,\n",
       " 51: 0.3,\n",
       " 52: 0.3,\n",
       " 53: 0.3,\n",
       " 54: 0.4,\n",
       " 55: 0.4,\n",
       " 56: 0.4,\n",
       " 57: 0.4,\n",
       " 58: 0.4,\n",
       " 59: 0.4,\n",
       " 60: 0.4,\n",
       " 61: 0.4,\n",
       " 62: 0.5,\n",
       " 63: 0.5,\n",
       " 64: 0.5,\n",
       " 65: 0.5,\n",
       " 66: 0.5,\n",
       " 67: 0.5,\n",
       " 68: 0.5,\n",
       " 69: 0.5,\n",
       " 70: 0.6,\n",
       " 71: 0.6,\n",
       " 72: 0.6,\n",
       " 73: 0.6,\n",
       " 74: 0.6,\n",
       " 75: 0.6,\n",
       " 76: 0.6,\n",
       " 77: 0.6,\n",
       " 78: 0.7,\n",
       " 79: 0.7,\n",
       " 80: 0.7,\n",
       " 81: 0.7,\n",
       " 82: 0.7,\n",
       " 83: 0.7,\n",
       " 84: 0.7,\n",
       " 85: 0.7,\n",
       " 86: 0.8,\n",
       " 87: 0.8,\n",
       " 88: 0.8,\n",
       " 89: 0.8,\n",
       " 90: 0.8,\n",
       " 91: 0.8,\n",
       " 92: 0.8,\n",
       " 93: 0.8,\n",
       " 94: 0.9,\n",
       " 95: 0.9,\n",
       " 96: 0.9,\n",
       " 97: 0.9,\n",
       " 98: 0.9,\n",
       " 99: 0.9,\n",
       " 100: 0.9,\n",
       " 101: 0.9,\n",
       " 102: 1.0,\n",
       " 103: 1.0,\n",
       " 104: 1.0,\n",
       " 105: 1.0,\n",
       " 106: 1.0,\n",
       " 107: 1.0,\n",
       " 108: 1.0,\n",
       " 109: 1.0}"
      ]
     },
     "execution_count": 6,
     "metadata": {},
     "output_type": "execute_result"
    }
   ],
   "source": [
    "ev_deg_dict"
   ]
  },
  {
   "cell_type": "markdown",
   "metadata": {},
   "source": [
    "# Here lies the computation of metric"
   ]
  },
  {
   "cell_type": "code",
   "execution_count": 10,
   "metadata": {},
   "outputs": [],
   "source": [
    "sim_metric = []\n",
    "lowest_av_trans = 0.7186 #from subgraph similarity metric data\n",
    "for i in range(len(g_list)):\n",
    "    for j in range(len(g_list)):\n",
    "        s = 1-(1-lowest_av_trans)*(abs(ev_deg_dict[i] - ev_deg_dict[j]))\n",
    "        sim_metric.append(s)"
   ]
  },
  {
   "cell_type": "code",
   "execution_count": 11,
   "metadata": {},
   "outputs": [],
   "source": [
    "from scipy.stats import gaussian_kde\n",
    "from matplotlib import cm\n",
    "from matplotlib.colors import Normalize"
   ]
  },
  {
   "cell_type": "code",
   "execution_count": 17,
   "metadata": {},
   "outputs": [
    {
     "data": {
      "image/png": "[encoded data removed]",
      "text/plain": [
       "<Figure size 432x288 with 2 Axes>"
      ]
     },
     "metadata": {
      "needs_background": "light"
     },
     "output_type": "display_data"
    }
   ],
   "source": [
    "fig , ax = plt.subplots()\n",
    "# Generate fake data\n",
    "x__ = sim_metric\n",
    "y__ = a\n",
    "\n",
    "# Calculate the point density\n",
    "xy = np.vstack([x__,y__])\n",
    "z = gaussian_kde(xy)(xy)\n",
    "\n",
    "#fig, ax = plt.subplots()\n",
    "ax.scatter(x__, y__, c=z, s=100)\n",
    "#plt.colorbar()\n",
    "# cbar = plt.colorbar(label = \"Number of graph pairs per marker\")\n",
    "\n",
    "\n",
    "\n",
    "norm = Normalize(vmin = np.min(z), vmax = np.max(z))\n",
    "cbar = fig.colorbar(cm.ScalarMappable(norm = norm), ax=ax)\n",
    "cbar.ax.set_ylabel('Number of graph pairs per marker')\n",
    "\n",
    "######################\n",
    "low = min(x__+y__)\n",
    "ax.plot([low, 1], [low, 1], color = 'gray', linestyle = '--')\n",
    "\n",
    "#####################\n",
    "ax.set_ylabel(\"True Similarity\")#, fontsize = 20)\n",
    "ax.set_xlabel(\"Similarity Metric 2\")#, fontsize = 20)\n",
    "fig.savefig(\"fig_SimilarityMetric2.pdf\", dpi = 1000)"
   ]
  },
  {
   "cell_type": "code",
   "execution_count": 18,
   "metadata": {},
   "outputs": [
    {
     "name": "stdout",
     "output_type": "stream",
     "text": [
      "0.002349656442128564\n"
     ]
    }
   ],
   "source": [
    "from sklearn.metrics import mean_squared_error\n",
    "mse = mean_squared_error(x__,y__)\n",
    "print(mse)"
   ]
  },
  {
   "cell_type": "code",
   "execution_count": 19,
   "metadata": {},
   "outputs": [
    {
     "data": {
      "text/plain": [
       "array([[1.        , 0.79627758],\n",
       "       [0.79627758, 1.        ]])"
      ]
     },
     "execution_count": 19,
     "metadata": {},
     "output_type": "execute_result"
    }
   ],
   "source": [
    "np.corrcoef(x__,y__)"
   ]
  },
  {
   "cell_type": "markdown",
   "metadata": {},
   "source": [
    "# Parity Plot"
   ]
  },
  {
   "cell_type": "code",
   "execution_count": 20,
   "metadata": {},
   "outputs": [],
   "source": [
    "import numpy as np\n",
    "matrix = np.zeros((11,11,1000))\n",
    "pointer_matrix = np.zeros((11,11))\n",
    "full_g_list = g_list\n",
    "#############################################\n",
    "n_graphs = len(full_g_list)\n",
    "for i in range(110):\n",
    "  for j in range(110):\n",
    "    don = even_percent(full_g_list[i])\n",
    "    don_ind = int((don*10))\n",
    "    acc = even_percent(full_g_list[j])\n",
    "    acc_ind = int((acc*10))\n",
    "    a_sim = sim_metric[i*110 +j]\n",
    "    if a_sim is float(np.NAN):\n",
    "        continue\n",
    "\n",
    "    pointer = int(pointer_matrix[don_ind][acc_ind])\n",
    "    #pointer = int(pointer)\n",
    "    # print('#####')\n",
    "    # print(don)\n",
    "    # print(acc)\n",
    "    # print(don_ind)\n",
    "    # print(acc_ind)\n",
    "    # print(pointer)\n",
    "    #print(pointer_matrix[don_ind][acc_ind])\n",
    "    matrix[don_ind][acc_ind][pointer] = a_sim\n",
    "    pointer_matrix[don_ind][acc_ind] = pointer + 1    \n",
    "##################################################\n",
    "new_matrix = np.zeros((11,11))\n",
    "for i in range(11):\n",
    "  for j in range(11):\n",
    "    terms = []\n",
    "    for k in range(int(pointer_matrix[i][j])):\n",
    "      terms.append(matrix[i][j][k])\n",
    "    new_matrix[11-j-1][i] = np.mean(terms)"
   ]
  },
  {
   "cell_type": "code",
   "execution_count": 22,
   "metadata": {},
   "outputs": [
    {
     "data": {
      "image/png": "[encoded data removed]",
      "text/plain": [
       "<Figure size 432x288 with 2 Axes>"
      ]
     },
     "metadata": {
      "needs_background": "light"
     },
     "output_type": "display_data"
    }
   ],
   "source": [
    "fig, ax = plt.subplots()\n",
    "df = DataFrame(new_matrix)  #, index=Index, columns=Cols)\n",
    "# plt.vlines(grid_lines, 0, n)\n",
    "# plt.hlines(grid_lines, 0, n)\n",
    "\n",
    "ax = sns.heatmap(df, annot=False, cmap=\"autumn\",xticklabels = [str(i) for i in range(0,110,10)], yticklabels= [str(100-i) for i in range(0,110,10)], cbar_kws={'label': 'Average Similarity Metric 2'})\n",
    "plt.xlabel(\"% of even degree nodes in the donor\")\n",
    "plt.ylabel(\"% of even degree nodes in acceptor\")\n",
    "#ax.tick_params(left=False, bottom=False) \n",
    "plt.show()\n",
    "fig.savefig(\"fig_SimilarityMetric2_parity.pdf\", dpi = 1000)"
   ]
  },
  {
   "cell_type": "code",
   "execution_count": null,
   "metadata": {},
   "outputs": [],
   "source": []
  }
 ],
 "metadata": {
  "kernelspec": {
   "display_name": "Python 3",
   "language": "python",
   "name": "python3"
  },
  "language_info": {
   "codemirror_mode": {
    "name": "ipython",
    "version": 3
   },
   "file_extension": ".py",
   "mimetype": "text/x-python",
   "name": "python",
   "nbconvert_exporter": "python",
   "pygments_lexer": "ipython3",
   "version": "3.7.6"
  }
 },
 "nbformat": 4,
 "nbformat_minor": 4
}
