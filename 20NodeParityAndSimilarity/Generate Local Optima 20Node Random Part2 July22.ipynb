{
 "cells": [
  {
   "cell_type": "markdown",
   "metadata": {},
   "source": [
    "Imports"
   ]
  },
  {
   "cell_type": "code",
   "execution_count": 1,
   "metadata": {},
   "outputs": [
    {
     "name": "stderr",
     "output_type": "stream",
     "text": [
      "2021-07-23 09:16:44,848- WARNING•\tQuickBB solver is unavailable\n",
      "2021-07-23 09:16:44,851- WARNING•\tTamaki solver is unavailable: No path /home/egupta/.local/lib/python3.7/site-packages/thirdparty/tamaki_treewidth\n"
     ]
    }
   ],
   "source": [
    "import warnings\n",
    "warnings.filterwarnings('ignore')\n",
    "\n",
    "#################\n",
    "# My notebook issues\n",
    "import os\n",
    "import sys\n",
    "nb_dir = os.path.split(os.getcwd())[0]\n",
    "if nb_dir not in sys.path:\n",
    "    sys.path.append(nb_dir)\n",
    "sys.path.append('home/egupta/.local/bin')\n",
    "\n",
    "##############\n",
    "\n",
    "import os\n",
    "import numpy as np\n",
    "import scipy.stats as ss\n",
    "import networkx as nx\n",
    "import csv \n",
    "import numpy as np\n",
    "import seaborn as sns\n",
    "from pandas import DataFrame\n",
    "from scipy.optimize import curve_fit\n",
    "import matplotlib\n",
    "from matplotlib import pyplot as plt\n",
    "\n",
    "%matplotlib inline\n",
    "\n",
    "##qtensor imports\n",
    "import qtensor\n",
    "from qtensor import QAOA_energy\n",
    "from qtensor import parameter_optimization as popt\n",
    "import torch"
   ]
  },
  {
   "cell_type": "markdown",
   "metadata": {},
   "source": [
    "# Grabbing Graphs"
   ]
  },
  {
   "cell_type": "code",
   "execution_count": 2,
   "metadata": {},
   "outputs": [],
   "source": [
    "resi = []\n",
    "with open('20NodeRandomGraph1 (2).csv', 'r', newline = '') as g:\n",
    "  spamreader = csv.reader(g, quotechar='|')\n",
    "  for row in spamreader:\n",
    "    resi.append(row)\n",
    "\n",
    "#convert bunch of rows to matrices\n",
    "n = int(len(resi)/20)\n",
    "mat_list = []\n",
    "for i in range(n):\n",
    "  array = []\n",
    "  for j in range(20):\n",
    "    row = resi[i*20 +j]\n",
    "    row = [float(k) for k in row]\n",
    "    array.append(row)\n",
    "  mat_list.append(array)"
   ]
  },
  {
   "cell_type": "code",
   "execution_count": 3,
   "metadata": {},
   "outputs": [],
   "source": [
    "def mats_to_graphs(mat_list):\n",
    "  \"\"\"\n",
    "  Given list of adjaceny matrix repr of graphs, converts to actual graphs\n",
    "  \"\"\"\n",
    "  g_list = []\n",
    "  for mat in mat_list:\n",
    "    arr = np.array(mat)\n",
    "    G = nx.convert_matrix.from_numpy_matrix(arr)\n",
    "    g_list.append(G)\n",
    "  return g_list"
   ]
  },
  {
   "cell_type": "code",
   "execution_count": 4,
   "metadata": {},
   "outputs": [],
   "source": [
    "g_list = mats_to_graphs(mat_list)"
   ]
  },
  {
   "cell_type": "code",
   "execution_count": 5,
   "metadata": {},
   "outputs": [
    {
     "data": {
      "text/plain": [
       "55"
      ]
     },
     "execution_count": 5,
     "metadata": {},
     "output_type": "execute_result"
    }
   ],
   "source": [
    "len(g_list)"
   ]
  },
  {
   "cell_type": "code",
   "execution_count": 6,
   "metadata": {},
   "outputs": [],
   "source": [
    "new_g_list = g_list[28:]"
   ]
  },
  {
   "cell_type": "code",
   "execution_count": 7,
   "metadata": {},
   "outputs": [
    {
     "data": {
      "text/plain": [
       "27"
      ]
     },
     "execution_count": 7,
     "metadata": {},
     "output_type": "execute_result"
    }
   ],
   "source": [
    "len(new_g_list)"
   ]
  },
  {
   "cell_type": "markdown",
   "metadata": {},
   "source": [
    "# FindingLocal Optima"
   ]
  },
  {
   "cell_type": "markdown",
   "metadata": {},
   "source": [
    "Old Function"
   ]
  },
  {
   "cell_type": "code",
   "execution_count": 8,
   "metadata": {},
   "outputs": [],
   "source": [
    "\n",
    "def get_qaoa_params(graph, edge=None, gamma=[0.5], beta=[0.5], steps=50):\n",
    "    loss_history, params_history = popt.qaoa_maxcut_torch(graph, gamma, beta,\n",
    "                                                          ordering_algo='greedy',\n",
    "                                                          Opt=torch.optim.RMSprop,\n",
    "                                                          edge=edge,\n",
    "                                                          opt_kwargs=dict(lr=0.002),\n",
    "                                                          steps=steps,\n",
    "                                                          pbar=False)\n",
    "    best_ix = np.argmin(loss_history)\n",
    "    return params_history[best_ix], loss_history[best_ix]\n",
    "\n",
    "def get_edge_contribution(graph, edge, gamma, beta):\n",
    "    sim = qtensor.QtreeSimulator()\n",
    "    composer = qtensor.DefaultQAOAComposer(graph, gamma=gamma, beta=beta)\n",
    "    composer.energy_expectation_lightcone(edge)\n",
    "    return np.real(sim.simulate_batch(composer.circuit)[0])\n",
    "\n",
    "def opt_runs(G, seeds = 20, steps = 200):\n",
    "  \"\"\"\n",
    "  Doing multiple optimization runs, each with random initialized param\n",
    "  Returning results which inlclude the optimal param and corresponding energies\n",
    "  \"\"\"\n",
    "\n",
    "  #first do 20 optimization runs \n",
    "  s = 0\n",
    "  g_results = []\n",
    "    \n",
    "  while s<seeds:\n",
    "    print('seed #' + str(s))\n",
    "    #initialize param\n",
    "    gamma = [np.random.rand()]\n",
    "    beta = [np.random.rand() ]\n",
    "    initial_energy = QAOA_energy(G,gamma =  gamma, beta = beta)\n",
    "\n",
    "    #optimization\n",
    "    params, loss = get_qaoa_params(G, gamma=gamma, beta=beta,edge = None, steps=steps)\n",
    "    #print('Finished get_qaoa_params')\n",
    "    gamma_opt, beta_opt = params[0], params[1]\n",
    "    opt_energy = QAOA_energy(G, gamma = gamma_opt, beta = beta_opt)\n",
    "\n",
    "    result = np.asarray([float(gamma_opt), float(beta_opt), float(opt_energy), float(initial_energy)])\n",
    "    g_results.append(result)\n",
    "\n",
    "    # comparing with max\n",
    "    s+=1\n",
    "\n",
    "  \n",
    "  return g_results"
   ]
  },
  {
   "cell_type": "markdown",
   "metadata": {},
   "source": [
    "Execution Code"
   ]
  },
  {
   "cell_type": "code",
   "execution_count": null,
   "metadata": {},
   "outputs": [
    {
     "name": "stdout",
     "output_type": "stream",
     "text": [
      "1\n",
      "seed #0\n"
     ]
    },
    {
     "data": {
      "application/vnd.jupyter.widget-view+json": {
       "model_id": "ec8287274c4e4c8a97b4bf8778c3f6fd",
       "version_major": 2,
       "version_minor": 0
      },
      "text/plain": [
       "HBox(children=(FloatProgress(value=0.0, description='Edge iteration', max=36.0, style=ProgressStyle(descriptio…"
      ]
     },
     "metadata": {},
     "output_type": "display_data"
    },
    {
     "name": "stdout",
     "output_type": "stream",
     "text": [
      "\n"
     ]
    },
    {
     "data": {
      "application/vnd.jupyter.widget-view+json": {
       "model_id": "974edeb36eb746cc8ffd3218435cc3ef",
       "version_major": 2,
       "version_minor": 0
      },
      "text/plain": [
       "HBox(children=(FloatProgress(value=0.0, description='Edge iteration', max=36.0, style=ProgressStyle(descriptio…"
      ]
     },
     "metadata": {},
     "output_type": "display_data"
    },
    {
     "name": "stdout",
     "output_type": "stream",
     "text": [
      "\n",
      "seed #1\n"
     ]
    },
    {
     "data": {
      "application/vnd.jupyter.widget-view+json": {
       "model_id": "1e47b008ef8a49df87a32143e19303df",
       "version_major": 2,
       "version_minor": 0
      },
      "text/plain": [
       "HBox(children=(FloatProgress(value=0.0, description='Edge iteration', max=36.0, style=ProgressStyle(descriptio…"
      ]
     },
     "metadata": {},
     "output_type": "display_data"
    },
    {
     "name": "stdout",
     "output_type": "stream",
     "text": [
      "\n"
     ]
    },
    {
     "data": {
      "application/vnd.jupyter.widget-view+json": {
       "model_id": "260b8c1047cf467ea4851504f6c7c83c",
       "version_major": 2,
       "version_minor": 0
      },
      "text/plain": [
       "HBox(children=(FloatProgress(value=0.0, description='Edge iteration', max=36.0, style=ProgressStyle(descriptio…"
      ]
     },
     "metadata": {},
     "output_type": "display_data"
    },
    {
     "name": "stdout",
     "output_type": "stream",
     "text": [
      "\n",
      "seed #2\n"
     ]
    },
    {
     "data": {
      "application/vnd.jupyter.widget-view+json": {
       "model_id": "55adbcdaf7eb4090aaedd4a572f42018",
       "version_major": 2,
       "version_minor": 0
      },
      "text/plain": [
       "HBox(children=(FloatProgress(value=0.0, description='Edge iteration', max=36.0, style=ProgressStyle(descriptio…"
      ]
     },
     "metadata": {},
     "output_type": "display_data"
    },
    {
     "name": "stdout",
     "output_type": "stream",
     "text": [
      "\n"
     ]
    },
    {
     "data": {
      "application/vnd.jupyter.widget-view+json": {
       "model_id": "26138a45d05b43e1bf219725e2daf80c",
       "version_major": 2,
       "version_minor": 0
      },
      "text/plain": [
       "HBox(children=(FloatProgress(value=0.0, description='Edge iteration', max=36.0, style=ProgressStyle(descriptio…"
      ]
     },
     "metadata": {},
     "output_type": "display_data"
    },
    {
     "name": "stdout",
     "output_type": "stream",
     "text": [
      "\n",
      "seed #3\n"
     ]
    },
    {
     "data": {
      "application/vnd.jupyter.widget-view+json": {
       "model_id": "b311c004d3ac4ad3a9f162c00ccfbdfd",
       "version_major": 2,
       "version_minor": 0
      },
      "text/plain": [
       "HBox(children=(FloatProgress(value=0.0, description='Edge iteration', max=36.0, style=ProgressStyle(descriptio…"
      ]
     },
     "metadata": {},
     "output_type": "display_data"
    },
    {
     "name": "stdout",
     "output_type": "stream",
     "text": [
      "\n"
     ]
    },
    {
     "data": {
      "application/vnd.jupyter.widget-view+json": {
       "model_id": "8d8184b12e9948a28a129ff2d14862ae",
       "version_major": 2,
       "version_minor": 0
      },
      "text/plain": [
       "HBox(children=(FloatProgress(value=0.0, description='Edge iteration', max=36.0, style=ProgressStyle(descriptio…"
      ]
     },
     "metadata": {},
     "output_type": "display_data"
    },
    {
     "name": "stdout",
     "output_type": "stream",
     "text": [
      "\n",
      "seed #4\n"
     ]
    },
    {
     "data": {
      "application/vnd.jupyter.widget-view+json": {
       "model_id": "f41edf9121114df1b57385d5c29597d6",
       "version_major": 2,
       "version_minor": 0
      },
      "text/plain": [
       "HBox(children=(FloatProgress(value=0.0, description='Edge iteration', max=36.0, style=ProgressStyle(descriptio…"
      ]
     },
     "metadata": {},
     "output_type": "display_data"
    },
    {
     "name": "stdout",
     "output_type": "stream",
     "text": [
      "\n"
     ]
    },
    {
     "data": {
      "application/vnd.jupyter.widget-view+json": {
       "model_id": "20056a1ea1a74b8fb56077606e6d13f9",
       "version_major": 2,
       "version_minor": 0
      },
      "text/plain": [
       "HBox(children=(FloatProgress(value=0.0, description='Edge iteration', max=36.0, style=ProgressStyle(descriptio…"
      ]
     },
     "metadata": {},
     "output_type": "display_data"
    },
    {
     "name": "stdout",
     "output_type": "stream",
     "text": [
      "\n",
      "seed #5\n"
     ]
    },
    {
     "data": {
      "application/vnd.jupyter.widget-view+json": {
       "model_id": "68840dd3a79e457fa7a5063ef782d998",
       "version_major": 2,
       "version_minor": 0
      },
      "text/plain": [
       "HBox(children=(FloatProgress(value=0.0, description='Edge iteration', max=36.0, style=ProgressStyle(descriptio…"
      ]
     },
     "metadata": {},
     "output_type": "display_data"
    },
    {
     "name": "stdout",
     "output_type": "stream",
     "text": [
      "\n"
     ]
    },
    {
     "data": {
      "application/vnd.jupyter.widget-view+json": {
       "model_id": "8a712cbbe0934cc3bca1aec7cf25e506",
       "version_major": 2,
       "version_minor": 0
      },
      "text/plain": [
       "HBox(children=(FloatProgress(value=0.0, description='Edge iteration', max=36.0, style=ProgressStyle(descriptio…"
      ]
     },
     "metadata": {},
     "output_type": "display_data"
    },
    {
     "name": "stdout",
     "output_type": "stream",
     "text": [
      "\n",
      "seed #6\n"
     ]
    },
    {
     "data": {
      "application/vnd.jupyter.widget-view+json": {
       "model_id": "abf5d0700b3540fd8a97203f38bea399",
       "version_major": 2,
       "version_minor": 0
      },
      "text/plain": [
       "HBox(children=(FloatProgress(value=0.0, description='Edge iteration', max=36.0, style=ProgressStyle(descriptio…"
      ]
     },
     "metadata": {},
     "output_type": "display_data"
    },
    {
     "name": "stdout",
     "output_type": "stream",
     "text": [
      "\n"
     ]
    },
    {
     "data": {
      "application/vnd.jupyter.widget-view+json": {
       "model_id": "c59b66221e6949cf9350f0eda499fe58",
       "version_major": 2,
       "version_minor": 0
      },
      "text/plain": [
       "HBox(children=(FloatProgress(value=0.0, description='Edge iteration', max=36.0, style=ProgressStyle(descriptio…"
      ]
     },
     "metadata": {},
     "output_type": "display_data"
    },
    {
     "name": "stdout",
     "output_type": "stream",
     "text": [
      "\n",
      "seed #7\n"
     ]
    },
    {
     "data": {
      "application/vnd.jupyter.widget-view+json": {
       "model_id": "f8753a83b2814b3596d499467f72f815",
       "version_major": 2,
       "version_minor": 0
      },
      "text/plain": [
       "HBox(children=(FloatProgress(value=0.0, description='Edge iteration', max=36.0, style=ProgressStyle(descriptio…"
      ]
     },
     "metadata": {},
     "output_type": "display_data"
    },
    {
     "name": "stdout",
     "output_type": "stream",
     "text": [
      "\n"
     ]
    },
    {
     "data": {
      "application/vnd.jupyter.widget-view+json": {
       "model_id": "90e724dae93e46baa1e998ce5daf683b",
       "version_major": 2,
       "version_minor": 0
      },
      "text/plain": [
       "HBox(children=(FloatProgress(value=0.0, description='Edge iteration', max=36.0, style=ProgressStyle(descriptio…"
      ]
     },
     "metadata": {},
     "output_type": "display_data"
    },
    {
     "name": "stdout",
     "output_type": "stream",
     "text": [
      "\n",
      "seed #8\n"
     ]
    },
    {
     "data": {
      "application/vnd.jupyter.widget-view+json": {
       "model_id": "d29cb2fbd6104d20a8ae1091fcd5d51f",
       "version_major": 2,
       "version_minor": 0
      },
      "text/plain": [
       "HBox(children=(FloatProgress(value=0.0, description='Edge iteration', max=36.0, style=ProgressStyle(descriptio…"
      ]
     },
     "metadata": {},
     "output_type": "display_data"
    },
    {
     "name": "stdout",
     "output_type": "stream",
     "text": [
      "\n"
     ]
    },
    {
     "data": {
      "application/vnd.jupyter.widget-view+json": {
       "model_id": "4b8cedf11a4046e08d13b017a0457073",
       "version_major": 2,
       "version_minor": 0
      },
      "text/plain": [
       "HBox(children=(FloatProgress(value=0.0, description='Edge iteration', max=36.0, style=ProgressStyle(descriptio…"
      ]
     },
     "metadata": {},
     "output_type": "display_data"
    },
    {
     "name": "stdout",
     "output_type": "stream",
     "text": [
      "\n",
      "seed #9\n"
     ]
    },
    {
     "data": {
      "application/vnd.jupyter.widget-view+json": {
       "model_id": "3b8517d6c49b47bcaac128ddf45d529a",
       "version_major": 2,
       "version_minor": 0
      },
      "text/plain": [
       "HBox(children=(FloatProgress(value=0.0, description='Edge iteration', max=36.0, style=ProgressStyle(descriptio…"
      ]
     },
     "metadata": {},
     "output_type": "display_data"
    },
    {
     "name": "stdout",
     "output_type": "stream",
     "text": [
      "\n"
     ]
    },
    {
     "data": {
      "application/vnd.jupyter.widget-view+json": {
       "model_id": "a6d6910cc2dd487fad4ac79e0f90b032",
       "version_major": 2,
       "version_minor": 0
      },
      "text/plain": [
       "HBox(children=(FloatProgress(value=0.0, description='Edge iteration', max=36.0, style=ProgressStyle(descriptio…"
      ]
     },
     "metadata": {},
     "output_type": "display_data"
    },
    {
     "name": "stdout",
     "output_type": "stream",
     "text": [
      "\n",
      "seed #10\n"
     ]
    },
    {
     "data": {
      "application/vnd.jupyter.widget-view+json": {
       "model_id": "e7eda83c00b94ae4a3a779c3bcdeb385",
       "version_major": 2,
       "version_minor": 0
      },
      "text/plain": [
       "HBox(children=(FloatProgress(value=0.0, description='Edge iteration', max=36.0, style=ProgressStyle(descriptio…"
      ]
     },
     "metadata": {},
     "output_type": "display_data"
    },
    {
     "name": "stdout",
     "output_type": "stream",
     "text": [
      "\n"
     ]
    },
    {
     "data": {
      "application/vnd.jupyter.widget-view+json": {
       "model_id": "7458885d81674483810080e13297ac87",
       "version_major": 2,
       "version_minor": 0
      },
      "text/plain": [
       "HBox(children=(FloatProgress(value=0.0, description='Edge iteration', max=36.0, style=ProgressStyle(descriptio…"
      ]
     },
     "metadata": {},
     "output_type": "display_data"
    },
    {
     "name": "stdout",
     "output_type": "stream",
     "text": [
      "\n",
      "seed #11\n"
     ]
    },
    {
     "data": {
      "application/vnd.jupyter.widget-view+json": {
       "model_id": "0bfd716145bd4466a7ce27d088f7d5c0",
       "version_major": 2,
       "version_minor": 0
      },
      "text/plain": [
       "HBox(children=(FloatProgress(value=0.0, description='Edge iteration', max=36.0, style=ProgressStyle(descriptio…"
      ]
     },
     "metadata": {},
     "output_type": "display_data"
    },
    {
     "name": "stdout",
     "output_type": "stream",
     "text": [
      "\n"
     ]
    },
    {
     "data": {
      "application/vnd.jupyter.widget-view+json": {
       "model_id": "a6ad77b05a28464890f351854043ea78",
       "version_major": 2,
       "version_minor": 0
      },
      "text/plain": [
       "HBox(children=(FloatProgress(value=0.0, description='Edge iteration', max=36.0, style=ProgressStyle(descriptio…"
      ]
     },
     "metadata": {},
     "output_type": "display_data"
    },
    {
     "name": "stdout",
     "output_type": "stream",
     "text": [
      "\n",
      "seed #12\n"
     ]
    },
    {
     "data": {
      "application/vnd.jupyter.widget-view+json": {
       "model_id": "38130a7ff4804bb88c470230c355d848",
       "version_major": 2,
       "version_minor": 0
      },
      "text/plain": [
       "HBox(children=(FloatProgress(value=0.0, description='Edge iteration', max=36.0, style=ProgressStyle(descriptio…"
      ]
     },
     "metadata": {},
     "output_type": "display_data"
    },
    {
     "name": "stdout",
     "output_type": "stream",
     "text": [
      "\n"
     ]
    },
    {
     "data": {
      "application/vnd.jupyter.widget-view+json": {
       "model_id": "6b681e6af7a445b08410f975635b900e",
       "version_major": 2,
       "version_minor": 0
      },
      "text/plain": [
       "HBox(children=(FloatProgress(value=0.0, description='Edge iteration', max=36.0, style=ProgressStyle(descriptio…"
      ]
     },
     "metadata": {},
     "output_type": "display_data"
    },
    {
     "name": "stdout",
     "output_type": "stream",
     "text": [
      "\n",
      "seed #13\n"
     ]
    },
    {
     "data": {
      "application/vnd.jupyter.widget-view+json": {
       "model_id": "5902d9c511864c5c97ba53a897f6b9e0",
       "version_major": 2,
       "version_minor": 0
      },
      "text/plain": [
       "HBox(children=(FloatProgress(value=0.0, description='Edge iteration', max=36.0, style=ProgressStyle(descriptio…"
      ]
     },
     "metadata": {},
     "output_type": "display_data"
    },
    {
     "name": "stdout",
     "output_type": "stream",
     "text": [
      "\n"
     ]
    },
    {
     "data": {
      "application/vnd.jupyter.widget-view+json": {
       "model_id": "36365684d7174c26a2d335542076b304",
       "version_major": 2,
       "version_minor": 0
      },
      "text/plain": [
       "HBox(children=(FloatProgress(value=0.0, description='Edge iteration', max=36.0, style=ProgressStyle(descriptio…"
      ]
     },
     "metadata": {},
     "output_type": "display_data"
    },
    {
     "name": "stdout",
     "output_type": "stream",
     "text": [
      "\n",
      "seed #14\n"
     ]
    },
    {
     "data": {
      "application/vnd.jupyter.widget-view+json": {
       "model_id": "aa62c18ce1d44624bc83a170460a0d39",
       "version_major": 2,
       "version_minor": 0
      },
      "text/plain": [
       "HBox(children=(FloatProgress(value=0.0, description='Edge iteration', max=36.0, style=ProgressStyle(descriptio…"
      ]
     },
     "metadata": {},
     "output_type": "display_data"
    },
    {
     "name": "stdout",
     "output_type": "stream",
     "text": [
      "\n"
     ]
    },
    {
     "data": {
      "application/vnd.jupyter.widget-view+json": {
       "model_id": "f3ce6069ac244ea9b38db5eecb396032",
       "version_major": 2,
       "version_minor": 0
      },
      "text/plain": [
       "HBox(children=(FloatProgress(value=0.0, description='Edge iteration', max=36.0, style=ProgressStyle(descriptio…"
      ]
     },
     "metadata": {},
     "output_type": "display_data"
    },
    {
     "name": "stdout",
     "output_type": "stream",
     "text": [
      "\n",
      "seed #15\n"
     ]
    },
    {
     "data": {
      "application/vnd.jupyter.widget-view+json": {
       "model_id": "37428812b8fe474aa0941a5f742bdac5",
       "version_major": 2,
       "version_minor": 0
      },
      "text/plain": [
       "HBox(children=(FloatProgress(value=0.0, description='Edge iteration', max=36.0, style=ProgressStyle(descriptio…"
      ]
     },
     "metadata": {},
     "output_type": "display_data"
    },
    {
     "name": "stdout",
     "output_type": "stream",
     "text": [
      "\n"
     ]
    },
    {
     "data": {
      "application/vnd.jupyter.widget-view+json": {
       "model_id": "2ddbdb59c3b34d4b816a2cace7ed0234",
       "version_major": 2,
       "version_minor": 0
      },
      "text/plain": [
       "HBox(children=(FloatProgress(value=0.0, description='Edge iteration', max=36.0, style=ProgressStyle(descriptio…"
      ]
     },
     "metadata": {},
     "output_type": "display_data"
    },
    {
     "name": "stdout",
     "output_type": "stream",
     "text": [
      "\n",
      "seed #16\n"
     ]
    },
    {
     "data": {
      "application/vnd.jupyter.widget-view+json": {
       "model_id": "2d0845a38b0642f5aee9fd09293b0b1b",
       "version_major": 2,
       "version_minor": 0
      },
      "text/plain": [
       "HBox(children=(FloatProgress(value=0.0, description='Edge iteration', max=36.0, style=ProgressStyle(descriptio…"
      ]
     },
     "metadata": {},
     "output_type": "display_data"
    },
    {
     "name": "stdout",
     "output_type": "stream",
     "text": [
      "\n"
     ]
    },
    {
     "data": {
      "application/vnd.jupyter.widget-view+json": {
       "model_id": "f743307a712047c19dc225edc53dae96",
       "version_major": 2,
       "version_minor": 0
      },
      "text/plain": [
       "HBox(children=(FloatProgress(value=0.0, description='Edge iteration', max=36.0, style=ProgressStyle(descriptio…"
      ]
     },
     "metadata": {},
     "output_type": "display_data"
    },
    {
     "name": "stdout",
     "output_type": "stream",
     "text": [
      "\n",
      "seed #17\n"
     ]
    },
    {
     "data": {
      "application/vnd.jupyter.widget-view+json": {
       "model_id": "3ea8bbd4e9d5471ba95bb86ac8848d6e",
       "version_major": 2,
       "version_minor": 0
      },
      "text/plain": [
       "HBox(children=(FloatProgress(value=0.0, description='Edge iteration', max=36.0, style=ProgressStyle(descriptio…"
      ]
     },
     "metadata": {},
     "output_type": "display_data"
    },
    {
     "name": "stdout",
     "output_type": "stream",
     "text": [
      "\n"
     ]
    },
    {
     "data": {
      "application/vnd.jupyter.widget-view+json": {
       "model_id": "288615ce0c174add98b4332e5e7087aa",
       "version_major": 2,
       "version_minor": 0
      },
      "text/plain": [
       "HBox(children=(FloatProgress(value=0.0, description='Edge iteration', max=36.0, style=ProgressStyle(descriptio…"
      ]
     },
     "metadata": {},
     "output_type": "display_data"
    },
    {
     "name": "stdout",
     "output_type": "stream",
     "text": [
      "\n",
      "seed #18\n"
     ]
    },
    {
     "data": {
      "application/vnd.jupyter.widget-view+json": {
       "model_id": "0a8d089dcb37477897d0493fabd42798",
       "version_major": 2,
       "version_minor": 0
      },
      "text/plain": [
       "HBox(children=(FloatProgress(value=0.0, description='Edge iteration', max=36.0, style=ProgressStyle(descriptio…"
      ]
     },
     "metadata": {},
     "output_type": "display_data"
    },
    {
     "name": "stdout",
     "output_type": "stream",
     "text": [
      "\n"
     ]
    },
    {
     "data": {
      "application/vnd.jupyter.widget-view+json": {
       "model_id": "59a01d38ee99419e869958c032043164",
       "version_major": 2,
       "version_minor": 0
      },
      "text/plain": [
       "HBox(children=(FloatProgress(value=0.0, description='Edge iteration', max=36.0, style=ProgressStyle(descriptio…"
      ]
     },
     "metadata": {},
     "output_type": "display_data"
    },
    {
     "name": "stdout",
     "output_type": "stream",
     "text": [
      "\n",
      "seed #19\n"
     ]
    },
    {
     "data": {
      "application/vnd.jupyter.widget-view+json": {
       "model_id": "a5970fd5ae684099956b9039ca229042",
       "version_major": 2,
       "version_minor": 0
      },
      "text/plain": [
       "HBox(children=(FloatProgress(value=0.0, description='Edge iteration', max=36.0, style=ProgressStyle(descriptio…"
      ]
     },
     "metadata": {},
     "output_type": "display_data"
    },
    {
     "name": "stdout",
     "output_type": "stream",
     "text": [
      "\n"
     ]
    },
    {
     "data": {
      "application/vnd.jupyter.widget-view+json": {
       "model_id": "006ccb37ce1a4281a21cf64dfa4a1a9a",
       "version_major": 2,
       "version_minor": 0
      },
      "text/plain": [
       "HBox(children=(FloatProgress(value=0.0, description='Edge iteration', max=36.0, style=ProgressStyle(descriptio…"
      ]
     },
     "metadata": {},
     "output_type": "display_data"
    },
    {
     "name": "stdout",
     "output_type": "stream",
     "text": [
      "\n",
      "2\n",
      "seed #0\n"
     ]
    },
    {
     "data": {
      "application/vnd.jupyter.widget-view+json": {
       "model_id": "6ba75adb1ebf4bad91fb65ae6a8b5a7d",
       "version_major": 2,
       "version_minor": 0
      },
      "text/plain": [
       "HBox(children=(FloatProgress(value=0.0, description='Edge iteration', max=36.0, style=ProgressStyle(descriptio…"
      ]
     },
     "metadata": {},
     "output_type": "display_data"
    },
    {
     "name": "stdout",
     "output_type": "stream",
     "text": [
      "\n"
     ]
    },
    {
     "data": {
      "application/vnd.jupyter.widget-view+json": {
       "model_id": "9dc412f38e784a5883199849d6d783e5",
       "version_major": 2,
       "version_minor": 0
      },
      "text/plain": [
       "HBox(children=(FloatProgress(value=0.0, description='Edge iteration', max=36.0, style=ProgressStyle(descriptio…"
      ]
     },
     "metadata": {},
     "output_type": "display_data"
    },
    {
     "name": "stdout",
     "output_type": "stream",
     "text": [
      "\n",
      "seed #1\n"
     ]
    },
    {
     "data": {
      "application/vnd.jupyter.widget-view+json": {
       "model_id": "c112b8987a8148ecb1025c3dd1698be2",
       "version_major": 2,
       "version_minor": 0
      },
      "text/plain": [
       "HBox(children=(FloatProgress(value=0.0, description='Edge iteration', max=36.0, style=ProgressStyle(descriptio…"
      ]
     },
     "metadata": {},
     "output_type": "display_data"
    },
    {
     "name": "stdout",
     "output_type": "stream",
     "text": [
      "\n"
     ]
    },
    {
     "data": {
      "application/vnd.jupyter.widget-view+json": {
       "model_id": "693569f324e846788f90a1e68778905e",
       "version_major": 2,
       "version_minor": 0
      },
      "text/plain": [
       "HBox(children=(FloatProgress(value=0.0, description='Edge iteration', max=36.0, style=ProgressStyle(descriptio…"
      ]
     },
     "metadata": {},
     "output_type": "display_data"
    },
    {
     "name": "stdout",
     "output_type": "stream",
     "text": [
      "\n",
      "seed #2\n"
     ]
    },
    {
     "data": {
      "application/vnd.jupyter.widget-view+json": {
       "model_id": "bcbc3f3bbda24a868069fc0f0b92464a",
       "version_major": 2,
       "version_minor": 0
      },
      "text/plain": [
       "HBox(children=(FloatProgress(value=0.0, description='Edge iteration', max=36.0, style=ProgressStyle(descriptio…"
      ]
     },
     "metadata": {},
     "output_type": "display_data"
    },
    {
     "name": "stdout",
     "output_type": "stream",
     "text": [
      "\n"
     ]
    },
    {
     "data": {
      "application/vnd.jupyter.widget-view+json": {
       "model_id": "a664890bffc74ec098821243ecd5dada",
       "version_major": 2,
       "version_minor": 0
      },
      "text/plain": [
       "HBox(children=(FloatProgress(value=0.0, description='Edge iteration', max=36.0, style=ProgressStyle(descriptio…"
      ]
     },
     "metadata": {},
     "output_type": "display_data"
    },
    {
     "name": "stdout",
     "output_type": "stream",
     "text": [
      "\n",
      "seed #3\n"
     ]
    },
    {
     "data": {
      "application/vnd.jupyter.widget-view+json": {
       "model_id": "2af70e6c5f3e429b8250c67d0b9460cc",
       "version_major": 2,
       "version_minor": 0
      },
      "text/plain": [
       "HBox(children=(FloatProgress(value=0.0, description='Edge iteration', max=36.0, style=ProgressStyle(descriptio…"
      ]
     },
     "metadata": {},
     "output_type": "display_data"
    },
    {
     "name": "stdout",
     "output_type": "stream",
     "text": [
      "\n"
     ]
    },
    {
     "data": {
      "application/vnd.jupyter.widget-view+json": {
       "model_id": "61aeaff1b168492f88356f9a6120cb20",
       "version_major": 2,
       "version_minor": 0
      },
      "text/plain": [
       "HBox(children=(FloatProgress(value=0.0, description='Edge iteration', max=36.0, style=ProgressStyle(descriptio…"
      ]
     },
     "metadata": {},
     "output_type": "display_data"
    },
    {
     "name": "stdout",
     "output_type": "stream",
     "text": [
      "\n",
      "seed #4\n"
     ]
    },
    {
     "data": {
      "application/vnd.jupyter.widget-view+json": {
       "model_id": "c620cbd626ee441e95254cf0db7bf490",
       "version_major": 2,
       "version_minor": 0
      },
      "text/plain": [
       "HBox(children=(FloatProgress(value=0.0, description='Edge iteration', max=36.0, style=ProgressStyle(descriptio…"
      ]
     },
     "metadata": {},
     "output_type": "display_data"
    },
    {
     "name": "stdout",
     "output_type": "stream",
     "text": [
      "\n"
     ]
    },
    {
     "data": {
      "application/vnd.jupyter.widget-view+json": {
       "model_id": "753fba09f70b44558b8a25417ae070e4",
       "version_major": 2,
       "version_minor": 0
      },
      "text/plain": [
       "HBox(children=(FloatProgress(value=0.0, description='Edge iteration', max=36.0, style=ProgressStyle(descriptio…"
      ]
     },
     "metadata": {},
     "output_type": "display_data"
    },
    {
     "name": "stdout",
     "output_type": "stream",
     "text": [
      "\n",
      "seed #5\n"
     ]
    },
    {
     "data": {
      "application/vnd.jupyter.widget-view+json": {
       "model_id": "feaa3e9811f24d27bd5a84e0229e72a6",
       "version_major": 2,
       "version_minor": 0
      },
      "text/plain": [
       "HBox(children=(FloatProgress(value=0.0, description='Edge iteration', max=36.0, style=ProgressStyle(descriptio…"
      ]
     },
     "metadata": {},
     "output_type": "display_data"
    },
    {
     "name": "stdout",
     "output_type": "stream",
     "text": [
      "\n"
     ]
    },
    {
     "data": {
      "application/vnd.jupyter.widget-view+json": {
       "model_id": "210138e826654d65baa368839e0fd166",
       "version_major": 2,
       "version_minor": 0
      },
      "text/plain": [
       "HBox(children=(FloatProgress(value=0.0, description='Edge iteration', max=36.0, style=ProgressStyle(descriptio…"
      ]
     },
     "metadata": {},
     "output_type": "display_data"
    },
    {
     "name": "stdout",
     "output_type": "stream",
     "text": [
      "\n",
      "seed #6\n"
     ]
    },
    {
     "data": {
      "application/vnd.jupyter.widget-view+json": {
       "model_id": "987a14997e944ba08684085f5bea426d",
       "version_major": 2,
       "version_minor": 0
      },
      "text/plain": [
       "HBox(children=(FloatProgress(value=0.0, description='Edge iteration', max=36.0, style=ProgressStyle(descriptio…"
      ]
     },
     "metadata": {},
     "output_type": "display_data"
    },
    {
     "name": "stdout",
     "output_type": "stream",
     "text": [
      "\n"
     ]
    },
    {
     "data": {
      "application/vnd.jupyter.widget-view+json": {
       "model_id": "2f07c356e2a347a2aa73bcca57f4e321",
       "version_major": 2,
       "version_minor": 0
      },
      "text/plain": [
       "HBox(children=(FloatProgress(value=0.0, description='Edge iteration', max=36.0, style=ProgressStyle(descriptio…"
      ]
     },
     "metadata": {},
     "output_type": "display_data"
    },
    {
     "name": "stdout",
     "output_type": "stream",
     "text": [
      "\n",
      "seed #7\n"
     ]
    },
    {
     "data": {
      "application/vnd.jupyter.widget-view+json": {
       "model_id": "10cd497b236346a48a8b2d379128cd12",
       "version_major": 2,
       "version_minor": 0
      },
      "text/plain": [
       "HBox(children=(FloatProgress(value=0.0, description='Edge iteration', max=36.0, style=ProgressStyle(descriptio…"
      ]
     },
     "metadata": {},
     "output_type": "display_data"
    },
    {
     "name": "stdout",
     "output_type": "stream",
     "text": [
      "\n"
     ]
    },
    {
     "data": {
      "application/vnd.jupyter.widget-view+json": {
       "model_id": "a7e9a81782a84d408fbd7289c067d4f0",
       "version_major": 2,
       "version_minor": 0
      },
      "text/plain": [
       "HBox(children=(FloatProgress(value=0.0, description='Edge iteration', max=36.0, style=ProgressStyle(descriptio…"
      ]
     },
     "metadata": {},
     "output_type": "display_data"
    },
    {
     "name": "stdout",
     "output_type": "stream",
     "text": [
      "\n",
      "seed #8\n"
     ]
    },
    {
     "data": {
      "application/vnd.jupyter.widget-view+json": {
       "model_id": "99a6dd021e0b44b1998ae19ac6d911e2",
       "version_major": 2,
       "version_minor": 0
      },
      "text/plain": [
       "HBox(children=(FloatProgress(value=0.0, description='Edge iteration', max=36.0, style=ProgressStyle(descriptio…"
      ]
     },
     "metadata": {},
     "output_type": "display_data"
    },
    {
     "name": "stdout",
     "output_type": "stream",
     "text": [
      "\n"
     ]
    },
    {
     "data": {
      "application/vnd.jupyter.widget-view+json": {
       "model_id": "c4168535aa634fd69f9ceb9edd9350cd",
       "version_major": 2,
       "version_minor": 0
      },
      "text/plain": [
       "HBox(children=(FloatProgress(value=0.0, description='Edge iteration', max=36.0, style=ProgressStyle(descriptio…"
      ]
     },
     "metadata": {},
     "output_type": "display_data"
    },
    {
     "name": "stdout",
     "output_type": "stream",
     "text": [
      "\n",
      "seed #9\n"
     ]
    },
    {
     "data": {
      "application/vnd.jupyter.widget-view+json": {
       "model_id": "59ac97b901784b0c931fc26d80feb3a5",
       "version_major": 2,
       "version_minor": 0
      },
      "text/plain": [
       "HBox(children=(FloatProgress(value=0.0, description='Edge iteration', max=36.0, style=ProgressStyle(descriptio…"
      ]
     },
     "metadata": {},
     "output_type": "display_data"
    },
    {
     "name": "stdout",
     "output_type": "stream",
     "text": [
      "\n"
     ]
    },
    {
     "data": {
      "application/vnd.jupyter.widget-view+json": {
       "model_id": "8a523dedd8e14321ba1f6265612a953d",
       "version_major": 2,
       "version_minor": 0
      },
      "text/plain": [
       "HBox(children=(FloatProgress(value=0.0, description='Edge iteration', max=36.0, style=ProgressStyle(descriptio…"
      ]
     },
     "metadata": {},
     "output_type": "display_data"
    },
    {
     "name": "stdout",
     "output_type": "stream",
     "text": [
      "\n",
      "seed #10\n"
     ]
    },
    {
     "data": {
      "application/vnd.jupyter.widget-view+json": {
       "model_id": "8954b833868f4e32bffe6d895765da0a",
       "version_major": 2,
       "version_minor": 0
      },
      "text/plain": [
       "HBox(children=(FloatProgress(value=0.0, description='Edge iteration', max=36.0, style=ProgressStyle(descriptio…"
      ]
     },
     "metadata": {},
     "output_type": "display_data"
    },
    {
     "name": "stdout",
     "output_type": "stream",
     "text": [
      "\n"
     ]
    },
    {
     "data": {
      "application/vnd.jupyter.widget-view+json": {
       "model_id": "247badb90be3473eb4927748eaa9d0ce",
       "version_major": 2,
       "version_minor": 0
      },
      "text/plain": [
       "HBox(children=(FloatProgress(value=0.0, description='Edge iteration', max=36.0, style=ProgressStyle(descriptio…"
      ]
     },
     "metadata": {},
     "output_type": "display_data"
    },
    {
     "name": "stdout",
     "output_type": "stream",
     "text": [
      "\n",
      "seed #11\n"
     ]
    },
    {
     "data": {
      "application/vnd.jupyter.widget-view+json": {
       "model_id": "66dd06c9b2704aefacd23191eed8b721",
       "version_major": 2,
       "version_minor": 0
      },
      "text/plain": [
       "HBox(children=(FloatProgress(value=0.0, description='Edge iteration', max=36.0, style=ProgressStyle(descriptio…"
      ]
     },
     "metadata": {},
     "output_type": "display_data"
    },
    {
     "name": "stdout",
     "output_type": "stream",
     "text": [
      "\n"
     ]
    },
    {
     "data": {
      "application/vnd.jupyter.widget-view+json": {
       "model_id": "c1c90b0ec1254d76968dda7e69848e58",
       "version_major": 2,
       "version_minor": 0
      },
      "text/plain": [
       "HBox(children=(FloatProgress(value=0.0, description='Edge iteration', max=36.0, style=ProgressStyle(descriptio…"
      ]
     },
     "metadata": {},
     "output_type": "display_data"
    },
    {
     "name": "stdout",
     "output_type": "stream",
     "text": [
      "\n",
      "seed #12\n"
     ]
    },
    {
     "data": {
      "application/vnd.jupyter.widget-view+json": {
       "model_id": "8288905a459c48059758e3717fcc7c10",
       "version_major": 2,
       "version_minor": 0
      },
      "text/plain": [
       "HBox(children=(FloatProgress(value=0.0, description='Edge iteration', max=36.0, style=ProgressStyle(descriptio…"
      ]
     },
     "metadata": {},
     "output_type": "display_data"
    },
    {
     "name": "stdout",
     "output_type": "stream",
     "text": [
      "\n"
     ]
    },
    {
     "data": {
      "application/vnd.jupyter.widget-view+json": {
       "model_id": "3471bb54b73a4033ac1181d0f41b6361",
       "version_major": 2,
       "version_minor": 0
      },
      "text/plain": [
       "HBox(children=(FloatProgress(value=0.0, description='Edge iteration', max=36.0, style=ProgressStyle(descriptio…"
      ]
     },
     "metadata": {},
     "output_type": "display_data"
    },
    {
     "name": "stdout",
     "output_type": "stream",
     "text": [
      "\n",
      "seed #13\n"
     ]
    },
    {
     "data": {
      "application/vnd.jupyter.widget-view+json": {
       "model_id": "f4135ae50dd5467e9069c4f237454b48",
       "version_major": 2,
       "version_minor": 0
      },
      "text/plain": [
       "HBox(children=(FloatProgress(value=0.0, description='Edge iteration', max=36.0, style=ProgressStyle(descriptio…"
      ]
     },
     "metadata": {},
     "output_type": "display_data"
    },
    {
     "name": "stdout",
     "output_type": "stream",
     "text": [
      "\n"
     ]
    },
    {
     "data": {
      "application/vnd.jupyter.widget-view+json": {
       "model_id": "3b478241c8e04cf8b8ef8450fe8ba53c",
       "version_major": 2,
       "version_minor": 0
      },
      "text/plain": [
       "HBox(children=(FloatProgress(value=0.0, description='Edge iteration', max=36.0, style=ProgressStyle(descriptio…"
      ]
     },
     "metadata": {},
     "output_type": "display_data"
    },
    {
     "name": "stdout",
     "output_type": "stream",
     "text": [
      "\n",
      "seed #14\n"
     ]
    },
    {
     "data": {
      "application/vnd.jupyter.widget-view+json": {
       "model_id": "7663f3095c924820a61e0231de6bfdc5",
       "version_major": 2,
       "version_minor": 0
      },
      "text/plain": [
       "HBox(children=(FloatProgress(value=0.0, description='Edge iteration', max=36.0, style=ProgressStyle(descriptio…"
      ]
     },
     "metadata": {},
     "output_type": "display_data"
    },
    {
     "name": "stdout",
     "output_type": "stream",
     "text": [
      "\n"
     ]
    },
    {
     "data": {
      "application/vnd.jupyter.widget-view+json": {
       "model_id": "ec573f95038d4dc99f681dff71842061",
       "version_major": 2,
       "version_minor": 0
      },
      "text/plain": [
       "HBox(children=(FloatProgress(value=0.0, description='Edge iteration', max=36.0, style=ProgressStyle(descriptio…"
      ]
     },
     "metadata": {},
     "output_type": "display_data"
    },
    {
     "name": "stdout",
     "output_type": "stream",
     "text": [
      "\n",
      "seed #15\n"
     ]
    },
    {
     "data": {
      "application/vnd.jupyter.widget-view+json": {
       "model_id": "e67bf1cb45d74595ada00d102ca1e403",
       "version_major": 2,
       "version_minor": 0
      },
      "text/plain": [
       "HBox(children=(FloatProgress(value=0.0, description='Edge iteration', max=36.0, style=ProgressStyle(descriptio…"
      ]
     },
     "metadata": {},
     "output_type": "display_data"
    },
    {
     "name": "stdout",
     "output_type": "stream",
     "text": [
      "\n"
     ]
    },
    {
     "data": {
      "application/vnd.jupyter.widget-view+json": {
       "model_id": "f7f03ac9739f437198d00a18bec47534",
       "version_major": 2,
       "version_minor": 0
      },
      "text/plain": [
       "HBox(children=(FloatProgress(value=0.0, description='Edge iteration', max=36.0, style=ProgressStyle(descriptio…"
      ]
     },
     "metadata": {},
     "output_type": "display_data"
    },
    {
     "name": "stdout",
     "output_type": "stream",
     "text": [
      "\n",
      "seed #16\n"
     ]
    },
    {
     "data": {
      "application/vnd.jupyter.widget-view+json": {
       "model_id": "8497859a31d44b81b5e0dd9800ad7206",
       "version_major": 2,
       "version_minor": 0
      },
      "text/plain": [
       "HBox(children=(FloatProgress(value=0.0, description='Edge iteration', max=36.0, style=ProgressStyle(descriptio…"
      ]
     },
     "metadata": {},
     "output_type": "display_data"
    },
    {
     "name": "stdout",
     "output_type": "stream",
     "text": [
      "\n"
     ]
    },
    {
     "data": {
      "application/vnd.jupyter.widget-view+json": {
       "model_id": "958e51574b6847c88a07620f3c74c8ee",
       "version_major": 2,
       "version_minor": 0
      },
      "text/plain": [
       "HBox(children=(FloatProgress(value=0.0, description='Edge iteration', max=36.0, style=ProgressStyle(descriptio…"
      ]
     },
     "metadata": {},
     "output_type": "display_data"
    },
    {
     "name": "stdout",
     "output_type": "stream",
     "text": [
      "\n",
      "seed #17\n"
     ]
    },
    {
     "data": {
      "application/vnd.jupyter.widget-view+json": {
       "model_id": "9841869014e64721ac9f80e7b38475e5",
       "version_major": 2,
       "version_minor": 0
      },
      "text/plain": [
       "HBox(children=(FloatProgress(value=0.0, description='Edge iteration', max=36.0, style=ProgressStyle(descriptio…"
      ]
     },
     "metadata": {},
     "output_type": "display_data"
    },
    {
     "name": "stdout",
     "output_type": "stream",
     "text": [
      "\n"
     ]
    },
    {
     "data": {
      "application/vnd.jupyter.widget-view+json": {
       "model_id": "0656404cf92d4d519743c789e6e53af0",
       "version_major": 2,
       "version_minor": 0
      },
      "text/plain": [
       "HBox(children=(FloatProgress(value=0.0, description='Edge iteration', max=36.0, style=ProgressStyle(descriptio…"
      ]
     },
     "metadata": {},
     "output_type": "display_data"
    },
    {
     "name": "stdout",
     "output_type": "stream",
     "text": [
      "\n",
      "seed #18\n"
     ]
    },
    {
     "data": {
      "application/vnd.jupyter.widget-view+json": {
       "model_id": "62ee8a9b57624859bb4b41ff51086c9c",
       "version_major": 2,
       "version_minor": 0
      },
      "text/plain": [
       "HBox(children=(FloatProgress(value=0.0, description='Edge iteration', max=36.0, style=ProgressStyle(descriptio…"
      ]
     },
     "metadata": {},
     "output_type": "display_data"
    },
    {
     "name": "stdout",
     "output_type": "stream",
     "text": [
      "\n"
     ]
    },
    {
     "data": {
      "application/vnd.jupyter.widget-view+json": {
       "model_id": "cda17d7f36464b84a6d1abf45a491b9d",
       "version_major": 2,
       "version_minor": 0
      },
      "text/plain": [
       "HBox(children=(FloatProgress(value=0.0, description='Edge iteration', max=36.0, style=ProgressStyle(descriptio…"
      ]
     },
     "metadata": {},
     "output_type": "display_data"
    },
    {
     "name": "stdout",
     "output_type": "stream",
     "text": [
      "\n",
      "seed #19\n"
     ]
    },
    {
     "data": {
      "application/vnd.jupyter.widget-view+json": {
       "model_id": "5cea8f2991504da2b5fc244f4e02cd11",
       "version_major": 2,
       "version_minor": 0
      },
      "text/plain": [
       "HBox(children=(FloatProgress(value=0.0, description='Edge iteration', max=36.0, style=ProgressStyle(descriptio…"
      ]
     },
     "metadata": {},
     "output_type": "display_data"
    },
    {
     "name": "stdout",
     "output_type": "stream",
     "text": [
      "\n"
     ]
    },
    {
     "data": {
      "application/vnd.jupyter.widget-view+json": {
       "model_id": "14e2c6042fbe468197b9fcd9c3d9060f",
       "version_major": 2,
       "version_minor": 0
      },
      "text/plain": [
       "HBox(children=(FloatProgress(value=0.0, description='Edge iteration', max=36.0, style=ProgressStyle(descriptio…"
      ]
     },
     "metadata": {},
     "output_type": "display_data"
    },
    {
     "name": "stdout",
     "output_type": "stream",
     "text": [
      "\n",
      "3\n",
      "seed #0\n"
     ]
    },
    {
     "data": {
      "application/vnd.jupyter.widget-view+json": {
       "model_id": "319ebc48b0f2400c948ae623a18ec408",
       "version_major": 2,
       "version_minor": 0
      },
      "text/plain": [
       "HBox(children=(FloatProgress(value=0.0, description='Edge iteration', max=36.0, style=ProgressStyle(descriptio…"
      ]
     },
     "metadata": {},
     "output_type": "display_data"
    },
    {
     "name": "stdout",
     "output_type": "stream",
     "text": [
      "\n"
     ]
    },
    {
     "data": {
      "application/vnd.jupyter.widget-view+json": {
       "model_id": "5a6291ce423b4c48a1146c4c34ce8f05",
       "version_major": 2,
       "version_minor": 0
      },
      "text/plain": [
       "HBox(children=(FloatProgress(value=0.0, description='Edge iteration', max=36.0, style=ProgressStyle(descriptio…"
      ]
     },
     "metadata": {},
     "output_type": "display_data"
    },
    {
     "name": "stdout",
     "output_type": "stream",
     "text": [
      "\n",
      "seed #1\n"
     ]
    },
    {
     "data": {
      "application/vnd.jupyter.widget-view+json": {
       "model_id": "c590aa3007e44eb1b4f0accfaeeb820d",
       "version_major": 2,
       "version_minor": 0
      },
      "text/plain": [
       "HBox(children=(FloatProgress(value=0.0, description='Edge iteration', max=36.0, style=ProgressStyle(descriptio…"
      ]
     },
     "metadata": {},
     "output_type": "display_data"
    },
    {
     "name": "stdout",
     "output_type": "stream",
     "text": [
      "\n"
     ]
    },
    {
     "data": {
      "application/vnd.jupyter.widget-view+json": {
       "model_id": "45682b2977db4219b4f97bf9bcc431d9",
       "version_major": 2,
       "version_minor": 0
      },
      "text/plain": [
       "HBox(children=(FloatProgress(value=0.0, description='Edge iteration', max=36.0, style=ProgressStyle(descriptio…"
      ]
     },
     "metadata": {},
     "output_type": "display_data"
    },
    {
     "name": "stdout",
     "output_type": "stream",
     "text": [
      "\n",
      "seed #2\n"
     ]
    },
    {
     "data": {
      "application/vnd.jupyter.widget-view+json": {
       "model_id": "cc732ac5bb1044e097cab8166578a2af",
       "version_major": 2,
       "version_minor": 0
      },
      "text/plain": [
       "HBox(children=(FloatProgress(value=0.0, description='Edge iteration', max=36.0, style=ProgressStyle(descriptio…"
      ]
     },
     "metadata": {},
     "output_type": "display_data"
    },
    {
     "name": "stdout",
     "output_type": "stream",
     "text": [
      "\n"
     ]
    },
    {
     "data": {
      "application/vnd.jupyter.widget-view+json": {
       "model_id": "cd0ddb32501e44c69edca2b1538c4501",
       "version_major": 2,
       "version_minor": 0
      },
      "text/plain": [
       "HBox(children=(FloatProgress(value=0.0, description='Edge iteration', max=36.0, style=ProgressStyle(descriptio…"
      ]
     },
     "metadata": {},
     "output_type": "display_data"
    },
    {
     "name": "stdout",
     "output_type": "stream",
     "text": [
      "\n",
      "seed #3\n"
     ]
    },
    {
     "data": {
      "application/vnd.jupyter.widget-view+json": {
       "model_id": "5be87a10af36481daafde5b5dac8b688",
       "version_major": 2,
       "version_minor": 0
      },
      "text/plain": [
       "HBox(children=(FloatProgress(value=0.0, description='Edge iteration', max=36.0, style=ProgressStyle(descriptio…"
      ]
     },
     "metadata": {},
     "output_type": "display_data"
    },
    {
     "name": "stdout",
     "output_type": "stream",
     "text": [
      "\n"
     ]
    },
    {
     "data": {
      "application/vnd.jupyter.widget-view+json": {
       "model_id": "3e1acbee77e74418a3931d3ed46a3759",
       "version_major": 2,
       "version_minor": 0
      },
      "text/plain": [
       "HBox(children=(FloatProgress(value=0.0, description='Edge iteration', max=36.0, style=ProgressStyle(descriptio…"
      ]
     },
     "metadata": {},
     "output_type": "display_data"
    },
    {
     "name": "stdout",
     "output_type": "stream",
     "text": [
      "\n",
      "seed #4\n"
     ]
    },
    {
     "data": {
      "application/vnd.jupyter.widget-view+json": {
       "model_id": "9b1be49aa27c474e9c7c7b15ffb21d49",
       "version_major": 2,
       "version_minor": 0
      },
      "text/plain": [
       "HBox(children=(FloatProgress(value=0.0, description='Edge iteration', max=36.0, style=ProgressStyle(descriptio…"
      ]
     },
     "metadata": {},
     "output_type": "display_data"
    },
    {
     "name": "stdout",
     "output_type": "stream",
     "text": [
      "\n"
     ]
    },
    {
     "data": {
      "application/vnd.jupyter.widget-view+json": {
       "model_id": "a7fbd1aefd4f48809d7c2270bb6dd11c",
       "version_major": 2,
       "version_minor": 0
      },
      "text/plain": [
       "HBox(children=(FloatProgress(value=0.0, description='Edge iteration', max=36.0, style=ProgressStyle(descriptio…"
      ]
     },
     "metadata": {},
     "output_type": "display_data"
    },
    {
     "name": "stdout",
     "output_type": "stream",
     "text": [
      "\n",
      "seed #5\n"
     ]
    },
    {
     "data": {
      "application/vnd.jupyter.widget-view+json": {
       "model_id": "e40bdf9eaacd4d6ea1cca699771dba34",
       "version_major": 2,
       "version_minor": 0
      },
      "text/plain": [
       "HBox(children=(FloatProgress(value=0.0, description='Edge iteration', max=36.0, style=ProgressStyle(descriptio…"
      ]
     },
     "metadata": {},
     "output_type": "display_data"
    },
    {
     "name": "stdout",
     "output_type": "stream",
     "text": [
      "\n"
     ]
    },
    {
     "data": {
      "application/vnd.jupyter.widget-view+json": {
       "model_id": "bfa586aa80ce4385841dcaafa100d169",
       "version_major": 2,
       "version_minor": 0
      },
      "text/plain": [
       "HBox(children=(FloatProgress(value=0.0, description='Edge iteration', max=36.0, style=ProgressStyle(descriptio…"
      ]
     },
     "metadata": {},
     "output_type": "display_data"
    },
    {
     "name": "stdout",
     "output_type": "stream",
     "text": [
      "\n",
      "seed #6\n"
     ]
    },
    {
     "data": {
      "application/vnd.jupyter.widget-view+json": {
       "model_id": "6f7c5ba18d4b4be8a4cf45f269bdaa3f",
       "version_major": 2,
       "version_minor": 0
      },
      "text/plain": [
       "HBox(children=(FloatProgress(value=0.0, description='Edge iteration', max=36.0, style=ProgressStyle(descriptio…"
      ]
     },
     "metadata": {},
     "output_type": "display_data"
    },
    {
     "name": "stdout",
     "output_type": "stream",
     "text": [
      "\n"
     ]
    },
    {
     "data": {
      "application/vnd.jupyter.widget-view+json": {
       "model_id": "91bf6b30d51b4382b60a0e68498a6e8a",
       "version_major": 2,
       "version_minor": 0
      },
      "text/plain": [
       "HBox(children=(FloatProgress(value=0.0, description='Edge iteration', max=36.0, style=ProgressStyle(descriptio…"
      ]
     },
     "metadata": {},
     "output_type": "display_data"
    },
    {
     "name": "stdout",
     "output_type": "stream",
     "text": [
      "\n",
      "seed #7\n"
     ]
    },
    {
     "data": {
      "application/vnd.jupyter.widget-view+json": {
       "model_id": "8913447d7680429391f77d3a6f120794",
       "version_major": 2,
       "version_minor": 0
      },
      "text/plain": [
       "HBox(children=(FloatProgress(value=0.0, description='Edge iteration', max=36.0, style=ProgressStyle(descriptio…"
      ]
     },
     "metadata": {},
     "output_type": "display_data"
    },
    {
     "name": "stdout",
     "output_type": "stream",
     "text": [
      "\n"
     ]
    },
    {
     "data": {
      "application/vnd.jupyter.widget-view+json": {
       "model_id": "5260fdaf3bcc4ff1b03625202a4d9d84",
       "version_major": 2,
       "version_minor": 0
      },
      "text/plain": [
       "HBox(children=(FloatProgress(value=0.0, description='Edge iteration', max=36.0, style=ProgressStyle(descriptio…"
      ]
     },
     "metadata": {},
     "output_type": "display_data"
    },
    {
     "name": "stdout",
     "output_type": "stream",
     "text": [
      "\n",
      "seed #8\n"
     ]
    },
    {
     "data": {
      "application/vnd.jupyter.widget-view+json": {
       "model_id": "29597bdde5894ec491c10e9354fa917b",
       "version_major": 2,
       "version_minor": 0
      },
      "text/plain": [
       "HBox(children=(FloatProgress(value=0.0, description='Edge iteration', max=36.0, style=ProgressStyle(descriptio…"
      ]
     },
     "metadata": {},
     "output_type": "display_data"
    },
    {
     "name": "stdout",
     "output_type": "stream",
     "text": [
      "\n"
     ]
    },
    {
     "data": {
      "application/vnd.jupyter.widget-view+json": {
       "model_id": "14dfafb1245d48eb9f7a9325197445fe",
       "version_major": 2,
       "version_minor": 0
      },
      "text/plain": [
       "HBox(children=(FloatProgress(value=0.0, description='Edge iteration', max=36.0, style=ProgressStyle(descriptio…"
      ]
     },
     "metadata": {},
     "output_type": "display_data"
    },
    {
     "name": "stdout",
     "output_type": "stream",
     "text": [
      "\n",
      "seed #9\n"
     ]
    },
    {
     "data": {
      "application/vnd.jupyter.widget-view+json": {
       "model_id": "3c79eea9885a4fbbb28e51713adb986a",
       "version_major": 2,
       "version_minor": 0
      },
      "text/plain": [
       "HBox(children=(FloatProgress(value=0.0, description='Edge iteration', max=36.0, style=ProgressStyle(descriptio…"
      ]
     },
     "metadata": {},
     "output_type": "display_data"
    },
    {
     "name": "stdout",
     "output_type": "stream",
     "text": [
      "\n"
     ]
    },
    {
     "data": {
      "application/vnd.jupyter.widget-view+json": {
       "model_id": "e87afa1e59c24fdb8e3a5e799887db07",
       "version_major": 2,
       "version_minor": 0
      },
      "text/plain": [
       "HBox(children=(FloatProgress(value=0.0, description='Edge iteration', max=36.0, style=ProgressStyle(descriptio…"
      ]
     },
     "metadata": {},
     "output_type": "display_data"
    },
    {
     "name": "stdout",
     "output_type": "stream",
     "text": [
      "\n",
      "seed #10\n"
     ]
    },
    {
     "data": {
      "application/vnd.jupyter.widget-view+json": {
       "model_id": "0ef0f68756a743f398de093129c8f0bc",
       "version_major": 2,
       "version_minor": 0
      },
      "text/plain": [
       "HBox(children=(FloatProgress(value=0.0, description='Edge iteration', max=36.0, style=ProgressStyle(descriptio…"
      ]
     },
     "metadata": {},
     "output_type": "display_data"
    },
    {
     "name": "stdout",
     "output_type": "stream",
     "text": [
      "\n"
     ]
    },
    {
     "data": {
      "application/vnd.jupyter.widget-view+json": {
       "model_id": "23cf595048ce4823bad03fba94b5b600",
       "version_major": 2,
       "version_minor": 0
      },
      "text/plain": [
       "HBox(children=(FloatProgress(value=0.0, description='Edge iteration', max=36.0, style=ProgressStyle(descriptio…"
      ]
     },
     "metadata": {},
     "output_type": "display_data"
    },
    {
     "name": "stdout",
     "output_type": "stream",
     "text": [
      "\n",
      "seed #11\n"
     ]
    },
    {
     "data": {
      "application/vnd.jupyter.widget-view+json": {
       "model_id": "38b4bc0dcfe0492794c7189688308700",
       "version_major": 2,
       "version_minor": 0
      },
      "text/plain": [
       "HBox(children=(FloatProgress(value=0.0, description='Edge iteration', max=36.0, style=ProgressStyle(descriptio…"
      ]
     },
     "metadata": {},
     "output_type": "display_data"
    },
    {
     "name": "stdout",
     "output_type": "stream",
     "text": [
      "\n"
     ]
    },
    {
     "data": {
      "application/vnd.jupyter.widget-view+json": {
       "model_id": "da7a5d2d3cd64980830af9603f93987f",
       "version_major": 2,
       "version_minor": 0
      },
      "text/plain": [
       "HBox(children=(FloatProgress(value=0.0, description='Edge iteration', max=36.0, style=ProgressStyle(descriptio…"
      ]
     },
     "metadata": {},
     "output_type": "display_data"
    },
    {
     "name": "stdout",
     "output_type": "stream",
     "text": [
      "\n",
      "seed #12\n"
     ]
    },
    {
     "data": {
      "application/vnd.jupyter.widget-view+json": {
       "model_id": "8dddc33259f9420290721fde86016544",
       "version_major": 2,
       "version_minor": 0
      },
      "text/plain": [
       "HBox(children=(FloatProgress(value=0.0, description='Edge iteration', max=36.0, style=ProgressStyle(descriptio…"
      ]
     },
     "metadata": {},
     "output_type": "display_data"
    },
    {
     "name": "stdout",
     "output_type": "stream",
     "text": [
      "\n"
     ]
    },
    {
     "data": {
      "application/vnd.jupyter.widget-view+json": {
       "model_id": "d189901da50e477abe7b8a671597f5be",
       "version_major": 2,
       "version_minor": 0
      },
      "text/plain": [
       "HBox(children=(FloatProgress(value=0.0, description='Edge iteration', max=36.0, style=ProgressStyle(descriptio…"
      ]
     },
     "metadata": {},
     "output_type": "display_data"
    },
    {
     "name": "stdout",
     "output_type": "stream",
     "text": [
      "\n",
      "seed #13\n"
     ]
    },
    {
     "data": {
      "application/vnd.jupyter.widget-view+json": {
       "model_id": "ba7f010e09614eb7be9a00351fd6bcfb",
       "version_major": 2,
       "version_minor": 0
      },
      "text/plain": [
       "HBox(children=(FloatProgress(value=0.0, description='Edge iteration', max=36.0, style=ProgressStyle(descriptio…"
      ]
     },
     "metadata": {},
     "output_type": "display_data"
    },
    {
     "name": "stdout",
     "output_type": "stream",
     "text": [
      "\n"
     ]
    },
    {
     "data": {
      "application/vnd.jupyter.widget-view+json": {
       "model_id": "db7a876d93ec4f779fdee7f71487aa83",
       "version_major": 2,
       "version_minor": 0
      },
      "text/plain": [
       "HBox(children=(FloatProgress(value=0.0, description='Edge iteration', max=36.0, style=ProgressStyle(descriptio…"
      ]
     },
     "metadata": {},
     "output_type": "display_data"
    },
    {
     "name": "stdout",
     "output_type": "stream",
     "text": [
      "\n",
      "seed #14\n"
     ]
    },
    {
     "data": {
      "application/vnd.jupyter.widget-view+json": {
       "model_id": "e4f724059e2e402484e7004470fd3920",
       "version_major": 2,
       "version_minor": 0
      },
      "text/plain": [
       "HBox(children=(FloatProgress(value=0.0, description='Edge iteration', max=36.0, style=ProgressStyle(descriptio…"
      ]
     },
     "metadata": {},
     "output_type": "display_data"
    },
    {
     "name": "stdout",
     "output_type": "stream",
     "text": [
      "\n"
     ]
    },
    {
     "data": {
      "application/vnd.jupyter.widget-view+json": {
       "model_id": "6a9e98f217454f69abb4103f0836e322",
       "version_major": 2,
       "version_minor": 0
      },
      "text/plain": [
       "HBox(children=(FloatProgress(value=0.0, description='Edge iteration', max=36.0, style=ProgressStyle(descriptio…"
      ]
     },
     "metadata": {},
     "output_type": "display_data"
    },
    {
     "name": "stdout",
     "output_type": "stream",
     "text": [
      "\n",
      "seed #15\n"
     ]
    },
    {
     "data": {
      "application/vnd.jupyter.widget-view+json": {
       "model_id": "6d95675d56a54bdc912c7e2ced06a7a7",
       "version_major": 2,
       "version_minor": 0
      },
      "text/plain": [
       "HBox(children=(FloatProgress(value=0.0, description='Edge iteration', max=36.0, style=ProgressStyle(descriptio…"
      ]
     },
     "metadata": {},
     "output_type": "display_data"
    },
    {
     "name": "stdout",
     "output_type": "stream",
     "text": [
      "\n"
     ]
    },
    {
     "data": {
      "application/vnd.jupyter.widget-view+json": {
       "model_id": "22e6be9acfc1476891aea1cb36552204",
       "version_major": 2,
       "version_minor": 0
      },
      "text/plain": [
       "HBox(children=(FloatProgress(value=0.0, description='Edge iteration', max=36.0, style=ProgressStyle(descriptio…"
      ]
     },
     "metadata": {},
     "output_type": "display_data"
    },
    {
     "name": "stdout",
     "output_type": "stream",
     "text": [
      "\n",
      "seed #16\n"
     ]
    },
    {
     "data": {
      "application/vnd.jupyter.widget-view+json": {
       "model_id": "9ba1ccf89c144e8397edb2cd866abd02",
       "version_major": 2,
       "version_minor": 0
      },
      "text/plain": [
       "HBox(children=(FloatProgress(value=0.0, description='Edge iteration', max=36.0, style=ProgressStyle(descriptio…"
      ]
     },
     "metadata": {},
     "output_type": "display_data"
    },
    {
     "name": "stdout",
     "output_type": "stream",
     "text": [
      "\n"
     ]
    },
    {
     "data": {
      "application/vnd.jupyter.widget-view+json": {
       "model_id": "2982e8af22c743e181b9a6f87f900f6e",
       "version_major": 2,
       "version_minor": 0
      },
      "text/plain": [
       "HBox(children=(FloatProgress(value=0.0, description='Edge iteration', max=36.0, style=ProgressStyle(descriptio…"
      ]
     },
     "metadata": {},
     "output_type": "display_data"
    },
    {
     "name": "stdout",
     "output_type": "stream",
     "text": [
      "\n",
      "seed #17\n"
     ]
    },
    {
     "data": {
      "application/vnd.jupyter.widget-view+json": {
       "model_id": "08cf8cbf89634e1cba9f21363d31e7d9",
       "version_major": 2,
       "version_minor": 0
      },
      "text/plain": [
       "HBox(children=(FloatProgress(value=0.0, description='Edge iteration', max=36.0, style=ProgressStyle(descriptio…"
      ]
     },
     "metadata": {},
     "output_type": "display_data"
    },
    {
     "name": "stdout",
     "output_type": "stream",
     "text": [
      "\n"
     ]
    },
    {
     "data": {
      "application/vnd.jupyter.widget-view+json": {
       "model_id": "2402a071ae33497bac759ba4278c3fc1",
       "version_major": 2,
       "version_minor": 0
      },
      "text/plain": [
       "HBox(children=(FloatProgress(value=0.0, description='Edge iteration', max=36.0, style=ProgressStyle(descriptio…"
      ]
     },
     "metadata": {},
     "output_type": "display_data"
    },
    {
     "name": "stdout",
     "output_type": "stream",
     "text": [
      "\n",
      "seed #18\n"
     ]
    },
    {
     "data": {
      "application/vnd.jupyter.widget-view+json": {
       "model_id": "3bb211050f7246d88b4b04c6757a1dd2",
       "version_major": 2,
       "version_minor": 0
      },
      "text/plain": [
       "HBox(children=(FloatProgress(value=0.0, description='Edge iteration', max=36.0, style=ProgressStyle(descriptio…"
      ]
     },
     "metadata": {},
     "output_type": "display_data"
    },
    {
     "name": "stdout",
     "output_type": "stream",
     "text": [
      "\n"
     ]
    },
    {
     "data": {
      "application/vnd.jupyter.widget-view+json": {
       "model_id": "7e10c00c4b27469b8ca276f17201a194",
       "version_major": 2,
       "version_minor": 0
      },
      "text/plain": [
       "HBox(children=(FloatProgress(value=0.0, description='Edge iteration', max=36.0, style=ProgressStyle(descriptio…"
      ]
     },
     "metadata": {},
     "output_type": "display_data"
    },
    {
     "name": "stdout",
     "output_type": "stream",
     "text": [
      "\n",
      "seed #19\n"
     ]
    },
    {
     "data": {
      "application/vnd.jupyter.widget-view+json": {
       "model_id": "622e9353b0254707909fe2852a0397da",
       "version_major": 2,
       "version_minor": 0
      },
      "text/plain": [
       "HBox(children=(FloatProgress(value=0.0, description='Edge iteration', max=36.0, style=ProgressStyle(descriptio…"
      ]
     },
     "metadata": {},
     "output_type": "display_data"
    },
    {
     "name": "stdout",
     "output_type": "stream",
     "text": [
      "\n"
     ]
    },
    {
     "data": {
      "application/vnd.jupyter.widget-view+json": {
       "model_id": "e7a2052f40124b93a1f590d35f2a2776",
       "version_major": 2,
       "version_minor": 0
      },
      "text/plain": [
       "HBox(children=(FloatProgress(value=0.0, description='Edge iteration', max=36.0, style=ProgressStyle(descriptio…"
      ]
     },
     "metadata": {},
     "output_type": "display_data"
    },
    {
     "name": "stdout",
     "output_type": "stream",
     "text": [
      "\n",
      "4\n",
      "seed #0\n"
     ]
    },
    {
     "data": {
      "application/vnd.jupyter.widget-view+json": {
       "model_id": "d819e7704cde47ee9446112f90168288",
       "version_major": 2,
       "version_minor": 0
      },
      "text/plain": [
       "HBox(children=(FloatProgress(value=0.0, description='Edge iteration', max=36.0, style=ProgressStyle(descriptio…"
      ]
     },
     "metadata": {},
     "output_type": "display_data"
    },
    {
     "name": "stdout",
     "output_type": "stream",
     "text": [
      "\n"
     ]
    },
    {
     "data": {
      "application/vnd.jupyter.widget-view+json": {
       "model_id": "fb226b998d854ee19b6a76b4ac432f2c",
       "version_major": 2,
       "version_minor": 0
      },
      "text/plain": [
       "HBox(children=(FloatProgress(value=0.0, description='Edge iteration', max=36.0, style=ProgressStyle(descriptio…"
      ]
     },
     "metadata": {},
     "output_type": "display_data"
    },
    {
     "name": "stdout",
     "output_type": "stream",
     "text": [
      "\n",
      "seed #1\n"
     ]
    },
    {
     "data": {
      "application/vnd.jupyter.widget-view+json": {
       "model_id": "15872f88daa24d4987d841287d54c7a3",
       "version_major": 2,
       "version_minor": 0
      },
      "text/plain": [
       "HBox(children=(FloatProgress(value=0.0, description='Edge iteration', max=36.0, style=ProgressStyle(descriptio…"
      ]
     },
     "metadata": {},
     "output_type": "display_data"
    },
    {
     "name": "stdout",
     "output_type": "stream",
     "text": [
      "\n"
     ]
    },
    {
     "data": {
      "application/vnd.jupyter.widget-view+json": {
       "model_id": "f34e40e7b55042ee9fbcc401a3888eff",
       "version_major": 2,
       "version_minor": 0
      },
      "text/plain": [
       "HBox(children=(FloatProgress(value=0.0, description='Edge iteration', max=36.0, style=ProgressStyle(descriptio…"
      ]
     },
     "metadata": {},
     "output_type": "display_data"
    },
    {
     "name": "stdout",
     "output_type": "stream",
     "text": [
      "\n",
      "seed #2\n"
     ]
    },
    {
     "data": {
      "application/vnd.jupyter.widget-view+json": {
       "model_id": "bb3a8eb019c04dd0b02d8d7848c894ab",
       "version_major": 2,
       "version_minor": 0
      },
      "text/plain": [
       "HBox(children=(FloatProgress(value=0.0, description='Edge iteration', max=36.0, style=ProgressStyle(descriptio…"
      ]
     },
     "metadata": {},
     "output_type": "display_data"
    },
    {
     "name": "stdout",
     "output_type": "stream",
     "text": [
      "\n"
     ]
    },
    {
     "data": {
      "application/vnd.jupyter.widget-view+json": {
       "model_id": "eafb14c006f446f4904c51616882e9ed",
       "version_major": 2,
       "version_minor": 0
      },
      "text/plain": [
       "HBox(children=(FloatProgress(value=0.0, description='Edge iteration', max=36.0, style=ProgressStyle(descriptio…"
      ]
     },
     "metadata": {},
     "output_type": "display_data"
    },
    {
     "name": "stdout",
     "output_type": "stream",
     "text": [
      "\n",
      "seed #3\n"
     ]
    },
    {
     "data": {
      "application/vnd.jupyter.widget-view+json": {
       "model_id": "4e41e70a9a7a496d86049ec00df7fd6a",
       "version_major": 2,
       "version_minor": 0
      },
      "text/plain": [
       "HBox(children=(FloatProgress(value=0.0, description='Edge iteration', max=36.0, style=ProgressStyle(descriptio…"
      ]
     },
     "metadata": {},
     "output_type": "display_data"
    },
    {
     "name": "stdout",
     "output_type": "stream",
     "text": [
      "\n"
     ]
    },
    {
     "data": {
      "application/vnd.jupyter.widget-view+json": {
       "model_id": "459b1c31c1714d549b335738c3b4b8b8",
       "version_major": 2,
       "version_minor": 0
      },
      "text/plain": [
       "HBox(children=(FloatProgress(value=0.0, description='Edge iteration', max=36.0, style=ProgressStyle(descriptio…"
      ]
     },
     "metadata": {},
     "output_type": "display_data"
    },
    {
     "name": "stdout",
     "output_type": "stream",
     "text": [
      "\n",
      "seed #4\n"
     ]
    },
    {
     "data": {
      "application/vnd.jupyter.widget-view+json": {
       "model_id": "04adafa6ccfc40f68a2ef06dc1091292",
       "version_major": 2,
       "version_minor": 0
      },
      "text/plain": [
       "HBox(children=(FloatProgress(value=0.0, description='Edge iteration', max=36.0, style=ProgressStyle(descriptio…"
      ]
     },
     "metadata": {},
     "output_type": "display_data"
    },
    {
     "name": "stdout",
     "output_type": "stream",
     "text": [
      "\n"
     ]
    },
    {
     "data": {
      "application/vnd.jupyter.widget-view+json": {
       "model_id": "cae10d44066c46109edc7244fd222ac2",
       "version_major": 2,
       "version_minor": 0
      },
      "text/plain": [
       "HBox(children=(FloatProgress(value=0.0, description='Edge iteration', max=36.0, style=ProgressStyle(descriptio…"
      ]
     },
     "metadata": {},
     "output_type": "display_data"
    },
    {
     "name": "stdout",
     "output_type": "stream",
     "text": [
      "\n",
      "seed #5\n"
     ]
    },
    {
     "data": {
      "application/vnd.jupyter.widget-view+json": {
       "model_id": "b4ce45a17c1f4abfbe3df1e13377bdcf",
       "version_major": 2,
       "version_minor": 0
      },
      "text/plain": [
       "HBox(children=(FloatProgress(value=0.0, description='Edge iteration', max=36.0, style=ProgressStyle(descriptio…"
      ]
     },
     "metadata": {},
     "output_type": "display_data"
    },
    {
     "name": "stdout",
     "output_type": "stream",
     "text": [
      "\n"
     ]
    },
    {
     "data": {
      "application/vnd.jupyter.widget-view+json": {
       "model_id": "7681fa0183d7463ab81e4351c0d91ca5",
       "version_major": 2,
       "version_minor": 0
      },
      "text/plain": [
       "HBox(children=(FloatProgress(value=0.0, description='Edge iteration', max=36.0, style=ProgressStyle(descriptio…"
      ]
     },
     "metadata": {},
     "output_type": "display_data"
    },
    {
     "name": "stdout",
     "output_type": "stream",
     "text": [
      "\n",
      "seed #6\n"
     ]
    },
    {
     "data": {
      "application/vnd.jupyter.widget-view+json": {
       "model_id": "d2a83d99fa974c979ca1133e6270cc58",
       "version_major": 2,
       "version_minor": 0
      },
      "text/plain": [
       "HBox(children=(FloatProgress(value=0.0, description='Edge iteration', max=36.0, style=ProgressStyle(descriptio…"
      ]
     },
     "metadata": {},
     "output_type": "display_data"
    },
    {
     "name": "stdout",
     "output_type": "stream",
     "text": [
      "\n"
     ]
    },
    {
     "data": {
      "application/vnd.jupyter.widget-view+json": {
       "model_id": "4accb836853041ebbd43455b838fa178",
       "version_major": 2,
       "version_minor": 0
      },
      "text/plain": [
       "HBox(children=(FloatProgress(value=0.0, description='Edge iteration', max=36.0, style=ProgressStyle(descriptio…"
      ]
     },
     "metadata": {},
     "output_type": "display_data"
    },
    {
     "name": "stdout",
     "output_type": "stream",
     "text": [
      "\n",
      "seed #7\n"
     ]
    },
    {
     "data": {
      "application/vnd.jupyter.widget-view+json": {
       "model_id": "d5bd9487e55440969d515e1087682762",
       "version_major": 2,
       "version_minor": 0
      },
      "text/plain": [
       "HBox(children=(FloatProgress(value=0.0, description='Edge iteration', max=36.0, style=ProgressStyle(descriptio…"
      ]
     },
     "metadata": {},
     "output_type": "display_data"
    },
    {
     "name": "stdout",
     "output_type": "stream",
     "text": [
      "\n"
     ]
    },
    {
     "data": {
      "application/vnd.jupyter.widget-view+json": {
       "model_id": "d826d183aa804401bad5e5595242e7b5",
       "version_major": 2,
       "version_minor": 0
      },
      "text/plain": [
       "HBox(children=(FloatProgress(value=0.0, description='Edge iteration', max=36.0, style=ProgressStyle(descriptio…"
      ]
     },
     "metadata": {},
     "output_type": "display_data"
    },
    {
     "name": "stdout",
     "output_type": "stream",
     "text": [
      "\n",
      "seed #8\n"
     ]
    },
    {
     "data": {
      "application/vnd.jupyter.widget-view+json": {
       "model_id": "c0d270c0e6ff402da3c5d48ce7f67c17",
       "version_major": 2,
       "version_minor": 0
      },
      "text/plain": [
       "HBox(children=(FloatProgress(value=0.0, description='Edge iteration', max=36.0, style=ProgressStyle(descriptio…"
      ]
     },
     "metadata": {},
     "output_type": "display_data"
    },
    {
     "name": "stdout",
     "output_type": "stream",
     "text": [
      "\n"
     ]
    },
    {
     "data": {
      "application/vnd.jupyter.widget-view+json": {
       "model_id": "f4ec7be950e743dc867cc86a880df2f0",
       "version_major": 2,
       "version_minor": 0
      },
      "text/plain": [
       "HBox(children=(FloatProgress(value=0.0, description='Edge iteration', max=36.0, style=ProgressStyle(descriptio…"
      ]
     },
     "metadata": {},
     "output_type": "display_data"
    },
    {
     "name": "stdout",
     "output_type": "stream",
     "text": [
      "\n",
      "seed #9\n"
     ]
    },
    {
     "data": {
      "application/vnd.jupyter.widget-view+json": {
       "model_id": "dd4185a12a06414681eced1ee71b576a",
       "version_major": 2,
       "version_minor": 0
      },
      "text/plain": [
       "HBox(children=(FloatProgress(value=0.0, description='Edge iteration', max=36.0, style=ProgressStyle(descriptio…"
      ]
     },
     "metadata": {},
     "output_type": "display_data"
    },
    {
     "name": "stdout",
     "output_type": "stream",
     "text": [
      "\n"
     ]
    },
    {
     "data": {
      "application/vnd.jupyter.widget-view+json": {
       "model_id": "81ee426e41cb453d99aee75c85ce5b8b",
       "version_major": 2,
       "version_minor": 0
      },
      "text/plain": [
       "HBox(children=(FloatProgress(value=0.0, description='Edge iteration', max=36.0, style=ProgressStyle(descriptio…"
      ]
     },
     "metadata": {},
     "output_type": "display_data"
    },
    {
     "name": "stdout",
     "output_type": "stream",
     "text": [
      "\n",
      "seed #10\n"
     ]
    },
    {
     "data": {
      "application/vnd.jupyter.widget-view+json": {
       "model_id": "4550b9414f624de28bfa67dab535960d",
       "version_major": 2,
       "version_minor": 0
      },
      "text/plain": [
       "HBox(children=(FloatProgress(value=0.0, description='Edge iteration', max=36.0, style=ProgressStyle(descriptio…"
      ]
     },
     "metadata": {},
     "output_type": "display_data"
    },
    {
     "name": "stdout",
     "output_type": "stream",
     "text": [
      "\n"
     ]
    },
    {
     "data": {
      "application/vnd.jupyter.widget-view+json": {
       "model_id": "5c2de8c54ddf4414a441193eebcc2426",
       "version_major": 2,
       "version_minor": 0
      },
      "text/plain": [
       "HBox(children=(FloatProgress(value=0.0, description='Edge iteration', max=36.0, style=ProgressStyle(descriptio…"
      ]
     },
     "metadata": {},
     "output_type": "display_data"
    },
    {
     "name": "stdout",
     "output_type": "stream",
     "text": [
      "\n",
      "seed #11\n"
     ]
    },
    {
     "data": {
      "application/vnd.jupyter.widget-view+json": {
       "model_id": "2cddaa269ca64e1fbc171dafae19a815",
       "version_major": 2,
       "version_minor": 0
      },
      "text/plain": [
       "HBox(children=(FloatProgress(value=0.0, description='Edge iteration', max=36.0, style=ProgressStyle(descriptio…"
      ]
     },
     "metadata": {},
     "output_type": "display_data"
    },
    {
     "name": "stdout",
     "output_type": "stream",
     "text": [
      "\n"
     ]
    },
    {
     "data": {
      "application/vnd.jupyter.widget-view+json": {
       "model_id": "9ff5a9696b3d484286e1fd5691556fe8",
       "version_major": 2,
       "version_minor": 0
      },
      "text/plain": [
       "HBox(children=(FloatProgress(value=0.0, description='Edge iteration', max=36.0, style=ProgressStyle(descriptio…"
      ]
     },
     "metadata": {},
     "output_type": "display_data"
    },
    {
     "name": "stdout",
     "output_type": "stream",
     "text": [
      "\n",
      "seed #12\n"
     ]
    },
    {
     "data": {
      "application/vnd.jupyter.widget-view+json": {
       "model_id": "aabe14f10dc14328b3b088de981e067a",
       "version_major": 2,
       "version_minor": 0
      },
      "text/plain": [
       "HBox(children=(FloatProgress(value=0.0, description='Edge iteration', max=36.0, style=ProgressStyle(descriptio…"
      ]
     },
     "metadata": {},
     "output_type": "display_data"
    },
    {
     "name": "stdout",
     "output_type": "stream",
     "text": [
      "\n"
     ]
    },
    {
     "data": {
      "application/vnd.jupyter.widget-view+json": {
       "model_id": "82fef7d087b644a9928a3c264feec672",
       "version_major": 2,
       "version_minor": 0
      },
      "text/plain": [
       "HBox(children=(FloatProgress(value=0.0, description='Edge iteration', max=36.0, style=ProgressStyle(descriptio…"
      ]
     },
     "metadata": {},
     "output_type": "display_data"
    },
    {
     "name": "stdout",
     "output_type": "stream",
     "text": [
      "\n",
      "seed #13\n"
     ]
    },
    {
     "data": {
      "application/vnd.jupyter.widget-view+json": {
       "model_id": "39e186f0bb1a494dbcfed83044d4b34c",
       "version_major": 2,
       "version_minor": 0
      },
      "text/plain": [
       "HBox(children=(FloatProgress(value=0.0, description='Edge iteration', max=36.0, style=ProgressStyle(descriptio…"
      ]
     },
     "metadata": {},
     "output_type": "display_data"
    },
    {
     "name": "stdout",
     "output_type": "stream",
     "text": [
      "\n"
     ]
    },
    {
     "data": {
      "application/vnd.jupyter.widget-view+json": {
       "model_id": "74a52288b0f44fe2b7819d8789e838ca",
       "version_major": 2,
       "version_minor": 0
      },
      "text/plain": [
       "HBox(children=(FloatProgress(value=0.0, description='Edge iteration', max=36.0, style=ProgressStyle(descriptio…"
      ]
     },
     "metadata": {},
     "output_type": "display_data"
    },
    {
     "name": "stdout",
     "output_type": "stream",
     "text": [
      "\n",
      "seed #14\n"
     ]
    },
    {
     "data": {
      "application/vnd.jupyter.widget-view+json": {
       "model_id": "8568515beaf547b5b066bfd78a00f252",
       "version_major": 2,
       "version_minor": 0
      },
      "text/plain": [
       "HBox(children=(FloatProgress(value=0.0, description='Edge iteration', max=36.0, style=ProgressStyle(descriptio…"
      ]
     },
     "metadata": {},
     "output_type": "display_data"
    },
    {
     "name": "stdout",
     "output_type": "stream",
     "text": [
      "\n"
     ]
    },
    {
     "data": {
      "application/vnd.jupyter.widget-view+json": {
       "model_id": "ea3438d7145e4e1f95ef4278f43b4b12",
       "version_major": 2,
       "version_minor": 0
      },
      "text/plain": [
       "HBox(children=(FloatProgress(value=0.0, description='Edge iteration', max=36.0, style=ProgressStyle(descriptio…"
      ]
     },
     "metadata": {},
     "output_type": "display_data"
    },
    {
     "name": "stdout",
     "output_type": "stream",
     "text": [
      "\n",
      "seed #15\n"
     ]
    },
    {
     "data": {
      "application/vnd.jupyter.widget-view+json": {
       "model_id": "fb77048f05c54a03b6c9f345b48912e5",
       "version_major": 2,
       "version_minor": 0
      },
      "text/plain": [
       "HBox(children=(FloatProgress(value=0.0, description='Edge iteration', max=36.0, style=ProgressStyle(descriptio…"
      ]
     },
     "metadata": {},
     "output_type": "display_data"
    },
    {
     "name": "stdout",
     "output_type": "stream",
     "text": [
      "\n"
     ]
    },
    {
     "data": {
      "application/vnd.jupyter.widget-view+json": {
       "model_id": "e3b097ea8b524be39f2c5759179087de",
       "version_major": 2,
       "version_minor": 0
      },
      "text/plain": [
       "HBox(children=(FloatProgress(value=0.0, description='Edge iteration', max=36.0, style=ProgressStyle(descriptio…"
      ]
     },
     "metadata": {},
     "output_type": "display_data"
    },
    {
     "name": "stdout",
     "output_type": "stream",
     "text": [
      "\n",
      "seed #16\n"
     ]
    },
    {
     "data": {
      "application/vnd.jupyter.widget-view+json": {
       "model_id": "6704eb53a952469f8479a5fbcb45d8b0",
       "version_major": 2,
       "version_minor": 0
      },
      "text/plain": [
       "HBox(children=(FloatProgress(value=0.0, description='Edge iteration', max=36.0, style=ProgressStyle(descriptio…"
      ]
     },
     "metadata": {},
     "output_type": "display_data"
    },
    {
     "name": "stdout",
     "output_type": "stream",
     "text": [
      "\n"
     ]
    },
    {
     "data": {
      "application/vnd.jupyter.widget-view+json": {
       "model_id": "b2a26759774a4f578ea98102c90da3da",
       "version_major": 2,
       "version_minor": 0
      },
      "text/plain": [
       "HBox(children=(FloatProgress(value=0.0, description='Edge iteration', max=36.0, style=ProgressStyle(descriptio…"
      ]
     },
     "metadata": {},
     "output_type": "display_data"
    },
    {
     "name": "stdout",
     "output_type": "stream",
     "text": [
      "\n",
      "seed #17\n"
     ]
    },
    {
     "data": {
      "application/vnd.jupyter.widget-view+json": {
       "model_id": "88a846a33c21482aa483556dc45212d1",
       "version_major": 2,
       "version_minor": 0
      },
      "text/plain": [
       "HBox(children=(FloatProgress(value=0.0, description='Edge iteration', max=36.0, style=ProgressStyle(descriptio…"
      ]
     },
     "metadata": {},
     "output_type": "display_data"
    },
    {
     "name": "stdout",
     "output_type": "stream",
     "text": [
      "\n"
     ]
    },
    {
     "data": {
      "application/vnd.jupyter.widget-view+json": {
       "model_id": "9df8573049794173a4e7417c15ff90e1",
       "version_major": 2,
       "version_minor": 0
      },
      "text/plain": [
       "HBox(children=(FloatProgress(value=0.0, description='Edge iteration', max=36.0, style=ProgressStyle(descriptio…"
      ]
     },
     "metadata": {},
     "output_type": "display_data"
    },
    {
     "name": "stdout",
     "output_type": "stream",
     "text": [
      "\n",
      "seed #18\n"
     ]
    },
    {
     "data": {
      "application/vnd.jupyter.widget-view+json": {
       "model_id": "32fce1b281c341959c43722f3dacb20a",
       "version_major": 2,
       "version_minor": 0
      },
      "text/plain": [
       "HBox(children=(FloatProgress(value=0.0, description='Edge iteration', max=36.0, style=ProgressStyle(descriptio…"
      ]
     },
     "metadata": {},
     "output_type": "display_data"
    },
    {
     "name": "stdout",
     "output_type": "stream",
     "text": [
      "\n"
     ]
    },
    {
     "data": {
      "application/vnd.jupyter.widget-view+json": {
       "model_id": "88cb1586c0f841bb85abe3c258835389",
       "version_major": 2,
       "version_minor": 0
      },
      "text/plain": [
       "HBox(children=(FloatProgress(value=0.0, description='Edge iteration', max=36.0, style=ProgressStyle(descriptio…"
      ]
     },
     "metadata": {},
     "output_type": "display_data"
    },
    {
     "name": "stdout",
     "output_type": "stream",
     "text": [
      "\n",
      "seed #19\n"
     ]
    },
    {
     "data": {
      "application/vnd.jupyter.widget-view+json": {
       "model_id": "b509c42fa95e41d9a3c3520d8f07dbb4",
       "version_major": 2,
       "version_minor": 0
      },
      "text/plain": [
       "HBox(children=(FloatProgress(value=0.0, description='Edge iteration', max=36.0, style=ProgressStyle(descriptio…"
      ]
     },
     "metadata": {},
     "output_type": "display_data"
    },
    {
     "name": "stdout",
     "output_type": "stream",
     "text": [
      "\n"
     ]
    },
    {
     "data": {
      "application/vnd.jupyter.widget-view+json": {
       "model_id": "68a4250b85204aaaa9e22206e1c06ae9",
       "version_major": 2,
       "version_minor": 0
      },
      "text/plain": [
       "HBox(children=(FloatProgress(value=0.0, description='Edge iteration', max=36.0, style=ProgressStyle(descriptio…"
      ]
     },
     "metadata": {},
     "output_type": "display_data"
    },
    {
     "name": "stdout",
     "output_type": "stream",
     "text": [
      "\n",
      "5\n",
      "seed #0\n"
     ]
    },
    {
     "data": {
      "application/vnd.jupyter.widget-view+json": {
       "model_id": "10dc9ecfcd594b6e9664c6f5c3979586",
       "version_major": 2,
       "version_minor": 0
      },
      "text/plain": [
       "HBox(children=(FloatProgress(value=0.0, description='Edge iteration', max=36.0, style=ProgressStyle(descriptio…"
      ]
     },
     "metadata": {},
     "output_type": "display_data"
    },
    {
     "name": "stdout",
     "output_type": "stream",
     "text": [
      "\n"
     ]
    },
    {
     "data": {
      "application/vnd.jupyter.widget-view+json": {
       "model_id": "9818487f443d4286b5de5adc3e36808f",
       "version_major": 2,
       "version_minor": 0
      },
      "text/plain": [
       "HBox(children=(FloatProgress(value=0.0, description='Edge iteration', max=36.0, style=ProgressStyle(descriptio…"
      ]
     },
     "metadata": {},
     "output_type": "display_data"
    },
    {
     "name": "stdout",
     "output_type": "stream",
     "text": [
      "\n",
      "seed #1\n"
     ]
    },
    {
     "data": {
      "application/vnd.jupyter.widget-view+json": {
       "model_id": "a0c5bae75de84d6eb31227ffbd34d02e",
       "version_major": 2,
       "version_minor": 0
      },
      "text/plain": [
       "HBox(children=(FloatProgress(value=0.0, description='Edge iteration', max=36.0, style=ProgressStyle(descriptio…"
      ]
     },
     "metadata": {},
     "output_type": "display_data"
    },
    {
     "name": "stdout",
     "output_type": "stream",
     "text": [
      "\n"
     ]
    },
    {
     "data": {
      "application/vnd.jupyter.widget-view+json": {
       "model_id": "a4df1224cd52482f870732fe6fb1245e",
       "version_major": 2,
       "version_minor": 0
      },
      "text/plain": [
       "HBox(children=(FloatProgress(value=0.0, description='Edge iteration', max=36.0, style=ProgressStyle(descriptio…"
      ]
     },
     "metadata": {},
     "output_type": "display_data"
    },
    {
     "name": "stdout",
     "output_type": "stream",
     "text": [
      "\n",
      "seed #2\n"
     ]
    },
    {
     "data": {
      "application/vnd.jupyter.widget-view+json": {
       "model_id": "2623d979dacf48199b0e1ba170b9dc75",
       "version_major": 2,
       "version_minor": 0
      },
      "text/plain": [
       "HBox(children=(FloatProgress(value=0.0, description='Edge iteration', max=36.0, style=ProgressStyle(descriptio…"
      ]
     },
     "metadata": {},
     "output_type": "display_data"
    },
    {
     "name": "stdout",
     "output_type": "stream",
     "text": [
      "\n"
     ]
    },
    {
     "data": {
      "application/vnd.jupyter.widget-view+json": {
       "model_id": "0e4ffd3f8ac6456d912f5d80adbac5c4",
       "version_major": 2,
       "version_minor": 0
      },
      "text/plain": [
       "HBox(children=(FloatProgress(value=0.0, description='Edge iteration', max=36.0, style=ProgressStyle(descriptio…"
      ]
     },
     "metadata": {},
     "output_type": "display_data"
    },
    {
     "name": "stdout",
     "output_type": "stream",
     "text": [
      "\n",
      "seed #3\n"
     ]
    },
    {
     "data": {
      "application/vnd.jupyter.widget-view+json": {
       "model_id": "7bfa39138732465895a0b5ff95fed524",
       "version_major": 2,
       "version_minor": 0
      },
      "text/plain": [
       "HBox(children=(FloatProgress(value=0.0, description='Edge iteration', max=36.0, style=ProgressStyle(descriptio…"
      ]
     },
     "metadata": {},
     "output_type": "display_data"
    },
    {
     "name": "stdout",
     "output_type": "stream",
     "text": [
      "\n"
     ]
    },
    {
     "data": {
      "application/vnd.jupyter.widget-view+json": {
       "model_id": "c99978819ce945b1b5e54216f585a110",
       "version_major": 2,
       "version_minor": 0
      },
      "text/plain": [
       "HBox(children=(FloatProgress(value=0.0, description='Edge iteration', max=36.0, style=ProgressStyle(descriptio…"
      ]
     },
     "metadata": {},
     "output_type": "display_data"
    },
    {
     "name": "stdout",
     "output_type": "stream",
     "text": [
      "\n",
      "seed #4\n"
     ]
    },
    {
     "data": {
      "application/vnd.jupyter.widget-view+json": {
       "model_id": "c7f6b0e912b04bce848bc7e1b07f7bd9",
       "version_major": 2,
       "version_minor": 0
      },
      "text/plain": [
       "HBox(children=(FloatProgress(value=0.0, description='Edge iteration', max=36.0, style=ProgressStyle(descriptio…"
      ]
     },
     "metadata": {},
     "output_type": "display_data"
    },
    {
     "name": "stdout",
     "output_type": "stream",
     "text": [
      "\n"
     ]
    },
    {
     "data": {
      "application/vnd.jupyter.widget-view+json": {
       "model_id": "05ed6eca82f54670b8c1a17d39adb679",
       "version_major": 2,
       "version_minor": 0
      },
      "text/plain": [
       "HBox(children=(FloatProgress(value=0.0, description='Edge iteration', max=36.0, style=ProgressStyle(descriptio…"
      ]
     },
     "metadata": {},
     "output_type": "display_data"
    },
    {
     "name": "stdout",
     "output_type": "stream",
     "text": [
      "\n",
      "seed #5\n"
     ]
    },
    {
     "data": {
      "application/vnd.jupyter.widget-view+json": {
       "model_id": "c2216d3fe4084406a1757bc56678e5d7",
       "version_major": 2,
       "version_minor": 0
      },
      "text/plain": [
       "HBox(children=(FloatProgress(value=0.0, description='Edge iteration', max=36.0, style=ProgressStyle(descriptio…"
      ]
     },
     "metadata": {},
     "output_type": "display_data"
    },
    {
     "name": "stdout",
     "output_type": "stream",
     "text": [
      "\n"
     ]
    },
    {
     "data": {
      "application/vnd.jupyter.widget-view+json": {
       "model_id": "8fa5bc6fb3844d6a82ba2684ab93133d",
       "version_major": 2,
       "version_minor": 0
      },
      "text/plain": [
       "HBox(children=(FloatProgress(value=0.0, description='Edge iteration', max=36.0, style=ProgressStyle(descriptio…"
      ]
     },
     "metadata": {},
     "output_type": "display_data"
    },
    {
     "name": "stdout",
     "output_type": "stream",
     "text": [
      "\n",
      "seed #6\n"
     ]
    },
    {
     "data": {
      "application/vnd.jupyter.widget-view+json": {
       "model_id": "a7eb03a3c26147b4909d11fd59816a49",
       "version_major": 2,
       "version_minor": 0
      },
      "text/plain": [
       "HBox(children=(FloatProgress(value=0.0, description='Edge iteration', max=36.0, style=ProgressStyle(descriptio…"
      ]
     },
     "metadata": {},
     "output_type": "display_data"
    },
    {
     "name": "stdout",
     "output_type": "stream",
     "text": [
      "\n"
     ]
    },
    {
     "data": {
      "application/vnd.jupyter.widget-view+json": {
       "model_id": "b1354162b73c495b856a1be06b99fe05",
       "version_major": 2,
       "version_minor": 0
      },
      "text/plain": [
       "HBox(children=(FloatProgress(value=0.0, description='Edge iteration', max=36.0, style=ProgressStyle(descriptio…"
      ]
     },
     "metadata": {},
     "output_type": "display_data"
    },
    {
     "name": "stdout",
     "output_type": "stream",
     "text": [
      "\n",
      "seed #7\n"
     ]
    },
    {
     "data": {
      "application/vnd.jupyter.widget-view+json": {
       "model_id": "3aee87dd9c8948d9ac0de0e7c51e8034",
       "version_major": 2,
       "version_minor": 0
      },
      "text/plain": [
       "HBox(children=(FloatProgress(value=0.0, description='Edge iteration', max=36.0, style=ProgressStyle(descriptio…"
      ]
     },
     "metadata": {},
     "output_type": "display_data"
    },
    {
     "name": "stdout",
     "output_type": "stream",
     "text": [
      "\n"
     ]
    },
    {
     "data": {
      "application/vnd.jupyter.widget-view+json": {
       "model_id": "541db077358841a5a83556e38bd92bd9",
       "version_major": 2,
       "version_minor": 0
      },
      "text/plain": [
       "HBox(children=(FloatProgress(value=0.0, description='Edge iteration', max=36.0, style=ProgressStyle(descriptio…"
      ]
     },
     "metadata": {},
     "output_type": "display_data"
    },
    {
     "name": "stdout",
     "output_type": "stream",
     "text": [
      "\n",
      "seed #8\n"
     ]
    },
    {
     "data": {
      "application/vnd.jupyter.widget-view+json": {
       "model_id": "b302265ea1c942a4bface4ed1f7a8cf6",
       "version_major": 2,
       "version_minor": 0
      },
      "text/plain": [
       "HBox(children=(FloatProgress(value=0.0, description='Edge iteration', max=36.0, style=ProgressStyle(descriptio…"
      ]
     },
     "metadata": {},
     "output_type": "display_data"
    },
    {
     "name": "stdout",
     "output_type": "stream",
     "text": [
      "\n"
     ]
    },
    {
     "data": {
      "application/vnd.jupyter.widget-view+json": {
       "model_id": "d51a13b7aa0d4586ab3c07ea1b112156",
       "version_major": 2,
       "version_minor": 0
      },
      "text/plain": [
       "HBox(children=(FloatProgress(value=0.0, description='Edge iteration', max=36.0, style=ProgressStyle(descriptio…"
      ]
     },
     "metadata": {},
     "output_type": "display_data"
    },
    {
     "name": "stdout",
     "output_type": "stream",
     "text": [
      "\n",
      "seed #9\n"
     ]
    },
    {
     "data": {
      "application/vnd.jupyter.widget-view+json": {
       "model_id": "7f72fcbf301e4b21b807a3d846beb09c",
       "version_major": 2,
       "version_minor": 0
      },
      "text/plain": [
       "HBox(children=(FloatProgress(value=0.0, description='Edge iteration', max=36.0, style=ProgressStyle(descriptio…"
      ]
     },
     "metadata": {},
     "output_type": "display_data"
    },
    {
     "name": "stdout",
     "output_type": "stream",
     "text": [
      "\n"
     ]
    },
    {
     "data": {
      "application/vnd.jupyter.widget-view+json": {
       "model_id": "310178b28ba549ca9f7be4e5f972f737",
       "version_major": 2,
       "version_minor": 0
      },
      "text/plain": [
       "HBox(children=(FloatProgress(value=0.0, description='Edge iteration', max=36.0, style=ProgressStyle(descriptio…"
      ]
     },
     "metadata": {},
     "output_type": "display_data"
    },
    {
     "name": "stdout",
     "output_type": "stream",
     "text": [
      "\n",
      "seed #10\n"
     ]
    },
    {
     "data": {
      "application/vnd.jupyter.widget-view+json": {
       "model_id": "9b5f0b1511f54e2db622167cbdb363ed",
       "version_major": 2,
       "version_minor": 0
      },
      "text/plain": [
       "HBox(children=(FloatProgress(value=0.0, description='Edge iteration', max=36.0, style=ProgressStyle(descriptio…"
      ]
     },
     "metadata": {},
     "output_type": "display_data"
    },
    {
     "name": "stdout",
     "output_type": "stream",
     "text": [
      "\n"
     ]
    },
    {
     "data": {
      "application/vnd.jupyter.widget-view+json": {
       "model_id": "a9c49e382e614c8d84d340ca8bda716d",
       "version_major": 2,
       "version_minor": 0
      },
      "text/plain": [
       "HBox(children=(FloatProgress(value=0.0, description='Edge iteration', max=36.0, style=ProgressStyle(descriptio…"
      ]
     },
     "metadata": {},
     "output_type": "display_data"
    },
    {
     "name": "stdout",
     "output_type": "stream",
     "text": [
      "\n",
      "seed #11\n"
     ]
    },
    {
     "data": {
      "application/vnd.jupyter.widget-view+json": {
       "model_id": "4d7c87ceff914db8aa0c2d9cbf60d86b",
       "version_major": 2,
       "version_minor": 0
      },
      "text/plain": [
       "HBox(children=(FloatProgress(value=0.0, description='Edge iteration', max=36.0, style=ProgressStyle(descriptio…"
      ]
     },
     "metadata": {},
     "output_type": "display_data"
    },
    {
     "name": "stdout",
     "output_type": "stream",
     "text": [
      "\n"
     ]
    },
    {
     "data": {
      "application/vnd.jupyter.widget-view+json": {
       "model_id": "eefb4d36b3924bbd964a9e95341dbc37",
       "version_major": 2,
       "version_minor": 0
      },
      "text/plain": [
       "HBox(children=(FloatProgress(value=0.0, description='Edge iteration', max=36.0, style=ProgressStyle(descriptio…"
      ]
     },
     "metadata": {},
     "output_type": "display_data"
    },
    {
     "name": "stdout",
     "output_type": "stream",
     "text": [
      "\n",
      "seed #12\n"
     ]
    },
    {
     "data": {
      "application/vnd.jupyter.widget-view+json": {
       "model_id": "a7b263abf91a450cacff7a71f4d9d129",
       "version_major": 2,
       "version_minor": 0
      },
      "text/plain": [
       "HBox(children=(FloatProgress(value=0.0, description='Edge iteration', max=36.0, style=ProgressStyle(descriptio…"
      ]
     },
     "metadata": {},
     "output_type": "display_data"
    },
    {
     "name": "stdout",
     "output_type": "stream",
     "text": [
      "\n"
     ]
    },
    {
     "data": {
      "application/vnd.jupyter.widget-view+json": {
       "model_id": "a2219a7033c543a9aa8e3c9cdfe022d6",
       "version_major": 2,
       "version_minor": 0
      },
      "text/plain": [
       "HBox(children=(FloatProgress(value=0.0, description='Edge iteration', max=36.0, style=ProgressStyle(descriptio…"
      ]
     },
     "metadata": {},
     "output_type": "display_data"
    },
    {
     "name": "stdout",
     "output_type": "stream",
     "text": [
      "\n",
      "seed #13\n"
     ]
    },
    {
     "data": {
      "application/vnd.jupyter.widget-view+json": {
       "model_id": "bcb25d4e367e43309036bdfee3b84630",
       "version_major": 2,
       "version_minor": 0
      },
      "text/plain": [
       "HBox(children=(FloatProgress(value=0.0, description='Edge iteration', max=36.0, style=ProgressStyle(descriptio…"
      ]
     },
     "metadata": {},
     "output_type": "display_data"
    },
    {
     "name": "stdout",
     "output_type": "stream",
     "text": [
      "\n"
     ]
    },
    {
     "data": {
      "application/vnd.jupyter.widget-view+json": {
       "model_id": "075bd2035853418d817521f21c6b760f",
       "version_major": 2,
       "version_minor": 0
      },
      "text/plain": [
       "HBox(children=(FloatProgress(value=0.0, description='Edge iteration', max=36.0, style=ProgressStyle(descriptio…"
      ]
     },
     "metadata": {},
     "output_type": "display_data"
    },
    {
     "name": "stdout",
     "output_type": "stream",
     "text": [
      "\n",
      "seed #14\n"
     ]
    },
    {
     "data": {
      "application/vnd.jupyter.widget-view+json": {
       "model_id": "5f70112cbe0145b3b2e5af7f10bd022b",
       "version_major": 2,
       "version_minor": 0
      },
      "text/plain": [
       "HBox(children=(FloatProgress(value=0.0, description='Edge iteration', max=36.0, style=ProgressStyle(descriptio…"
      ]
     },
     "metadata": {},
     "output_type": "display_data"
    },
    {
     "name": "stdout",
     "output_type": "stream",
     "text": [
      "\n"
     ]
    },
    {
     "data": {
      "application/vnd.jupyter.widget-view+json": {
       "model_id": "0a4bc27a52a7433fbdf3a1a583a60d14",
       "version_major": 2,
       "version_minor": 0
      },
      "text/plain": [
       "HBox(children=(FloatProgress(value=0.0, description='Edge iteration', max=36.0, style=ProgressStyle(descriptio…"
      ]
     },
     "metadata": {},
     "output_type": "display_data"
    },
    {
     "name": "stdout",
     "output_type": "stream",
     "text": [
      "\n",
      "seed #15\n"
     ]
    },
    {
     "data": {
      "application/vnd.jupyter.widget-view+json": {
       "model_id": "4ad6e1dd564a4827b919b22178dfb5f5",
       "version_major": 2,
       "version_minor": 0
      },
      "text/plain": [
       "HBox(children=(FloatProgress(value=0.0, description='Edge iteration', max=36.0, style=ProgressStyle(descriptio…"
      ]
     },
     "metadata": {},
     "output_type": "display_data"
    },
    {
     "name": "stdout",
     "output_type": "stream",
     "text": [
      "\n"
     ]
    },
    {
     "data": {
      "application/vnd.jupyter.widget-view+json": {
       "model_id": "173f57373f3d4db3839c839fb695a02a",
       "version_major": 2,
       "version_minor": 0
      },
      "text/plain": [
       "HBox(children=(FloatProgress(value=0.0, description='Edge iteration', max=36.0, style=ProgressStyle(descriptio…"
      ]
     },
     "metadata": {},
     "output_type": "display_data"
    },
    {
     "name": "stdout",
     "output_type": "stream",
     "text": [
      "\n",
      "seed #16\n"
     ]
    },
    {
     "data": {
      "application/vnd.jupyter.widget-view+json": {
       "model_id": "30f8d281f4fe48759c42e923f32146d7",
       "version_major": 2,
       "version_minor": 0
      },
      "text/plain": [
       "HBox(children=(FloatProgress(value=0.0, description='Edge iteration', max=36.0, style=ProgressStyle(descriptio…"
      ]
     },
     "metadata": {},
     "output_type": "display_data"
    },
    {
     "name": "stdout",
     "output_type": "stream",
     "text": [
      "\n"
     ]
    },
    {
     "data": {
      "application/vnd.jupyter.widget-view+json": {
       "model_id": "0060c8ee372540bb98dd804d0480c73e",
       "version_major": 2,
       "version_minor": 0
      },
      "text/plain": [
       "HBox(children=(FloatProgress(value=0.0, description='Edge iteration', max=36.0, style=ProgressStyle(descriptio…"
      ]
     },
     "metadata": {},
     "output_type": "display_data"
    },
    {
     "name": "stdout",
     "output_type": "stream",
     "text": [
      "\n",
      "seed #17\n"
     ]
    },
    {
     "data": {
      "application/vnd.jupyter.widget-view+json": {
       "model_id": "4dfed2a217ce439a97388f64b94a5759",
       "version_major": 2,
       "version_minor": 0
      },
      "text/plain": [
       "HBox(children=(FloatProgress(value=0.0, description='Edge iteration', max=36.0, style=ProgressStyle(descriptio…"
      ]
     },
     "metadata": {},
     "output_type": "display_data"
    },
    {
     "name": "stdout",
     "output_type": "stream",
     "text": [
      "\n"
     ]
    }
   ],
   "source": [
    "results = []\n",
    "graph = 0\n",
    "for g in new_g_list:\n",
    "    graph+=1\n",
    "    print(graph)\n",
    "    result = opt_runs(G=g, seeds =20, steps = 200)\n",
    "    results.append(result)"
   ]
  },
  {
   "cell_type": "code",
   "execution_count": 13,
   "metadata": {},
   "outputs": [
    {
     "data": {
      "text/plain": [
       "[[array([ 0.08274417,  0.38094306, 23.33865618, 16.28225796]),\n",
       "  array([ 0.5737955 ,  0.38407898, 19.5901115 , 17.9241676 ]),\n",
       "  array([ 0.08274328,  0.88088864, 23.33865443, 19.28751811]),\n",
       "  array([ 0.9172563 ,  0.61908907, 23.33865548, 14.75677741]),\n",
       "  array([ 0.08206806,  0.38095185, 23.33832052, 20.09238194]),\n",
       "  array([ 0.91724688,  0.11904871, 23.33865615, 18.18372242]),\n",
       "  array([ 0.91721517,  0.61904788, 23.338655  , 17.69924273]),\n",
       "  array([ 0.0827514 ,  0.38095126, 23.33865617, 18.86484638]),\n",
       "  array([ 0.42623669,  0.6159268 , 19.5901118 , 18.7789423 ]),\n",
       "  array([ 0.42623642,  0.61592537, 19.5901118 , 18.26774182]),\n",
       "  array([ 0.42623571,  0.61591816, 19.59011179, 17.74869234]),\n",
       "  array([ 0.42623362,  0.61588383, 19.59011153, 18.52074015]),\n",
       "  array([ 0.91724235,  0.11904851, 23.33865608, 17.22005131]),\n",
       "  array([ 0.08274354,  0.88091487, 23.33865561, 17.38650806]),\n",
       "  array([ 0.91725487,  1.11899209, 23.33865474, 15.28573566]),\n",
       "  array([ 0.5737583 ,  0.38407111, 19.5901118 , 18.65854448]),\n",
       "  array([ 0.08274417,  0.38095236, 23.33865621, 16.42396883]),\n",
       "  array([ 0.91724068,  0.6190486 , 23.33865604, 17.63755489]),\n",
       "  array([ 0.57376319,  0.38407198, 19.5901118 , 17.8573839 ]),\n",
       "  array([ 0.08274417,  0.3809506 , 23.33865621, 22.90389577])],\n",
       " [array([ 0.08219066,  0.38841668, 22.85488721, 17.40314624]),\n",
       "  array([ 0.91779661,  0.11156064, 22.85488735, 17.60508517]),\n",
       "  array([-0.08216681,  0.11154985, 22.85488699, 17.50964279]),\n",
       "  array([ 0.57464933,  0.37663314, 19.74747534, 17.44819879]),\n",
       "  array([ 0.91780812,  0.11155257, 22.8548874 , 20.04292558]),\n",
       "  array([ 0.57462132,  0.87657887, 19.74747503, 17.0727884 ]),\n",
       "  array([ 0.57462132,  0.87656224, 19.7474747 , 18.25216039]),\n",
       "  array([ 0.91780311,  0.11156083, 22.85488742, 18.49787876]),\n",
       "  array([ 0.57462287,  0.37661672, 19.74747549, 18.6826692 ]),\n",
       "  array([ 0.08220149, -0.11156064, 22.85488738, 17.32539662]),\n",
       "  array([ 0.91779929,  0.11156113, 22.85488739, 21.00059223]),\n",
       "  array([ 0.91780418,  1.11156082, 22.85488743, 17.72676504]),\n",
       "  array([ 0.08219193,  0.38844952, 22.85488739, 13.69826582]),\n",
       "  array([ 0.08221339,  0.88843995, 22.85488714, 17.00148836]),\n",
       "  array([ 0.91786176,  0.11144366, 22.85487916, 18.84005895]),\n",
       "  array([ 0.91780615,  1.11155939, 22.85488743, 13.68672858]),\n",
       "  array([ 0.42541215,  0.12343121, 19.74747444, 18.82723967]),\n",
       "  array([ 0.08219487,  0.88843912, 22.85488743, 20.10215803]),\n",
       "  array([ 0.08219139,  0.88843888, 22.85488744, 22.582242  ]),\n",
       "  array([ 0.42537612,  1.12334955, 19.74747557, 16.92399281])],\n",
       " [array([ 0.91664451,  0.62058961, 23.44360827, 17.90553303]),\n",
       "  array([ 0.91666728,  0.62056875, 23.44360847, 17.84752925]),\n",
       "  array([ 1.08333242,  0.8794114 , 23.44360867, 14.15338365]),\n",
       "  array([ 0.08333456,  0.37941033, 23.44360866, 16.26395742]),\n",
       "  array([ 0.08333284,  0.37941036, 23.44360867, 22.19618998]),\n",
       "  array([ 0.57591218,  0.87551594, 19.77300678, 19.18463939]),\n",
       "  array([ 0.42408702,  0.6244399 , 19.77300673, 18.94675824]),\n",
       "  array([ 0.91664922,  0.62058955, 23.44360842, 16.88412566]),\n",
       "  array([ 0.57591254,  0.3755368 , 19.77300682, 17.66374588]),\n",
       "  array([ 0.57588404,  0.37552229, 19.77300653, 17.82846909]),\n",
       "  array([ 0.08334804,  0.37941036, 23.44360849, 18.21361657]),\n",
       "  array([ 0.91666734,  0.12058471, 23.44360866, 16.51016528]),\n",
       "  array([ 0.57591224,  0.87553376, 19.77300682, 17.65981503]),\n",
       "  array([ 0.91656572,  0.12065789, 23.44359879, 21.47018955]),\n",
       "  array([ 0.91666704,  0.62058961, 23.44360867, 16.50878674]),\n",
       "  array([ 0.42405879,  0.62446481, 19.77300655, 18.05911257]),\n",
       "  array([ 0.42402536,  0.62446463, 19.77300553, 18.07524816]),\n",
       "  array([ 0.08335249,  0.87941033, 23.44360837, 16.56071373]),\n",
       "  array([ 0.08334474,  0.37941036, 23.44360856, 16.84817025]),\n",
       "  array([ 0.91666424,  0.12058967, 23.44360866, 21.02171657])],\n",
       " [array([ 0.42015618,  1.11882544, 20.53851071, 17.64452303]),\n",
       "  array([ 0.91821456,  1.11758828, 23.10158235, 17.37670511]),\n",
       "  array([ 0.42017013,  1.11882925, 20.53851064, 17.07570889]),\n",
       "  array([ 0.57984382,  0.88113672, 20.53851047, 16.33813935]),\n",
       "  array([ 0.08189066,  0.88192606, 23.1014761 , 18.05136841]),\n",
       "  array([-0.08173374,  0.11760211, 23.10158064, 13.99465187]),\n",
       "  array([ 0.42016596,  0.11881312, 20.53851062, 20.43961702]),\n",
       "  array([ 0.9182145 ,  1.11753738, 23.10158057, 12.61505688]),\n",
       "  array([ 0.4201563 ,  0.11882959, 20.53851071, 19.6938569 ]),\n",
       "  array([ 0.57984382,  0.88113946, 20.5385105 , 17.47183658]),\n",
       "  array([ 0.42015624,  1.11875606, 20.53850954, 17.37092685]),\n",
       "  array([ 0.0817571 ,  0.88239217, 23.10158188, 18.00069865]),\n",
       "  array([ 0.91822952,  0.11760208, 23.10158228, 21.82687221]),\n",
       "  array([ 0.91821438,  0.61760205, 23.10158243, 18.861108  ]),\n",
       "  array([ 1.0817852 ,  0.88238722, 23.10158238, 12.62328837]),\n",
       "  array([ 0.57984555,  0.88116318, 20.5385107 , 19.97333045]),\n",
       "  array([ 0.42014545,  0.61882961, 20.53851067, 19.86001209]),\n",
       "  array([ 0.0817854 ,  0.38240826, 23.10158239, 18.78052506]),\n",
       "  array([-0.0817854 ,  0.11760227, 23.10158243, 17.81220424]),\n",
       "  array([ 0.91821867,  0.61760205, 23.10158242, 20.99418088])],\n",
       " [array([ 0.91880262,  0.61706913, 23.06711685, 18.01295948]),\n",
       "  array([ 0.08118851,  0.38293049, 23.06711693, 16.76724035]),\n",
       "  array([ 0.0811864 ,  0.88295323, 23.06711671, 20.92286591]),\n",
       "  array([ 0.42119697,  0.12079948, 20.59982395, 17.80652512]),\n",
       "  array([ 0.42119652,  0.62070233, 20.59982452, 18.31178283]),\n",
       "  array([ 0.08119274,  0.88293058, 23.06711691, 17.64707393]),\n",
       "  array([ 0.9187957 ,  0.61706913, 23.06711672, 18.80602159]),\n",
       "  array([ 0.91880316,  1.11702383, 23.06711594, 17.19753338]),\n",
       "  array([ 1.08118331,  0.38293037, 23.06711693, 15.53912812]),\n",
       "  array([ 0.08118612,  0.88291615, 23.06711685, 17.0997374 ]),\n",
       "  array([ 0.91878861,  0.11703405, 23.06711596, 19.54326574]),\n",
       "  array([ 0.91881251,  0.61706954, 23.06711694, 18.24832465]),\n",
       "  array([ 0.91880453,  0.61706913, 23.06711688, 19.85510069]),\n",
       "  array([ 0.08118621,  0.38292688, 23.06711693, 18.23644674]),\n",
       "  array([ 0.91881102,  0.11706939, 23.06711693, 21.58117529]),\n",
       "  array([ 0.08118626,  0.88293165, 23.06711694, 18.08879275]),\n",
       "  array([ 0.08118674,  0.38293046, 23.06711694, 17.50201894]),\n",
       "  array([ 0.91880262,  0.61706913, 23.06711685, 18.12885803]),\n",
       "  array([ 0.08118631,  0.38294387, 23.06711686, 15.92591284]),\n",
       "  array([ 0.42119762,  0.12075286, 20.59982473, 16.89940341])],\n",
       " [array([ 0.41962656,  0.62271738, 20.66568223, 18.43093109]),\n",
       "  array([ 0.08266138,  0.88322687, 23.05776246, 19.1370017 ]),\n",
       "  array([ 0.41960621,  0.62273914, 20.66568227, 20.09393237]),\n",
       "  array([ 0.58039182,  0.37730289, 20.66568227, 18.14366255]),\n",
       "  array([ 0.58040959,  0.8772673 , 20.6656822 , 20.13707384]),\n",
       "  array([ 0.08231815,  0.3830747 , 23.0578492 , 22.68156914]),\n",
       "  array([ 0.91768539,  0.61692321, 23.05784919, 20.70830128]),\n",
       "  array([ 0.08231815,  0.38308024, 23.0578492 , 17.88076893]),\n",
       "  array([ 0.91765368,  0.61692345, 23.05784869, 14.97765009]),\n",
       "  array([ 0.58031559,  0.87739551, 20.66567729, 19.05913491]),\n",
       "  array([ 0.08247986,  0.88307673, 23.05783229, 18.94870856]),\n",
       "  array([ 1.08231151,  0.38307688, 23.05784917, 17.37319362]),\n",
       "  array([-0.08231815,  0.11692326, 23.0578492 , 16.72613792]),\n",
       "  array([-0.08231933,  0.61698836, 23.05784732, 17.8883341 ]),\n",
       "  array([ 0.91765958,  0.11692367, 23.05784888, 18.13222747]),\n",
       "  array([ 0.41962153,  0.62271726, 20.66568229, 18.31600185]),\n",
       "  array([ 0.58045405,  0.87728864, 20.66568081, 17.73538689]),\n",
       "  array([ 0.41960815,  0.12270803, 20.66568234, 17.26226201]),\n",
       "  array([ 0.91768116,  0.11696694, 23.05784835, 13.90597729]),\n",
       "  array([ 0.91767722,  0.61692345, 23.05784919, 18.48242195])],\n",
       " [array([-0.08838354,  0.62083393, 21.16054675, 14.35786471]),\n",
       "  array([ 0.08840234,  0.37916037, 21.16054695, 17.6127052 ]),\n",
       "  array([ 1.08840263,  0.8791976 , 21.16054655, 15.47086904]),\n",
       "  array([ 0.58893329,  0.12077622, 18.89180518, 16.68153785]),\n",
       "  array([ 0.41106236, -0.12076818, 18.89180515, 14.73471956]),\n",
       "  array([ 0.58893251,  1.1207751 , 18.89180518, 15.73424776]),\n",
       "  array([ 0.91159749,  1.12083364, 21.16054697, 14.5028006 ]),\n",
       "  array([ 0.91158736,  0.12079538, 21.16054627, 17.09717253]),\n",
       "  array([ 0.91160661,  0.62083387, 21.16054692, 16.4696152 ]),\n",
       "  array([ 0.58893317,  0.12071011, 18.89180412, 16.10008087]),\n",
       "  array([ 0.08840219,  0.37914324, 21.16054674, 16.78957662]),\n",
       "  array([ 0.91160893,  0.62083453, 21.16054689, 16.22189492]),\n",
       "  array([ 0.41055945,  0.37922335, 18.8917194 , 16.97785955]),\n",
       "  array([ 0.91159755,  0.12080152, 21.16054652, 17.6014622 ]),\n",
       "  array([ 0.91159201,  0.12070664, 21.16054   , 17.97077948]),\n",
       "  array([ 0.91159767,  0.12083843, 21.16054696, 15.84839748]),\n",
       "  array([ 0.91159981,  0.62080646, 21.16054664, 18.04530998]),\n",
       "  array([ 0.588943  ,  0.62080812, 18.89180489, 14.63962212]),\n",
       "  array([ 0.91159785,  0.62087297, 21.16054631, 14.36454213]),\n",
       "  array([ 0.41106799,  0.37915936, 18.89180417, 15.72846897])],\n",
       " [array([ 0.08774897,  0.38091353, 21.04701597, 17.06652254]),\n",
       "  array([ 0.5897125 ,  0.12206619, 18.93913801, 16.59782297]),\n",
       "  array([ 0.58971208,  0.1220662 , 18.93913801, 17.87365338]),\n",
       "  array([ 0.4103018 ,  0.87793344, 18.93913795, 18.89767609]),\n",
       "  array([ 0.58968484,  0.62206829, 18.93913776, 12.97930409]),\n",
       "  array([ 0.0876571 ,  0.38109902, 21.04699923, 18.10666119]),\n",
       "  array([ 0.91226727,  0.61907041, 21.04701617, 16.60978268]),\n",
       "  array([-0.08772324,  0.61907649, 21.04701613, 13.58887161]),\n",
       "  array([ 0.58971179,  1.12199092, 18.93913665, 15.82658207]),\n",
       "  array([ 0.41031662,  0.87793404, 18.93913773, 13.64295524]),\n",
       "  array([ 0.41028824,  0.8779946 , 18.93913712, 14.05835557]),\n",
       "  array([-0.08773214,  0.1190762 , 21.04701618, 13.23089763]),\n",
       "  array([ 0.58971208,  0.62202793, 18.93913766, 16.00199354]),\n",
       "  array([ 0.08773244,  0.88092083, 21.04701618, 15.94503318]),\n",
       "  array([ 0.91225493,  0.11901076, 21.04701426, 16.00194164]),\n",
       "  array([ 0.58971208,  0.6220091 , 18.93913723, 14.6696483 ]),\n",
       "  array([ 0.08773592,  0.38092425, 21.04701618, 15.96377776]),\n",
       "  array([ 0.41029167,  0.87798893, 18.93913728, 16.06530798]),\n",
       "  array([ 0.41028756, -0.12206618, 18.93913801, 14.18409938]),\n",
       "  array([ 0.5897125 ,  0.62207317, 18.939138  , 14.11370976])],\n",
       " [array([ 0.59016985,  0.12793893, 19.16410259, 17.65303181]),\n",
       "  array([ 0.59018594,  0.12794431, 19.16410248, 16.38436008]),\n",
       "  array([ 0.59017432,  0.62793928, 19.16410258, 16.84289195]),\n",
       "  array([ 0.91247809,  0.62021333, 21.11951138, 15.85724359]),\n",
       "  array([ 0.91244525,  0.12021208, 21.11951069, 16.90328383]),\n",
       "  array([ 0.40983087,  0.37206119, 19.16410259, 17.23365302]),\n",
       "  array([ 0.91247809,  0.12021319, 21.11951138, 18.96169088]),\n",
       "  array([ 0.40983027,  0.87206757, 19.16410258, 18.61449706]),\n",
       "  array([ 0.40980291,  0.37206039, 19.1641023 , 17.43375217]),\n",
       "  array([ 0.58942372,  0.62792295, 19.16388428, 16.69060945]),\n",
       "  array([ 0.59017015,  0.12795509, 19.16410253, 16.36768689]),\n",
       "  array([ 0.40982988,  0.37208909, 19.1641024 , 14.66292811]),\n",
       "  array([ 0.40983027,  0.37206745, 19.16410258, 15.02575314]),\n",
       "  array([ 0.59016979,  0.62793893, 19.16410259, 16.82977403]),\n",
       "  array([-0.08750339,  0.62021381, 21.11951116, 14.17693506]),\n",
       "  array([ 0.91247672,  0.62017924, 21.11951088, 15.34534978]),\n",
       "  array([ 0.59016973,  1.12793791, 19.16410259, 15.01590882]),\n",
       "  array([ 0.59016925,  1.12790751, 19.16410235, 14.11170832]),\n",
       "  array([ 0.59016973,  0.62793368, 19.16410258, 15.10322057]),\n",
       "  array([-0.0875218 ,  0.62021405, 21.11951138, 10.50858959])],\n",
       " [array([ 0.40744808,  0.37536064, 20.48625286, 18.00338267]),\n",
       "  array([ 0.92003268,  0.61420256, 23.57036052, 19.45411468]),\n",
       "  array([ 0.59255403,  1.12457979, 20.48625327, 17.76500148]),\n",
       "  array([ 0.07925577, -0.11419835, 23.57002988, 17.44023168]),\n",
       "  array([ 0.59255236,  0.12464064, 20.48625284, 17.72375066]),\n",
       "  array([ 0.59255147,  0.12468424, 20.4862518 , 18.35665544]),\n",
       "  array([ 0.59251493,  0.12458219, 20.48625293, 19.44310732]),\n",
       "  array([ 0.59255165,  0.62464607, 20.48625274, 18.72467127]),\n",
       "  array([ 0.59250861,  0.62458897, 20.48625281, 18.04965518]),\n",
       "  array([ 0.59255147,  0.12465258, 20.48625261, 17.9172804 ]),\n",
       "  array([ 0.92005837,  0.11420393, 23.57036097, 23.12100804]),\n",
       "  array([ 0.59255773,  1.124511  , 20.48625236, 17.75737213]),\n",
       "  array([ 0.40744224,  0.37547913, 20.48625259, 17.223078  ]),\n",
       "  array([-0.07992487,  0.11420497, 23.57036076, 14.61552547]),\n",
       "  array([ 0.40744731,  0.87538564, 20.48625317, 18.4596659 ]),\n",
       "  array([ 0.59255475,  0.12454469, 20.486253  , 18.75539617]),\n",
       "  array([ 0.92005873,  0.61422378, 23.57036079, 17.28586974]),\n",
       "  array([ 0.92005777,  1.11420286, 23.57036097, 13.23117573]),\n",
       "  array([ 0.07994086,  0.38577461, 23.57036076, 13.55597218]),\n",
       "  array([ 0.59251517,  0.12458727, 20.48625294, 17.9824366 ])],\n",
       " [array([ 0.92126161,  0.11048247, 23.33135844, 21.13051645]),\n",
       "  array([ 0.40548939,  0.38511643, 20.25838701, 18.46250284]),\n",
       "  array([ 0.59451061,  0.61488843, 20.25838702, 17.93890863]),\n",
       "  array([ 0.92123193,  0.11048326, 23.33135814, 15.31096435]),\n",
       "  array([ 0.92125601,  0.61049807, 23.33135845, 17.9539766 ]),\n",
       "  array([ 0.07877638,  0.8895027 , 23.3313578 , 19.08942288]),\n",
       "  array([ 0.92124683,  0.11051466, 23.33135813, 21.74311831]),\n",
       "  array([ 0.92123377,  1.11048579, 23.3313582 , 17.77428643]),\n",
       "  array([ 0.9212395 ,  0.11049404, 23.33135832, 21.81363518]),\n",
       "  array([ 0.4055137 ,  0.38510454, 20.25838692, 18.29260358]),\n",
       "  array([ 0.40555668,  0.88510382, 20.25838622, 16.23813796]),\n",
       "  array([ 0.92124796,  0.61046779, 23.33135826, 16.15465758]),\n",
       "  array([ 0.59451133,  0.6149804 , 20.25838589, 18.03759218]),\n",
       "  array([ 0.40549004, -0.1147973 , 20.25838549, 17.35762062]),\n",
       "  array([ 0.92125422,  0.11048889, 23.33135849, 18.42456582]),\n",
       "  array([ 0.07875532,  0.88950962, 23.33135842, 22.56332277]),\n",
       "  array([ 0.92124808,  0.61048758, 23.33135846, 17.51948542]),\n",
       "  array([ 0.5945093 ,  0.11489557, 20.25838703, 18.63256966]),\n",
       "  array([ 0.59451133,  0.61498272, 20.25838582, 17.292158  ]),\n",
       "  array([ 0.40546176,  0.88512146, 20.25838685, 18.88289261])],\n",
       " [array([ 0.08146525,  0.87966061, 23.98232604, 18.86635895]),\n",
       "  array([ 0.59322405,  0.12959222, 20.6134216 , 18.2040592 ]),\n",
       "  array([ 0.91853267,  0.62031448, 23.98232575, 19.90562838]),\n",
       "  array([ 0.91852701,  0.62033796, 23.98232599, 14.69326875]),\n",
       "  array([ 0.08146556, -0.12033939, 23.98232604, 17.68643105]),\n",
       "  array([ 0.40677455, -0.12948203, 20.61342262, 17.23575084]),\n",
       "  array([ 0.91912609,  0.12033902, 23.98205057, 20.45981865]),\n",
       "  array([ 0.91838336,  0.62020046, 23.98229934, 19.63147766]),\n",
       "  array([ 1.08146226,  0.37966052, 23.98232604, 13.33647056]),\n",
       "  array([ 0.59322536,  0.12950952, 20.61342273, 19.22139446]),\n",
       "  array([ 1.08144855,  0.87966025, 23.98232583, 13.27088864]),\n",
       "  array([ 0.40677634,  0.87041432, 20.61342177, 18.57576914]),\n",
       "  array([ 0.59322536,  0.12948002, 20.61342261, 19.49425323]),\n",
       "  array([ 1.0814631 ,  0.87964326, 23.9823259 , 16.47919664]),\n",
       "  array([ 0.91853279,  0.1203393 , 23.98232604, 16.23856868]),\n",
       "  array([ 0.59322518,  0.62957048, 20.61342211, 18.70003122]),\n",
       "  array([ 0.40674353,  0.37049308, 20.61342247, 19.40337802]),\n",
       "  array([ 0.9185347 ,  0.62040263, 23.9823242 , 18.32178231]),\n",
       "  array([ 0.40677145,  0.3704924 , 20.61342272, 19.69676983]),\n",
       "  array([ 0.91917646,  0.62033868, 23.98200154, 20.93220201])],\n",
       " [array([ 0.08486822,  0.88018185, 22.21416794, 16.93335786]),\n",
       "  array([ 0.91512698,  0.61982256, 22.21416794, 16.43591881]),\n",
       "  array([ 0.91513252,  0.6198343 , 22.21416789, 21.59272152]),\n",
       "  array([ 0.08486843,  0.38017735, 22.21416795, 16.20575362]),\n",
       "  array([ 0.08486874,  0.38022432, 22.21416698, 19.12003878]),\n",
       "  array([ 0.08487117,  0.88017738, 22.21416795, 16.76068985]),\n",
       "  array([ 0.08486683,  0.88019019, 22.21416788, 22.187335  ]),\n",
       "  array([ 1.0848254 ,  0.88017982, 22.21416669, 11.27849231]),\n",
       "  array([ 0.0848955 ,  0.8801471 , 22.21416703, 17.83041264]),\n",
       "  array([ 0.91511959,  0.11982244, 22.21416785, 17.87836617]),\n",
       "  array([ 0.08487003,  0.38017735, 22.21416795, 17.50377166]),\n",
       "  array([ 0.08486843,  0.38018698, 22.21416791, 21.56211586]),\n",
       "  array([ 0.91513199,  0.61984372, 22.21416776, 17.08680489]),\n",
       "  array([ 0.91479993,  0.1198376 , 22.21409248, 16.84603732]),\n",
       "  array([ 0.9151172 ,  0.61982256, 22.21416781, 17.80067388]),\n",
       "  array([-0.08486619,  0.11980417, 22.2141678 , 14.66282348]),\n",
       "  array([ 0.91512483,  1.11982214, 22.21416792, 16.01455153]),\n",
       "  array([ 0.0848685 ,  0.88017553, 22.21416795, 17.85044981]),\n",
       "  array([ 0.08486849,  0.88017195, 22.21416794, 21.9468318 ]),\n",
       "  array([ 0.91512436,  1.11980712, 22.21416781, 16.97142084])],\n",
       " [array([-0.08499593,  0.1199929 , 22.22565712, 12.73171279]),\n",
       "  array([ 0.91500384,  0.61997372, 22.22565691, 15.78053058]),\n",
       "  array([ 0.91500378,  0.61996323, 22.22565665, 12.10253571]),\n",
       "  array([ 0.08499622,  0.38002813, 22.22565687, 16.99573996]),\n",
       "  array([ 0.91499805,  0.11999584, 22.2256571 , 17.55020337]),\n",
       "  array([ 0.91498095,  0.61999542, 22.22565676, 16.25038246]),\n",
       "  array([ 0.91496599,  0.62000209, 22.22565611, 16.06110771]),\n",
       "  array([ 0.08499844,  0.38000408, 22.22565712, 16.75059845]),\n",
       "  array([ 0.08501455,  0.88000113, 22.22565688, 17.32499492]),\n",
       "  array([ 0.91499102,  0.1199958 , 22.22565701, 17.66509091]),\n",
       "  array([ 0.91498888,  0.61999577, 22.22565697, 17.19942347]),\n",
       "  array([ 0.08502564,  0.38000464, 22.22565652, 16.32923968]),\n",
       "  array([ 0.08499608,  0.88002187, 22.22565698, 18.97634908]),\n",
       "  array([-0.08498839,  0.1199961 , 22.22565709, 11.58551021]),\n",
       "  array([ 0.08508433,  0.87979275, 22.22563191, 17.01846642]),\n",
       "  array([ 0.91498828,  0.11999572, 22.22565695, 17.59723953]),\n",
       "  array([ 0.08499845,  0.38000408, 22.22565712, 17.45989541]),\n",
       "  array([ 0.9150039 ,  0.61998016, 22.22565701, 15.95407388]),\n",
       "  array([ 0.91497231,  0.61999983, 22.22565642, 14.8078535 ]),\n",
       "  array([ 0.08499607,  0.88001359, 22.22565708, 19.51751012])],\n",
       " [array([ 0.08513267,  0.88120109, 22.1499603 , 18.60555714]),\n",
       "  array([ 0.08513849,  0.88116348, 22.1499609 , 15.98112795]),\n",
       "  array([ 0.08513267,  0.38115019, 22.14996084, 16.6441047 ]),\n",
       "  array([ 0.08513331, -0.11883572, 22.14996092, 16.73065382]),\n",
       "  array([ 0.91486663,  1.11883509, 22.14996092, 16.80845586]),\n",
       "  array([ 0.08513274, -0.11883628, 22.14996092, 16.85627566]),\n",
       "  array([ 0.91485405,  0.61883634, 22.14996081, 16.82282697]),\n",
       "  array([ 0.9148711 ,  0.61885917, 22.14996068, 19.66078894]),\n",
       "  array([ 0.91486734,  0.6188494 , 22.14996085, 13.18298195]),\n",
       "  array([ 0.91486722,  0.61882186, 22.14996083, 17.61534611]),\n",
       "  array([ 0.91486758,  0.11887358, 22.14996031, 15.61361935]),\n",
       "  array([ 0.08514206,  0.38116363, 22.14996086, 17.6845219 ]),\n",
       "  array([ 0.91486716,  0.11883646, 22.14996092, 17.21349161]),\n",
       "  array([ 0.08448705,  0.38116342, 22.14968492, 18.63551919]),\n",
       "  array([ 0.91470724,  0.11896197, 22.14993695, 20.55463464]),\n",
       "  array([ 0.91486585,  1.11883569, 22.14996092, 16.55452719]),\n",
       "  array([ 0.91486716,  0.11883634, 22.14996092, 17.67704824]),\n",
       "  array([ 0.08514824,  0.38116378, 22.14996076, 17.03065156]),\n",
       "  array([ 0.08513232,  0.88164711, 22.14985786, 17.06436424]),\n",
       "  array([ 0.91486329,  0.11883642, 22.14996091, 16.67517473])],\n",
       " [array([-0.07794287,  0.61936784, 26.87914483, 16.48077069]),\n",
       "  array([ 0.43956468,  0.1931148 , 21.29115332, 21.22443637]),\n",
       "  array([ 0.6134575 ,  0.65637285, 21.32836426, 20.98509144]),\n",
       "  array([ 0.43944484,  0.69359821, 21.29115197, 20.82602369]),\n",
       "  array([ 0.07794923,  0.3806881 , 26.87914535, 18.48136668]),\n",
       "  array([ 0.43956435,  0.6931178 , 21.29115333, 20.9499712 ]),\n",
       "  array([-0.07794937,  0.61930037, 26.87914506, 16.93074299]),\n",
       "  array([ 0.61336637,  0.65673971, 21.32836447, 21.18738589]),\n",
       "  array([ 0.07794899,  0.88066828, 26.87914554, 16.52541783]),\n",
       "  array([ 0.38662502,  0.34325647, 21.32836447, 21.2484981 ]),\n",
       "  array([ 0.07796736,  0.38066924, 26.87914523, 19.05027139]),\n",
       "  array([ 0.92203313,  0.61930561, 26.87914493, 21.52491472]),\n",
       "  array([ 0.92202967,  0.61947668, 26.87913449, 20.91151306]),\n",
       "  array([ 0.92205083,  0.61931568, 26.87914542, 20.86435111]),\n",
       "  array([ 0.43956199,  0.19312853, 21.29115333, 20.95530998]),\n",
       "  array([ 0.38654399,  0.84362304, 21.32836428, 20.9937374 ]),\n",
       "  array([ 0.71665102,  0.37553847, 21.15490096, 21.08394223]),\n",
       "  array([ 0.43956438,  0.69311851, 21.29115333, 20.88164866]),\n",
       "  array([ 0.92205077,  0.61930531, 26.8791452 , 18.71115249]),\n",
       "  array([ 0.07768653,  0.88058311, 26.87907918, 24.80429753])],\n",
       " [array([ 0.37495875,  0.38458171, 21.21587696, 21.17437739]),\n",
       "  array([ 0.07705204,  0.88393843, 26.6401411 , 23.93158817]),\n",
       "  array([ 0.92292452,  0.61606663, 26.64014062, 17.2570895 ]),\n",
       "  array([ 0.0770518 ,  0.88392991, 26.6401411 , 25.24581572]),\n",
       "  array([ 0.92294794,  0.61606586, 26.64014111, 20.96438668]),\n",
       "  array([ 0.07705189,  0.88393384, 26.64014111, 24.93814276]),\n",
       "  array([ 0.922948  ,  0.6160624 , 26.64014111, 21.43892025]),\n",
       "  array([ 0.07705172, -0.11606592, 26.64014111, 20.14850004]),\n",
       "  array([ 0.07705172,  0.38393396, 26.64014111, 22.39039244]),\n",
       "  array([ 0.28157941,  0.62041593, 21.14588833, 20.91649706]),\n",
       "  array([ 0.37476408,  0.88446259, 21.21587355, 21.05738681]),\n",
       "  array([ 0.07705686,  0.88386345, 26.64013857, 22.05681069]),\n",
       "  array([ 0.92294824,  0.11606592, 26.64014111, 23.15336926]),\n",
       "  array([ 0.92294788,  0.61605275, 26.64014102, 17.18700864]),\n",
       "  array([-0.07705172,  0.61606586, 26.64014111, 18.88107451]),\n",
       "  array([ 0.922948  ,  1.11605752, 26.64014108, 19.79471242]),\n",
       "  array([ 0.71841395,  0.87963426, 21.14588858, 20.76114999]),\n",
       "  array([ 0.6250512 ,  0.11573893, 21.21587645, 20.92295964]),\n",
       "  array([ 0.62504905,  0.6156497 , 21.215877  , 20.95101894]),\n",
       "  array([ 0.28158706,  0.12037992, 21.14588852, 20.90810252])],\n",
       " [array([ 0.62142611,  0.11645778, 21.21470899, 20.99633051]),\n",
       "  array([ 0.7184543 ,  0.37950528, 21.14656732, 20.42082625]),\n",
       "  array([ 0.54420251,  0.36038792, 21.18973277, 21.15264197]),\n",
       "  array([ 0.62139553,  1.11605132, 21.2147055 , 20.99547232]),\n",
       "  array([ 0.37857884,  0.88349384, 21.21470895, 20.97235572]),\n",
       "  array([ 1.07554054,  0.8890627 , 26.28063014, 16.56501088]),\n",
       "  array([ 0.07599019,  0.38893875, 26.28046012, 24.09379971]),\n",
       "  array([ 0.45577207,  0.63928837, 21.18973254, 20.91857054]),\n",
       "  array([ 0.28154472,  0.12049228, 21.14656731, 21.00254049]),\n",
       "  array([ 0.07553329,  0.88898587, 26.28062952, 14.11994754]),\n",
       "  array([ 0.28153884,  0.12070011, 21.14656718, 20.99895272]),\n",
       "  array([ 0.07557177,  0.88903826, 26.28062968, 22.96735322]),\n",
       "  array([ 0.92444634,  0.61096603, 26.2806304 , 21.00154282]),\n",
       "  array([ 0.71845901,  0.87940878, 21.14656738, 20.72197407]),\n",
       "  array([ 0.4558017 ,  0.13932939, 21.18973292, 21.10771161]),\n",
       "  array([ 0.71844804,  0.37942171, 21.14656737, 21.12036939]),\n",
       "  array([ 1.07554078,  0.38905913, 26.28063024, 18.82236241]),\n",
       "  array([ 1.07554197,  0.88906562, 26.28063004, 16.05835901]),\n",
       "  array([ 0.07555289,  0.88903356, 26.28063042, 21.92999227]),\n",
       "  array([ 0.07518017,  0.88903499, 26.28052859, 21.34229888])],\n",
       " [array([ 0.91680479,  0.61908752, 22.06250404, 21.86484049]),\n",
       "  array([ 0.42430562,  0.11989074, 20.60740429, 16.79270098]),\n",
       "  array([ 0.91678983,  0.11908284, 22.06250376, 16.07483121]),\n",
       "  array([ 0.0832056 ,  0.38086671, 22.06250287, 18.75947589]),\n",
       "  array([ 0.57569772,  0.88015687, 20.60740364, 18.76352181]),\n",
       "  array([ 0.91682082,  0.61907834, 22.06250399, 21.95444054]),\n",
       "  array([ 0.08318868,  0.38091448, 22.06250407, 17.91724053]),\n",
       "  array([ 0.91676366,  0.61908299, 22.06250257, 16.7682589 ]),\n",
       "  array([ 0.42430571,  0.61989367, 20.60740429, 19.3887715 ]),\n",
       "  array([ 0.08318818,  0.88090855, 22.06250406, 17.61987596]),\n",
       "  array([ 0.57569426,  0.38011065, 20.60740429, 15.05707576]),\n",
       "  array([ 0.08318824,  0.38091761, 22.06250407, 21.37418937]),\n",
       "  array([ 0.42430165,  0.61987644, 20.60740423, 15.63681332]),\n",
       "  array([ 0.57569426,  0.88011062, 20.60740429, 20.35317821]),\n",
       "  array([ 0.91679358,  0.61908472, 22.06250386, 16.12440442]),\n",
       "  array([ 0.42430574,  0.61989182, 20.60740429, 17.41924429]),\n",
       "  array([ 0.91680938,  0.61904353, 22.06250331, 15.08834734]),\n",
       "  array([ 0.08318841, -0.11908394, 22.06250407, 15.46523989]),\n",
       "  array([ 0.5757128 ,  0.38009989, 20.60740405, 16.44851812]),\n",
       "  array([ 0.57568043,  0.38013941, 20.60740391, 17.18151798])],\n",
       " [array([ 0.91529536,  0.11666659, 21.91218841, 15.66454849]),\n",
       "  array([ 0.42357478,  0.61621892, 20.44653901, 13.66525195]),\n",
       "  array([ 1.08467352,  0.3833383 , 21.91218786, 16.7311743 ]),\n",
       "  array([ 0.42359176,  0.616243  , 20.44653906, 19.01745807]),\n",
       "  array([ 0.08473504,  0.3833386 , 21.91218789, 17.32748938]),\n",
       "  array([ 0.91529548,  0.11667549, 21.91218833, 17.02982947]),\n",
       "  array([ 0.0847379 ,  0.88333911, 21.91218778, 16.55985336]),\n",
       "  array([ 0.0846553 ,  0.88333648, 21.91218701, 18.02740711]),\n",
       "  array([ 0.42357475,  0.11624301, 20.44653919, 18.63934117]),\n",
       "  array([ 0.08471393,  0.38333878, 21.91218837, 18.7505719 ]),\n",
       "  array([ 0.4236066 ,  0.61624461, 20.44653869, 12.82330664]),\n",
       "  array([ 0.08473079,  0.88333905, 21.91218802, 15.1779217 ]),\n",
       "  array([ 0.91528738,  0.61666107, 21.91218838, 21.15739598]),\n",
       "  array([ 0.91529471,  1.11661935, 21.91218766, 11.19241698]),\n",
       "  array([ 0.42357484,  0.11620348, 20.44653871, 19.54493849]),\n",
       "  array([ 0.91529548,  0.11668058, 21.91218826, 16.45753086]),\n",
       "  array([ 0.4235754 ,  0.61622739, 20.44653911, 14.33147673]),\n",
       "  array([ 0.42357942,  0.11625325, 20.44653915, 18.13718292]),\n",
       "  array([ 0.42355928,  0.61626405, 20.44653891, 17.14011281]),\n",
       "  array([ 0.57642502,  0.88377917, 20.44653904, 17.40564328])],\n",
       " [array([ 0.91444325,  1.11831272, 22.01618256, 14.81693899]),\n",
       "  array([ 0.57758415,  0.88162851, 20.541168  , 19.93490169]),\n",
       "  array([ 0.57758385,  0.38163015, 20.541168  , 20.33114328]),\n",
       "  array([ 0.08555721,  0.88195258, 22.01614993, 16.29038543]),\n",
       "  array([ 0.08555677, -0.11831757, 22.01618259, 13.03469937]),\n",
       "  array([ 0.4224149 ,  0.61836994, 20.541168  , 16.19603059]),\n",
       "  array([ 0.91444308,  0.61832941, 22.01618258, 16.29359888]),\n",
       "  array([ 0.42241594,  0.1183571 , 20.54116795, 18.04943025]),\n",
       "  array([ 0.91442776,  1.11823368, 22.01617905, 13.28345208]),\n",
       "  array([ 0.08560362,  0.88167703, 22.01618132, 18.24483181]),\n",
       "  array([ 0.08555686,  0.3816798 , 22.0161826 , 20.82793589]),\n",
       "  array([ 0.91442323,  0.61832261, 22.01618237, 17.73181525]),\n",
       "  array([ 0.08555704,  0.38166273, 22.0161825 , 16.84105715]),\n",
       "  array([ 0.91444314,  1.11832142, 22.0161826 , 11.48271147]),\n",
       "  array([ 0.08555683,  0.38167778, 22.0161826 , 21.27671561]),\n",
       "  array([ 0.08556303,  0.88166988, 22.01618255, 13.97150204]),\n",
       "  array([ 0.42241615,  0.1183698 , 20.541168  , 19.59952369]),\n",
       "  array([ 0.91441977,  0.11832274, 22.01618228, 16.85437433]),\n",
       "  array([ 0.42241952,  0.61838526, 20.54116792, 18.60151075]),\n",
       "  array([ 0.08561596,  0.88186389, 22.01616546, 17.2912659 ])],\n",
       " [array([ 0.57344192,  0.3798987 , 26.44115927, 17.8434134 ]),\n",
       "  array([ 0.42653924,  0.6201039 , 26.44115896, 26.13464861]),\n",
       "  array([ 0.0758548 ,  0.38102522, 27.38264033, 22.79224143]),\n",
       "  array([ 0.57348067,  0.37989649, 26.44115795, 20.42664813]),\n",
       "  array([ 0.42655593,  0.62010241, 26.44115927, 20.86114392]),\n",
       "  array([ 0.07585279,  0.88093954, 27.38264401, 24.021982  ]),\n",
       "  array([ 0.5734418 ,  0.87989497, 26.44115927, 21.28806435]),\n",
       "  array([ 0.42654777,  0.62010199, 26.44115918, 21.60071501]),\n",
       "  array([ 0.92414737,  0.61906493, 27.382644  , 16.18301621]),\n",
       "  array([ 0.57323384,  0.87964869, 26.44109617, 22.86302505]),\n",
       "  array([ 0.07586494,  0.38091132, 27.38264346, 21.69857383]),\n",
       "  array([ 0.42655846,  0.62012786, 26.441159  , 19.46709445]),\n",
       "  array([ 0.07585279,  0.38093951, 27.38264401, 21.26229699]),\n",
       "  array([ 0.0758528 ,  0.88093954, 27.38264401, 22.04649105]),\n",
       "  array([ 0.42656705,  0.12010248, 26.4411592 , 18.1414397 ]),\n",
       "  array([ 0.07585288,  0.38093951, 27.38264401, 23.8689806 ]),\n",
       "  array([ 0.92414719,  0.11905896, 27.38264401, 24.15415134]),\n",
       "  array([ 0.57344145,  0.87987286, 26.44115902, 23.02856041]),\n",
       "  array([ 0.57344282,  0.37989777, 26.44115927, 22.61079218]),\n",
       "  array([ 0.42655841,  0.61994839, 26.44114943, 23.55812559])],\n",
       " [array([ 0.42797089,  0.61068195, 25.881028  , 15.95524244]),\n",
       "  array([ 0.92367715,  0.11290257, 26.94266467, 21.50069283]),\n",
       "  array([ 0.57207197,  0.38934207, 25.88102863, 23.74978474]),\n",
       "  array([ 0.42801183,  0.61072248, 25.88102381, 22.196159  ]),\n",
       "  array([ 0.57205683, -0.11065735, 25.88102879, 20.65785573]),\n",
       "  array([ 0.07630944,  0.88704747, 26.94266354, 21.52045498]),\n",
       "  array([ 0.42794237,  0.11065774, 25.88102879, 21.60624484]),\n",
       "  array([ 0.42794809,  0.61065835, 25.88102877, 16.04095749]),\n",
       "  array([ 0.92368937,  0.61290377, 26.94266479, 17.96952589]),\n",
       "  array([ 0.42793974,  0.61058557, 25.88102659, 21.98330783]),\n",
       "  array([ 0.07633596,  0.88709807, 26.94266428, 21.5110043 ]),\n",
       "  array([ 0.42794162,  0.61065781, 25.88102879, 21.65097513]),\n",
       "  array([ 0.57205671,  0.38934264, 25.88102879, 16.74849984]),\n",
       "  array([ 0.57205731,  0.38934407, 25.88102879, 24.97213955]),\n",
       "  array([-0.07630944,  0.11290307, 26.94266479, 15.04415497]),\n",
       "  array([ 0.07631066,  0.88709742, 26.94266479, 22.64668783]),\n",
       "  array([ 0.42794171,  0.61064643, 25.88102873, 15.74872289]),\n",
       "  array([ 0.5720998 ,  0.38934812, 25.88102749, 21.62190227]),\n",
       "  array([ 0.92368591,  0.6129027 , 26.94266478, 21.60267986]),\n",
       "  array([ 0.42794263,  0.61065775, 25.88102879, 22.8681076 ])],\n",
       " [array([ 0.92350978,  0.11782872, 27.29366401, 25.59138531]),\n",
       "  array([ 0.57275563,  0.88349086, 26.21967629, 21.66117147]),\n",
       "  array([ 0.42723909,  0.11665431, 26.21966465, 21.83144779]),\n",
       "  array([ 0.92351145,  0.61787426, 27.29366328, 26.07234697]),\n",
       "  array([ 0.0764984 ,  0.88234121, 27.29364829, 22.3285447 ]),\n",
       "  array([ 0.57274944,  0.3835423 , 26.21967614, 20.95969178]),\n",
       "  array([ 0.42724383,  0.11648482, 26.21967652, 20.90355952]),\n",
       "  array([ 0.57274348,  0.38351291, 26.21967638, 23.01085861]),\n",
       "  array([ 0.07649036,  0.88217491, 27.29366398, 20.750359  ]),\n",
       "  array([ 0.57273823,  0.88351434, 26.21967624, 25.10148539]),\n",
       "  array([ 0.42725548,  0.61650169, 26.2196763 , 23.88813199]),\n",
       "  array([ 0.57275653,  0.38351512, 26.21967652, 21.40728085]),\n",
       "  array([ 0.57275438,  0.88343257, 26.21967375, 21.09508946]),\n",
       "  array([ 0.42721188,  0.11648344, 26.2196757 , 21.52139381]),\n",
       "  array([ 0.07649049,  0.88216442, 27.29366403, 26.78102561]),\n",
       "  array([ 0.07649028,  0.88216376, 27.29366403, 25.95996538]),\n",
       "  array([ 0.57275468,  0.38347232, 26.21967579, 20.90166301]),\n",
       "  array([ 0.42738131,  0.61648566, 26.21966097, 21.53558039]),\n",
       "  array([ 0.57275444,  0.38346466, 26.2196755 , 16.23547739]),\n",
       "  array([ 0.07650858,  0.88215864, 27.29366371, 26.34785115])],\n",
       " [array([ 0.42458189,  0.6113556 , 27.37056371, 22.58752528]),\n",
       "  array([ 0.42458504,  0.61136174, 27.3705637 , 20.39240701]),\n",
       "  array([ 0.07543895,  0.88834882, 27.37051855, 22.61083728]),\n",
       "  array([ 0.42458335,  0.6113556 , 27.37056372, 19.79887309]),\n",
       "  array([ 0.92457986,  0.6113556 , 27.3705637 , 22.11659845]),\n",
       "  array([ 0.07542153,  0.88864428, 27.37056369, 21.64711645]),\n",
       "  array([ 0.42454275,  1.11135411, 27.37056231, 20.14123144]),\n",
       "  array([ 0.92458552,  0.61135644, 27.37056372, 27.02386016]),\n",
       "  array([ 0.42457023,  0.11135583, 27.37056355, 21.68786485]),\n",
       "  array([ 0.92458469,  0.61135572, 27.37056372, 21.89246376]),\n",
       "  array([ 0.42456487,  0.11135514, 27.3705634 , 22.70707599]),\n",
       "  array([-0.07539681,  0.11133907, 27.37056331, 20.76195875]),\n",
       "  array([ 0.42458335,  0.61135566, 27.37056372, 21.90877364]),\n",
       "  array([ 0.57539469,  0.38864395, 27.37056339, 19.95716918]),\n",
       "  array([ 0.9245798 ,  0.11134417, 27.37056363, 25.08904058]),\n",
       "  array([ 0.07541505,  0.38864431, 27.37056372, 16.29917677]),\n",
       "  array([ 0.92457968,  0.61138648, 27.37056321, 24.03113428]),\n",
       "  array([ 0.57541519,  0.88864422, 27.37056372, 26.02440732]),\n",
       "  array([ 0.92458481,  0.61135602, 27.37056372, 27.33679006]),\n",
       "  array([ 0.92458546,  0.11140946, 27.37056224, 21.52198939])],\n",
       " [array([-0.07457852,  0.61440986, 27.58607359, 16.46029896]),\n",
       "  array([ 0.07457657,  0.88552397, 27.58607538, 26.73285822]),\n",
       "  array([ 0.5745759 , -0.11446085, 27.58607536, 17.85979798]),\n",
       "  array([ 0.42531559,  0.61447161, 27.58606496, 25.7778509 ]),\n",
       "  array([ 0.42538598,  0.61446524, 27.5860741 , 23.78292712]),\n",
       "  array([ 0.07457647,  0.38554168, 27.58607534, 15.94135632]),\n",
       "  array([ 0.42542455,  0.61442846, 27.58607454, 25.37153368]),\n",
       "  array([ 0.42544734,  0.61447054, 27.58607493, 17.60522859]),\n",
       "  array([ 0.92542416,  1.11446679, 27.5860754 , 17.39745821]),\n",
       "  array([ 0.07459427,  0.38553143, 27.58607509, 22.28030833]),\n",
       "  array([ 0.5745765 ,  0.3855176 , 27.58607531, 24.50352272]),\n",
       "  array([ 0.9254241 ,  0.61446506, 27.58607539, 19.15024062]),\n",
       "  array([ 0.42542455,  0.6144774 , 27.58607537, 16.3865436 ]),\n",
       "  array([ 0.0738811 ,  0.38553137, 27.58564822, 23.43116081]),\n",
       "  array([ 0.5745768 ,  0.88553065, 27.5860754 , 17.39992467]),\n",
       "  array([ 0.42542455,  0.61447752, 27.58607537, 19.44627491]),\n",
       "  array([ 0.07457601, -0.11446933, 27.5860754 , 17.33403622]),\n",
       "  array([ 0.42542481,  0.11448965, 27.58607519, 21.57788754]),\n",
       "  array([ 0.92542511,  0.1144878 , 27.58607523, 21.23203888]),\n",
       "  array([ 0.57454419,  0.88552803, 27.58607452, 15.48363848])],\n",
       " [array([ 0.42493749,  0.61485547, 27.61398125, 15.87432108]),\n",
       "  array([ 1.0750612 ,  0.88514781, 27.61398127, 20.25479314]),\n",
       "  array([ 0.42493877,  0.61485511, 27.61398126, 19.76600451]),\n",
       "  array([ 0.07506131,  0.88514656, 27.61398127, 17.07563872]),\n",
       "  array([ 0.07506072,  0.38516119, 27.61398122, 27.36055565]),\n",
       "  array([ 0.92493826,  0.61483282, 27.61398114, 20.44770825]),\n",
       "  array([ 0.07506129,  0.38511899, 27.61398076, 21.66105415]),\n",
       "  array([ 0.57505357,  0.88515049, 27.61398122, 18.6912997 ]),\n",
       "  array([ 0.92489272,  0.61487508, 27.61397906, 25.56801665]),\n",
       "  array([ 0.57505405,  0.38511884, 27.61398071, 17.14146632]),\n",
       "  array([ 0.42493886,  0.11484918, 27.61398127, 15.90316429]),\n",
       "  array([ 0.92493892,  0.61486262, 27.61398118, 19.67208401]),\n",
       "  array([ 0.42493853,  0.11485821, 27.61398123, 22.62223515]),\n",
       "  array([ 0.07507153,  0.38515127, 27.61398118, 22.04446353]),\n",
       "  array([ 0.92492342,  0.61484879, 27.61398107, 21.94142818]),\n",
       "  array([ 0.57506126,  0.38514456, 27.61398125, 21.17950131]),\n",
       "  array([ 0.42493764,  0.11480846, 27.61398043, 23.35447912]),\n",
       "  array([ 0.0750617 ,  0.88516349, 27.61398119, 26.52363928]),\n",
       "  array([ 0.92495918,  0.61484975, 27.6139809 , 22.20339084]),\n",
       "  array([ 0.42493862,  0.61484921, 27.61398127, 20.33919865])]]"
      ]
     },
     "execution_count": 13,
     "metadata": {},
     "output_type": "execute_result"
    }
   ],
   "source": [
    "results"
   ]
  },
  {
   "cell_type": "code",
   "execution_count": 15,
   "metadata": {},
   "outputs": [
    {
     "data": {
      "text/plain": [
       "20"
      ]
     },
     "execution_count": 15,
     "metadata": {},
     "output_type": "execute_result"
    }
   ],
   "source": [
    "len(results[0])"
   ]
  },
  {
   "cell_type": "markdown",
   "metadata": {},
   "source": [
    "# Storing Data"
   ]
  },
  {
   "cell_type": "code",
   "execution_count": 16,
   "metadata": {},
   "outputs": [],
   "source": [
    "with open('55_20NodeRandom_Local_Data_Part2.csv', 'w', newline = '') as f:\n",
    "  thewriter = csv.writer(f)\n",
    "  for g_results in results :\n",
    "        for seed_results in g_results:\n",
    "            thewriter.writerow(seed_results)"
   ]
  },
  {
   "cell_type": "code",
   "execution_count": null,
   "metadata": {},
   "outputs": [],
   "source": []
  }
 ],
 "metadata": {
  "kernelspec": {
   "display_name": "Python 3",
   "language": "python",
   "name": "python3"
  },
  "language_info": {
   "codemirror_mode": {
    "name": "ipython",
    "version": 3
   },
   "file_extension": ".py",
   "mimetype": "text/x-python",
   "name": "python",
   "nbconvert_exporter": "python",
   "pygments_lexer": "ipython3",
   "version": "3.7.6"
  }
 },
 "nbformat": 4,
 "nbformat_minor": 4
}
