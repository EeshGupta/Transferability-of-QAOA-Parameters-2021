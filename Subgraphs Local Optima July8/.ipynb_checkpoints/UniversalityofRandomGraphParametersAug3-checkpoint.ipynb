{
 "cells": [
  {
   "cell_type": "code",
   "execution_count": 1,
   "metadata": {},
   "outputs": [
    {
     "name": "stderr",
     "output_type": "stream",
     "text": [
      "2021-07-29 10:39:04,473- WARNING•\tQuickBB solver is unavailable\n",
      "2021-07-29 10:39:04,475- WARNING•\tTamaki solver is unavailable: No path /home/egupta/.local/lib/python3.7/site-packages/thirdparty/tamaki_treewidth\n"
     ]
    }
   ],
   "source": [
    "import warnings\n",
    "warnings.filterwarnings('ignore')\n",
    "\n",
    "#################\n",
    "# My notebook issues\n",
    "import os\n",
    "import sys\n",
    "nb_dir = os.path.split(os.getcwd())[0]\n",
    "if nb_dir not in sys.path:\n",
    "    sys.path.append(nb_dir)\n",
    "sys.path.append('home/egupta/.local/bin')\n",
    "\n",
    "##############\n",
    "\n",
    "import os\n",
    "import numpy as np\n",
    "import scipy.stats as ss\n",
    "import networkx as nx\n",
    "import csv \n",
    "import numpy as np\n",
    "import seaborn as sns\n",
    "from pandas import DataFrame\n",
    "from scipy.optimize import curve_fit\n",
    "import matplotlib\n",
    "from matplotlib import pyplot as plt\n",
    "\n",
    "%matplotlib inline\n",
    "\n",
    "\n",
    "##qtensor imports\n",
    "import qtensor\n",
    "from qtensor import QAOA_energy\n",
    "from qtensor import parameter_optimization as popt\n",
    "import torch"
   ]
  },
  {
   "cell_type": "code",
   "execution_count": 2,
   "metadata": {},
   "outputs": [],
   "source": [
    "file2 = open(\"20NodeRandomLocalData.txt\")\n",
    "file3 = open(\"20NodeRandomGraphs.txt\")"
   ]
  },
  {
   "cell_type": "code",
   "execution_count": 3,
   "metadata": {},
   "outputs": [],
   "source": [
    "g_data = np.loadtxt(file2).reshape(55,20,4)\n",
    "mat_list = np.loadtxt(file3).reshape(55,20,20)"
   ]
  },
  {
   "cell_type": "code",
   "execution_count": 4,
   "metadata": {},
   "outputs": [],
   "source": [
    "def find_max_energy(results):\n",
    "    \"\"\"\n",
    "    Given multiple local optima, find the max\n",
    "    \"\"\"\n",
    "    energies = []\n",
    "    for i in range(len(results)):\n",
    "        energies.append(results[i][2])\n",
    "    return max(energies)"
   ]
  },
  {
   "cell_type": "code",
   "execution_count": 5,
   "metadata": {},
   "outputs": [],
   "source": [
    "max_energies = [find_max_energy(i) for i in g_data]"
   ]
  },
  {
   "cell_type": "code",
   "execution_count": 6,
   "metadata": {},
   "outputs": [],
   "source": [
    "def mats_to_graphs(mat_list):\n",
    "  \"\"\"\n",
    "  Given list of adjaceny matrix repr of graphs, converts to actual graphs\n",
    "  \"\"\"\n",
    "  g_list = []\n",
    "  for mat in mat_list:\n",
    "    arr = np.array(mat)\n",
    "    G = nx.convert_matrix.from_numpy_matrix(arr)\n",
    "    g_list.append(G)\n",
    "  return g_list"
   ]
  },
  {
   "cell_type": "code",
   "execution_count": 7,
   "metadata": {},
   "outputs": [],
   "source": [
    "g_list = mats_to_graphs(mat_list)"
   ]
  },
  {
   "cell_type": "code",
   "execution_count": 8,
   "metadata": {},
   "outputs": [
    {
     "data": {
      "text/plain": [
       "[20.284749105370768,\n",
       " 20.502635955801225,\n",
       " 18.066398420918414,\n",
       " 17.86002664365252,\n",
       " 20.864235941178443,\n",
       " 20.858653070476944,\n",
       " 23.980917630040672,\n",
       " 23.838427673621815,\n",
       " 22.221382432427987,\n",
       " 22.06849600891617,\n",
       " 26.780676084021273,\n",
       " 26.679933259533694,\n",
       " 23.457681076195165,\n",
       " 23.25716682150475,\n",
       " 22.91554565357199,\n",
       " 23.079868335123706,\n",
       " 21.81286201725008,\n",
       " 21.96574473687494,\n",
       " 26.793042762094295,\n",
       " 27.183336848383497,\n",
       " 27.66213945620647,\n",
       " 27.845212736429364,\n",
       " 20.334773176913686,\n",
       " 20.573426826891534,\n",
       " 20.406697224191806,\n",
       " 17.85286348497528,\n",
       " 18.022779955152135,\n",
       " 17.56897217599276,\n",
       " 23.338656210439737,\n",
       " 22.854887436815865,\n",
       " 23.443608667223767,\n",
       " 23.10158243276543,\n",
       " 23.067116935873962,\n",
       " 23.05784920134478,\n",
       " 21.160546969459688,\n",
       " 21.047016182737273,\n",
       " 21.119511380242272,\n",
       " 23.570360967601996,\n",
       " 23.33135849133972,\n",
       " 23.982326041550806,\n",
       " 22.214167951626468,\n",
       " 22.22565712028168,\n",
       " 22.149960921417307,\n",
       " 26.879145535277534,\n",
       " 26.640141111375648,\n",
       " 26.28063042367684,\n",
       " 22.06250407244687,\n",
       " 21.91218840745617,\n",
       " 22.01618259930831,\n",
       " 27.38264401263232,\n",
       " 26.942664791195305,\n",
       " 27.29366403318902,\n",
       " 27.37056371932459,\n",
       " 27.58607539861514,\n",
       " 27.613981274867996]"
      ]
     },
     "execution_count": 8,
     "metadata": {},
     "output_type": "execute_result"
    }
   ],
   "source": [
    "max_energies"
   ]
  },
  {
   "cell_type": "code",
   "execution_count": 9,
   "metadata": {},
   "outputs": [],
   "source": [
    "step = 30\n",
    "gamma = np.linspace(0, 1, num = step)\n",
    "beta = np.linspace(0, 0.5, num = step)\n",
    "data_1 = np.zeros((step, step))\n",
    "data_2 = np.zeros((step, step))"
   ]
  },
  {
   "cell_type": "code",
   "execution_count": 10,
   "metadata": {},
   "outputs": [],
   "source": [
    "def get_edge_energy_contribution(graph, edge, gamma, beta):\n",
    "    sim = qtensor.QtreeSimulator()\n",
    "    composer = qtensor.DefaultQAOAComposer(graph, gamma=gamma, beta=beta)\n",
    "    composer.energy_expectation_lightcone(edge)\n",
    "    return (1-np.real(sim.simulate_batch(composer.circuit)[0]))/2"
   ]
  },
  {
   "cell_type": "code",
   "execution_count": 11,
   "metadata": {},
   "outputs": [],
   "source": [
    "%%capture\n",
    "for i in range(len(gamma)):\n",
    "    print('#####')\n",
    "    print(i)\n",
    "    for j in range(len(beta)):\n",
    "        print(j)\n",
    "        s=0\n",
    "        t = 0\n",
    "        for sub_idx in range(len(g_list)):\n",
    "            sub = g_list[sub_idx]\n",
    "            e = QAOA_energy(sub, gamma = [gamma[i]], beta= [beta[j]])\n",
    "            best_en = max_energies[sub_idx]\n",
    "            print(e)\n",
    "            \n",
    "            s+= e/best_en\n",
    "            \n",
    "            if s>0.99:\n",
    "                t+=1\n",
    "        data_1[step-i-1][j] = s/len(g_list)\n",
    "        data_2[step-i-1][j] = t"
   ]
  },
  {
   "cell_type": "code",
   "execution_count": 12,
   "metadata": {},
   "outputs": [],
   "source": [
    "SMALL_SIZE = 10\n",
    "MEDIUM_SIZE = 20\n",
    "BIGGER_SIZE = 40\n",
    "\n",
    "plt.rc('font', size=BIGGER_SIZE)          # controls default text sizes\n",
    "#plt.rc('axes', titlesize=SMALL_SIZE)     # fontsize of the axes title\n",
    "plt.rc('axes', labelsize=BIGGER_SIZE)    # fontsize of the x and y labels\n",
    "plt.rc('xtick', labelsize=SMALL_SIZE)    # fontsize of the tick labels\n",
    "plt.rc('ytick', labelsize=SMALL_SIZE)    # fontsize of the tick labels\n",
    "plt.rc('legend', fontsize=SMALL_SIZE)    # legend fontsize\n",
    "plt.rc('figure', titlesize=BIGGER_SIZE)  # fontsize of the figure title"
   ]
  },
  {
   "cell_type": "code",
   "execution_count": 13,
   "metadata": {},
   "outputs": [
    {
     "data": {
      "image/png": "[encoded data removed]",
      "text/plain": [
       "<Figure size 864x504 with 2 Axes>"
      ]
     },
     "metadata": {
      "needs_background": "light"
     },
     "output_type": "display_data"
    }
   ],
   "source": [
    "fig, ax = plt.subplots(figsize = (12, 7))\n",
    "#title = \"Energy landscape of subgraph indexed 40\"\n",
    "#plt.title(title, fontsize = 18)\n",
    "ttl = ax.title\n",
    "ttl.set_position([0.5, 1.05])\n",
    "\n",
    "\n",
    "y_ticks = [round(gamma[len(gamma)-i-1],2) for i in range(len(gamma))]\n",
    "x_ticks = [round(beta[i],2) for i in range(len(beta))]\n",
    "\n",
    "\n",
    "sns.heatmap(data_1, ax = ax, yticklabels = [], xticklabels = [])#, cbar_kws={label : \"Averaage Approximation Ratio\"})\n",
    "cbar = ax.collections[0].colorbar\n",
    "#cbar.set_label(\"Average Approximation Ratio\")\n",
    "plt.ylabel(r\"$\\frac{\\gamma}{2\\pi}$\")\n",
    "plt.xlabel(r\"$\\frac{\\beta}{2\\pi}$\")\n",
    "plt.show()\n",
    "#fig.savefig(\"fig_graphUniversality_July26.png\", dpi = 100)\n",
    "# ax.set_yticks(y_ticks)\n",
    "# ax.set_xticks(x_ticks)"
   ]
  },
  {
   "cell_type": "code",
   "execution_count": 14,
   "metadata": {},
   "outputs": [],
   "source": [
    "a_file = open(\"UniversalityGraphsJuly29.txt\", \"w\")\n",
    "for row in data_1:\n",
    "    np.savetxt(a_file, row)\n",
    "a_file.close()"
   ]
  },
  {
   "cell_type": "code",
   "execution_count": null,
   "metadata": {},
   "outputs": [],
   "source": []
  }
 ],
 "metadata": {
  "kernelspec": {
   "display_name": "Python 3",
   "language": "python",
   "name": "python3"
  },
  "language_info": {
   "codemirror_mode": {
    "name": "ipython",
    "version": 3
   },
   "file_extension": ".py",
   "mimetype": "text/x-python",
   "name": "python",
   "nbconvert_exporter": "python",
   "pygments_lexer": "ipython3",
   "version": "3.7.6"
  }
 },
 "nbformat": 4,
 "nbformat_minor": 4
}
