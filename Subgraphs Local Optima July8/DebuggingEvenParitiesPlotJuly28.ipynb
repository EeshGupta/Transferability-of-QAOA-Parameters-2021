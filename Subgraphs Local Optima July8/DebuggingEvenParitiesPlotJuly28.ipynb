{
 "cells": [
  {
   "cell_type": "code",
   "execution_count": 11,
   "metadata": {},
   "outputs": [],
   "source": [
    "import warnings\n",
    "warnings.filterwarnings('ignore')\n",
    "\n",
    "#################\n",
    "# My notebook issues\n",
    "import os\n",
    "import sys\n",
    "nb_dir = os.path.split(os.getcwd())[0]\n",
    "if nb_dir not in sys.path:\n",
    "    sys.path.append(nb_dir)\n",
    "sys.path.append('home/egupta/.local/bin')\n",
    "\n",
    "##############\n",
    "\n",
    "import os\n",
    "import numpy as np\n",
    "import scipy.stats as ss\n",
    "import networkx as nx\n",
    "import csv \n",
    "import numpy as np\n",
    "import seaborn as sns\n",
    "from pandas import DataFrame\n",
    "from scipy.optimize import curve_fit\n",
    "import matplotlib\n",
    "from matplotlib import pyplot as plt\n",
    "\n",
    "%matplotlib inline\n",
    "\n",
    "\n",
    "##qtensor imports\n",
    "import qtensor\n",
    "from qtensor import QAOA_energy\n",
    "from qtensor import parameter_optimization as popt\n",
    "import torch"
   ]
  },
  {
   "cell_type": "code",
   "execution_count": 12,
   "metadata": {},
   "outputs": [],
   "source": [
    "file2 = open(\"20NodeRandomLocalData.txt\")\n",
    "file3 = open(\"20NodeRandomGraphs.txt\")"
   ]
  },
  {
   "cell_type": "code",
   "execution_count": 13,
   "metadata": {},
   "outputs": [],
   "source": [
    "def mats_to_graphs(mat_list):\n",
    "  \"\"\"\n",
    "  Given list of adjaceny matrix repr of graphs, converts to actual graphs\n",
    "  \"\"\"\n",
    "  g_list = []\n",
    "  for mat in mat_list:\n",
    "    arr = np.array(mat)\n",
    "    G = nx.convert_matrix.from_numpy_matrix(arr)\n",
    "    g_list.append(G)\n",
    "  return g_list"
   ]
  },
  {
   "cell_type": "code",
   "execution_count": 14,
   "metadata": {},
   "outputs": [],
   "source": [
    "g_data = np.loadtxt(file2).reshape(55,20,4)\n",
    "mat_list = np.loadtxt(file3).reshape(55,20,20)\n",
    "g_list = mats_to_graphs(mat_list)"
   ]
  },
  {
   "cell_type": "code",
   "execution_count": 20,
   "metadata": {},
   "outputs": [
    {
     "data": {
      "text/plain": [
       "55"
      ]
     },
     "execution_count": 20,
     "metadata": {},
     "output_type": "execute_result"
    }
   ],
   "source": [
    "len(g_list)"
   ]
  },
  {
   "cell_type": "markdown",
   "metadata": {},
   "source": [
    "# Analyzing distribution of diff even % graphs"
   ]
  },
  {
   "cell_type": "code",
   "execution_count": 15,
   "metadata": {},
   "outputs": [],
   "source": [
    "def even_percent(graph):\n",
    "  \"\"\"\n",
    "  Determines the relative percent of even degree nodes\n",
    "  \"\"\"\n",
    "  nodes = graph.number_of_nodes()\n",
    "  tot_ev = 0\n",
    "  for i in range(nodes):\n",
    "    if graph.degree[i]%2 == 0:\n",
    "      tot_ev+=1\n",
    "  return tot_ev/nodes"
   ]
  },
  {
   "cell_type": "code",
   "execution_count": 68,
   "metadata": {},
   "outputs": [],
   "source": [
    "keys = [i/10 for i in range(11)]\n",
    "data = {}\n",
    "for key in keys:\n",
    "    data[key] = []"
   ]
  },
  {
   "cell_type": "code",
   "execution_count": 69,
   "metadata": {},
   "outputs": [
    {
     "data": {
      "text/plain": [
       "2"
      ]
     },
     "execution_count": 69,
     "metadata": {},
     "output_type": "execute_result"
    }
   ],
   "source": [
    "len([[1],[1,2]])"
   ]
  },
  {
   "cell_type": "code",
   "execution_count": 70,
   "metadata": {},
   "outputs": [],
   "source": [
    "for g_idx in range(len(g_list)):\n",
    "    g = g_list[g_idx]\n",
    "    key = even_percent(g)\n",
    "    betas = []\n",
    "    gammas = []\n",
    "    for i in range(20):\n",
    "        gammas.append(g_data[g_idx][i][0]%1)# [,g_data[g_idx][i][0]%0.5 ]\n",
    "        betas.append(g_data[g_idx][i][1]%0.5)\n",
    "    old = data[key]\n",
    "    if len(old) == 0:\n",
    "        data[key] = [betas, gammas]\n",
    "    \n",
    "    else:\n",
    "        #print(len(old))\n",
    "        #new_old = [[],[]]\n",
    "        for k in range(20):\n",
    "            old[0].append(betas[k])\n",
    "            old[1].append(gammas[k])\n",
    "        data[key] = old"
   ]
  },
  {
   "cell_type": "code",
   "execution_count": 72,
   "metadata": {},
   "outputs": [
    {
     "data": {
      "text/plain": [
       "100"
      ]
     },
     "execution_count": 72,
     "metadata": {},
     "output_type": "execute_result"
    }
   ],
   "source": [
    "len(data[1.0][1])"
   ]
  },
  {
   "cell_type": "code",
   "execution_count": 76,
   "metadata": {},
   "outputs": [],
   "source": [
    "from scipy.stats import gaussian_kde"
   ]
  },
  {
   "cell_type": "code",
   "execution_count": 101,
   "metadata": {},
   "outputs": [
    {
     "data": {
      "image/png": "[encoded data removed]",
      "text/plain": [
       "<Figure size 720x432 with 12 Axes>"
      ]
     },
     "metadata": {
      "needs_background": "light"
     },
     "output_type": "display_data"
    }
   ],
   "source": [
    "fig, ax = plt.subplots(4,3, sharex=True, sharey = True, figsize = (10,6))\n",
    "for i in range(4):\n",
    "    for j in range(3):\n",
    "        key = (3*i +j)/10\n",
    "        if key<=1:\n",
    "            \n",
    "            x,y = data[key]\n",
    "            xy = np.vstack([x,y])\n",
    "            z = gaussian_kde(xy)(xy)\n",
    "            \n",
    "            ##Densest points plotted last \n",
    "            idx = z.argsort()\n",
    "            newx = []\n",
    "            newy = []\n",
    "            newz = []\n",
    "            for k in idx:\n",
    "                newx.append(x[k])\n",
    "                newy.append(y[k])\n",
    "                newz.append(z[k])\n",
    "\n",
    "            # fig, ax = plt.subplots()\n",
    "            ax[i,j].scatter(newx, newy, c=newz, s=100, edgecolor='')\n",
    "            ax[i,j].title.set_text( str(key*100)+ \"%\")"
   ]
  },
  {
   "cell_type": "code",
   "execution_count": 99,
   "metadata": {},
   "outputs": [
    {
     "data": {
      "text/plain": [
       "<matplotlib.collections.PathCollection at 0x7eff029b5710>"
      ]
     },
     "execution_count": 99,
     "metadata": {},
     "output_type": "execute_result"
    },
    {
     "data": {
      "image/png": "[encoded data removed]",
      "text/plain": [
       "<Figure size 432x288 with 1 Axes>"
      ]
     },
     "metadata": {
      "needs_background": "light"
     },
     "output_type": "display_data"
    }
   ],
   "source": [
    "x, y = data[0.4]\n",
    "xy = np.vstack([x,y])\n",
    "z = gaussian_kde(xy)(xy)\n",
    "# Sort the points by density, so that the densest points are plotted last\n",
    "idx = z.argsort()\n",
    "newx = []\n",
    "newy = []\n",
    "newz = []\n",
    "for i in idx:\n",
    "    newx.append(x[i])\n",
    "    newy.append(y[i])\n",
    "    newz.append(z[i])\n",
    "    \n",
    "# fig, ax = plt.subplots()\n",
    "plt.scatter(newx, newy, c=newz, s=100, edgecolor='')"
   ]
  },
  {
   "cell_type": "code",
   "execution_count": 97,
   "metadata": {},
   "outputs": [
    {
     "data": {
      "text/plain": [
       "array([15, 30, 26, 22, 35, 25, 21, 31, 24, 98, 80, 97, 91, 81, 83, 85, 82,\n",
       "       93, 36, 38, 20, 89, 27, 39, 29, 33, 23, 37, 34, 28, 86, 84, 99, 95,\n",
       "       32, 96, 92, 88, 87, 90, 94, 74, 12, 13, 44, 46, 18, 51, 67, 76, 40,\n",
       "       68, 45, 50, 43, 57, 79, 71, 58, 47, 72, 63, 48, 53, 14,  8,  9, 10,\n",
       "       16,  6,  5, 73, 64, 60, 69, 70, 75, 66, 78, 65, 77, 59, 55, 61, 54,\n",
       "       49, 62, 19, 56, 41, 42,  0, 52,  7,  2,  3,  4, 17,  1, 11])"
      ]
     },
     "execution_count": 97,
     "metadata": {},
     "output_type": "execute_result"
    }
   ],
   "source": [
    "idx"
   ]
  },
  {
   "cell_type": "code",
   "execution_count": 96,
   "metadata": {},
   "outputs": [
    {
     "data": {
      "text/plain": [
       "array([557.90434093, 558.74976736, 558.36810428, 558.44015311,\n",
       "       558.49892403, 537.50381232, 537.48172938, 558.27875038,\n",
       "       537.3691285 , 537.43319241, 537.4342295 , 558.8168437 ,\n",
       "       477.48202735, 510.13111825, 536.9215914 , 144.95099188,\n",
       "       537.47113722, 558.64057258, 531.20685235, 555.60840763,\n",
       "       224.37473223, 152.07835375, 151.90266868, 227.18516637,\n",
       "       152.1282102 , 152.06680597, 150.94933988, 226.70972325,\n",
       "       227.66003469, 226.99521375, 149.49964713, 152.12735948,\n",
       "       228.34880367, 227.08288549, 227.38763553, 151.95566832,\n",
       "       217.12857977, 227.36399929, 219.64425438, 226.97260867,\n",
       "       532.14401124, 555.7987092 , 557.23514472, 532.81362873,\n",
       "       523.53588317, 532.68211193, 530.84173016, 534.29677158,\n",
       "       535.45939045, 555.49185132, 532.73991755, 531.30410966,\n",
       "       557.96819441, 536.40788506, 555.41034406, 553.50139305,\n",
       "       555.66339713, 533.07268237, 533.56718501, 553.49802344,\n",
       "       550.64478924, 554.10324138, 555.59904729, 535.07700624,\n",
       "       550.4315227 , 551.58822266, 551.20733124, 531.94015438,\n",
       "       532.27826449, 550.88973865, 551.03069079, 533.31913362,\n",
       "       534.35623711, 549.47208327, 466.1150825 , 551.07832342,\n",
       "       531.9405337 , 553.04699079, 551.26115639, 533.26614328,\n",
       "       181.00788028, 183.65156797, 184.78078095, 183.71302352,\n",
       "       228.26881581, 183.76856833, 227.94818972, 231.17097325,\n",
       "       229.94743957, 226.70356854, 232.61097401, 183.55696604,\n",
       "       228.44901104, 202.55293747, 236.48374705, 228.31026227,\n",
       "       228.43502114, 183.40145287, 156.62854638, 228.301153  ])"
      ]
     },
     "execution_count": 96,
     "metadata": {},
     "output_type": "execute_result"
    }
   ],
   "source": [
    "z"
   ]
  },
  {
   "cell_type": "code",
   "execution_count": 91,
   "metadata": {},
   "outputs": [],
   "source": [
    "from matplotlib import cm\n",
    "from matplotlib.colors import Normalize \n",
    "from scipy.interpolate import interpn\n",
    "\n",
    "def density_scatter( x , y, ax = None, sort = True, bins = 20, **kwargs )   :\n",
    "    \"\"\"\n",
    "    Scatter plot colored by 2d histogram\n",
    "    \"\"\"\n",
    "    if ax is None :\n",
    "        fig , ax = plt.subplots()\n",
    "    data , x_e, y_e = np.histogram2d( x, y, bins = bins, density = True )\n",
    "    z = interpn( ( 0.5*(x_e[1:] + x_e[:-1]) , 0.5*(y_e[1:]+y_e[:-1]) ) , data , np.vstack([x,y]).T , method = \"splinef2d\", bounds_error = False)\n",
    "\n",
    "    #To be sure to plot all data\n",
    "    z[np.where(np.isnan(z))] = 0.0\n",
    "\n",
    "    # Sort the points by density, so that the densest points are plotted last\n",
    "    if sort :\n",
    "        idx = z.argsort()\n",
    "        x, y, z = x[idx], y[idx], z[idx]\n",
    "\n",
    "    ax.scatter( x, y, c=z, **kwargs )\n",
    "\n",
    "    norm = Normalize(vmin = np.min(z), vmax = np.max(z))\n",
    "    cbar = fig.colorbar(cm.ScalarMappable(norm = norm), ax=ax)\n",
    "    cbar.ax.set_ylabel('Density')\n",
    "\n",
    "    return ax"
   ]
  },
  {
   "cell_type": "code",
   "execution_count": 93,
   "metadata": {},
   "outputs": [
    {
     "ename": "TypeError",
     "evalue": "only integer scalar arrays can be converted to a scalar index",
     "output_type": "error",
     "traceback": [
      "\u001b[0;31m---------------------------------------------------------------------------\u001b[0m",
      "\u001b[0;31mTypeError\u001b[0m                                 Traceback (most recent call last)",
      "\u001b[0;32m<ipython-input-93-64ffa41272d8>\u001b[0m in \u001b[0;36m<module>\u001b[0;34m\u001b[0m\n\u001b[0;32m----> 1\u001b[0;31m \u001b[0mdensity_scatter\u001b[0m\u001b[0;34m(\u001b[0m \u001b[0mx\u001b[0m \u001b[0;34m,\u001b[0m \u001b[0my\u001b[0m \u001b[0;34m)\u001b[0m\u001b[0;34m\u001b[0m\u001b[0;34m\u001b[0m\u001b[0m\n\u001b[0m",
      "\u001b[0;32m<ipython-input-91-a7f1f02b31bb>\u001b[0m in \u001b[0;36mdensity_scatter\u001b[0;34m(x, y, ax, sort, bins, **kwargs)\u001b[0m\n\u001b[1;32m     18\u001b[0m     \u001b[0;32mif\u001b[0m \u001b[0msort\u001b[0m \u001b[0;34m:\u001b[0m\u001b[0;34m\u001b[0m\u001b[0;34m\u001b[0m\u001b[0m\n\u001b[1;32m     19\u001b[0m         \u001b[0midx\u001b[0m \u001b[0;34m=\u001b[0m \u001b[0mz\u001b[0m\u001b[0;34m.\u001b[0m\u001b[0margsort\u001b[0m\u001b[0;34m(\u001b[0m\u001b[0;34m)\u001b[0m\u001b[0;34m\u001b[0m\u001b[0;34m\u001b[0m\u001b[0m\n\u001b[0;32m---> 20\u001b[0;31m         \u001b[0mx\u001b[0m\u001b[0;34m,\u001b[0m \u001b[0my\u001b[0m\u001b[0;34m,\u001b[0m \u001b[0mz\u001b[0m \u001b[0;34m=\u001b[0m \u001b[0mx\u001b[0m\u001b[0;34m[\u001b[0m\u001b[0midx\u001b[0m\u001b[0;34m]\u001b[0m\u001b[0;34m,\u001b[0m \u001b[0my\u001b[0m\u001b[0;34m[\u001b[0m\u001b[0midx\u001b[0m\u001b[0;34m]\u001b[0m\u001b[0;34m,\u001b[0m \u001b[0mz\u001b[0m\u001b[0;34m[\u001b[0m\u001b[0midx\u001b[0m\u001b[0;34m]\u001b[0m\u001b[0;34m\u001b[0m\u001b[0;34m\u001b[0m\u001b[0m\n\u001b[0m\u001b[1;32m     21\u001b[0m \u001b[0;34m\u001b[0m\u001b[0m\n\u001b[1;32m     22\u001b[0m     \u001b[0max\u001b[0m\u001b[0;34m.\u001b[0m\u001b[0mscatter\u001b[0m\u001b[0;34m(\u001b[0m \u001b[0mx\u001b[0m\u001b[0;34m,\u001b[0m \u001b[0my\u001b[0m\u001b[0;34m,\u001b[0m \u001b[0mc\u001b[0m\u001b[0;34m=\u001b[0m\u001b[0mz\u001b[0m\u001b[0;34m,\u001b[0m \u001b[0;34m**\u001b[0m\u001b[0mkwargs\u001b[0m \u001b[0;34m)\u001b[0m\u001b[0;34m\u001b[0m\u001b[0;34m\u001b[0m\u001b[0m\n",
      "\u001b[0;31mTypeError\u001b[0m: only integer scalar arrays can be converted to a scalar index"
     ]
    },
    {
     "data": {
      "image/png": "[encoded data removed]",
      "text/plain": [
       "<Figure size 432x288 with 1 Axes>"
      ]
     },
     "metadata": {
      "needs_background": "light"
     },
     "output_type": "display_data"
    }
   ],
   "source": [
    "density_scatter( x , y )"
   ]
  },
  {
   "cell_type": "code",
   "execution_count": null,
   "metadata": {},
   "outputs": [],
   "source": []
  },
  {
   "cell_type": "code",
   "execution_count": 7,
   "metadata": {},
   "outputs": [],
   "source": [
    "g_list = mats_to_graphs(mat_list)"
   ]
  },
  {
   "cell_type": "code",
   "execution_count": 8,
   "metadata": {},
   "outputs": [
    {
     "data": {
      "text/plain": [
       "[20.284749105370768,\n",
       " 20.502635955801225,\n",
       " 18.066398420918414,\n",
       " 17.86002664365252,\n",
       " 20.864235941178443,\n",
       " 20.858653070476944,\n",
       " 23.980917630040672,\n",
       " 23.838427673621815,\n",
       " 22.221382432427987,\n",
       " 22.06849600891617,\n",
       " 26.780676084021273,\n",
       " 26.679933259533694,\n",
       " 23.457681076195165,\n",
       " 23.25716682150475,\n",
       " 22.91554565357199,\n",
       " 23.079868335123706,\n",
       " 21.81286201725008,\n",
       " 21.96574473687494,\n",
       " 26.793042762094295,\n",
       " 27.183336848383497,\n",
       " 27.66213945620647,\n",
       " 27.845212736429364,\n",
       " 20.334773176913686,\n",
       " 20.573426826891534,\n",
       " 20.406697224191806,\n",
       " 17.85286348497528,\n",
       " 18.022779955152135,\n",
       " 17.56897217599276,\n",
       " 23.338656210439737,\n",
       " 22.854887436815865,\n",
       " 23.443608667223767,\n",
       " 23.10158243276543,\n",
       " 23.067116935873962,\n",
       " 23.05784920134478,\n",
       " 21.160546969459688,\n",
       " 21.047016182737273,\n",
       " 21.119511380242272,\n",
       " 23.570360967601996,\n",
       " 23.33135849133972,\n",
       " 23.982326041550806,\n",
       " 22.214167951626468,\n",
       " 22.22565712028168,\n",
       " 22.149960921417307,\n",
       " 26.879145535277534,\n",
       " 26.640141111375648,\n",
       " 26.28063042367684,\n",
       " 22.06250407244687,\n",
       " 21.91218840745617,\n",
       " 22.01618259930831,\n",
       " 27.38264401263232,\n",
       " 26.942664791195305,\n",
       " 27.29366403318902,\n",
       " 27.37056371932459,\n",
       " 27.58607539861514,\n",
       " 27.613981274867996]"
      ]
     },
     "execution_count": 8,
     "metadata": {},
     "output_type": "execute_result"
    }
   ],
   "source": [
    "max_energies"
   ]
  },
  {
   "cell_type": "code",
   "execution_count": 10,
   "metadata": {},
   "outputs": [],
   "source": [
    "step = 20\n",
    "gamma = np.linspace(0, 1, num = step)\n",
    "beta = np.linspace(0, 0.5, num = step)\n",
    "data_1 = np.zeros((step, step))\n",
    "data_2 = np.zeros((step, step))"
   ]
  },
  {
   "cell_type": "code",
   "execution_count": 11,
   "metadata": {},
   "outputs": [],
   "source": [
    "def get_edge_energy_contribution(graph, edge, gamma, beta):\n",
    "    sim = qtensor.QtreeSimulator()\n",
    "    composer = qtensor.DefaultQAOAComposer(graph, gamma=gamma, beta=beta)\n",
    "    composer.energy_expectation_lightcone(edge)\n",
    "    return (1-np.real(sim.simulate_batch(composer.circuit)[0]))/2"
   ]
  },
  {
   "cell_type": "code",
   "execution_count": null,
   "metadata": {},
   "outputs": [],
   "source": [
    "%%capture\n",
    "for i in range(len(gamma)):\n",
    "    print('#####')\n",
    "    print(i)\n",
    "    for j in range(len(beta)):\n",
    "        print(j)\n",
    "        s=0\n",
    "        t = 0\n",
    "        for sub_idx in range(len(g_list)):\n",
    "            sub = g_list[sub_idx]\n",
    "            e = QAOA_energy(sub, gamma = [gamma[i]], beta= [beta[j]])\n",
    "            best_en = max_energies[sub_idx]\n",
    "            print(e)\n",
    "            \n",
    "            s+= e/best_en\n",
    "            \n",
    "            if s>0.99:\n",
    "                t+=1\n",
    "        data_1[i][j] = s/len(g_list)\n",
    "        data_2[i][j] = t"
   ]
  },
  {
   "cell_type": "code",
   "execution_count": null,
   "metadata": {},
   "outputs": [],
   "source": [
    "SMALL_SIZE = 8\n",
    "MEDIUM_SIZE = 10\n",
    "BIGGER_SIZE = 20\n",
    "\n",
    "plt.rc('font', size=SMALL_SIZE)          # controls default text sizes\n",
    "plt.rc('axes', titlesize=SMALL_SIZE)     # fontsize of the axes title\n",
    "plt.rc('axes', labelsize=BIGGER_SIZE)    # fontsize of the x and y labels\n",
    "plt.rc('xtick', labelsize=SMALL_SIZE)    # fontsize of the tick labels\n",
    "plt.rc('ytick', labelsize=SMALL_SIZE)    # fontsize of the tick labels\n",
    "plt.rc('legend', fontsize=SMALL_SIZE)    # legend fontsize\n",
    "plt.rc('figure', titlesize=BIGGER_SIZE)  # fontsize of the figure title"
   ]
  },
  {
   "cell_type": "code",
   "execution_count": null,
   "metadata": {},
   "outputs": [],
   "source": [
    "fig, ax = plt.subplots(figsize = (12, 7))\n",
    "#title = \"Energy landscape of subgraph indexed 40\"\n",
    "#plt.title(title, fontsize = 18)\n",
    "ttl = ax.title\n",
    "ttl.set_position([0.5, 1.05])\n",
    "\n",
    "\n",
    "y_ticks = [round(gamma[len(gamma)-i-1],2) for i in range(len(gamma))]\n",
    "x_ticks = [round(beta[i],2) for i in range(len(beta))]\n",
    "\n",
    "\n",
    "sns.heatmap(data_1, ax = ax, yticklabels = [], xticklabels = [])#, cbar_kws={label : \"Averaage Approximation Ratio\"})\n",
    "cbar = ax.collections[0].colorbar\n",
    "cbar.set_label(\"Average Approximation Ratio\")\n",
    "plt.ylabel(r\"$\\frac{\\gamma}{2\\pi}$\")\n",
    "plt.xlabel(r\"$\\frac{\\beta}{2\\pi}$\")\n",
    "plt.show()\n",
    "#fig.savefig(\"fig_graphUniversality_July26.png\", dpi = 100)\n",
    "# ax.set_yticks(y_ticks)\n",
    "# ax.set_xticks(x_ticks)"
   ]
  },
  {
   "cell_type": "code",
   "execution_count": null,
   "metadata": {},
   "outputs": [],
   "source": []
  },
  {
   "cell_type": "code",
   "execution_count": null,
   "metadata": {},
   "outputs": [],
   "source": []
  }
 ],
 "metadata": {
  "kernelspec": {
   "display_name": "Python 3",
   "language": "python",
   "name": "python3"
  },
  "language_info": {
   "codemirror_mode": {
    "name": "ipython",
    "version": 3
   },
   "file_extension": ".py",
   "mimetype": "text/x-python",
   "name": "python",
   "nbconvert_exporter": "python",
   "pygments_lexer": "ipython3",
   "version": "3.7.6"
  }
 },
 "nbformat": 4,
 "nbformat_minor": 4
}
