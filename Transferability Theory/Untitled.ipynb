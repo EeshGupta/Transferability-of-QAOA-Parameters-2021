{
 "cells": [
  {
   "cell_type": "markdown",
   "metadata": {},
   "source": [
    "# AIM\n",
    "Test out whether taking inner product of QAOA analytical formulas correlates with transferability\n",
    "https://arxiv.org/pdf/1706.02998.pdf"
   ]
  },
  {
   "cell_type": "code",
   "execution_count": 57,
   "metadata": {},
   "outputs": [],
   "source": [
    "import numpy as np\n",
    "from math import sin,cos\n",
    "from math import pi\n",
    "import numpy as np\n",
    "\n",
    "import scipy.integrate\n",
    "from numpy import exp\n",
    "from math import sqrt\n",
    "\n",
    "import numpy as np\n",
    "import seaborn as sns\n",
    "from pandas import DataFrame\n",
    "from scipy.optimize import curve_fit\n",
    "import matplotlib\n",
    "from matplotlib import pyplot as plt"
   ]
  },
  {
   "cell_type": "code",
   "execution_count": 18,
   "metadata": {},
   "outputs": [],
   "source": [
    "def z_func(x,y, u,v, t):\n",
    "    '''\n",
    "    Given gamma (y) and beta(x), calculates energy of subgraph with central nodes having degrees u and v \n",
    "    and sharing t triangles\n",
    "    '''\n",
    "    return (0.5 + (0.25*sin(4*x)*sin(y)*((cos(y))**u + (cos(y))**v)) - (0.25*((sin(2*x))**2)*((cos(y))**(u+v-2*t)))*(1-(cos(2*y))**(t)))\n"
   ]
  },
  {
   "cell_type": "code",
   "execution_count": 21,
   "metadata": {},
   "outputs": [],
   "source": [
    "def max_en(u, v, t):\n",
    "    '''\n",
    "    Finds Max energy of a subgraph with central nodes have node degree u,v and having t triangles\n",
    "    '''\n",
    "    en = 0\n",
    "    for x in np.arange(0, pi, 0.01):\n",
    "        for y in np.arange(0, 2*pi, 0.01):\n",
    "            test_en = z_func(x,y,u,v,t)\n",
    "            if test_en>en:\n",
    "                en = test_en\n",
    "    return test_en"
   ]
  },
  {
   "cell_type": "code",
   "execution_count": 32,
   "metadata": {},
   "outputs": [
    {
     "data": {
      "text/plain": [
       "0.5000101460960411"
      ]
     },
     "execution_count": 32,
     "metadata": {},
     "output_type": "execute_result"
    }
   ],
   "source": [
    "max_en(0,0,0)"
   ]
  },
  {
   "cell_type": "code",
   "execution_count": 79,
   "metadata": {},
   "outputs": [],
   "source": [
    "us = []\n",
    "ts = []\n",
    "max_ens = []\n",
    "for u in range(1,10, 1):\n",
    "    for t in range(0, 1):\n",
    "        us.append(u)\n",
    "        ts.append(t)\n",
    "        max_ens.append(max_en(u, u, t))\n"
   ]
  },
  {
   "cell_type": "code",
   "execution_count": 80,
   "metadata": {},
   "outputs": [
    {
     "data": {
      "text/plain": [
       "9"
      ]
     },
     "execution_count": 80,
     "metadata": {},
     "output_type": "execute_result"
    }
   ],
   "source": [
    "len(us)"
   ]
  },
  {
   "cell_type": "code",
   "execution_count": 91,
   "metadata": {},
   "outputs": [],
   "source": [
    "def inner_product(index1, index2, us = us, vs = us, ts= ts, max_ens = max_ens):\n",
    "    '''\n",
    "    Given two subgraphs, finds inner product using their QAOA analytical formulas\n",
    "    '''\n",
    "    u1,v1,t1, max_1 = us[index1], us[index1], ts[index1], max_ens[index1]\n",
    "    u2,v2,t2, max_2 = us[index2], us[index2], ts[index2], max_ens[index2]\n",
    "    f = lambda x, y : (z_func(x,y,u1,v1,t1))*(z_func(x,y,u2,v2,t2))\n",
    "    g = lambda x : 0\n",
    "    h = lambda y : pi\n",
    "    i = scipy.integrate.dblquad(f, 0, 2*pi, g, h)\n",
    "    return i[0]"
   ]
  },
  {
   "cell_type": "code",
   "execution_count": 95,
   "metadata": {},
   "outputs": [],
   "source": [
    "def normalize_inner_product(index1, index2):\n",
    "    '''\n",
    "    Assuming Index2 is acceptor, normalizes inner product of the two graphs\n",
    "    '''\n",
    "    n = inner_product(index1, index2)/inner_product(index2, index2)\n",
    "#     if n>1:\n",
    "#         return 1\n",
    "    return n"
   ]
  },
  {
   "cell_type": "code",
   "execution_count": 96,
   "metadata": {},
   "outputs": [],
   "source": [
    "mat = np.zeros((len(us), len(us)))\n",
    "for i in range(len(mat)):\n",
    "    for j in range(len(mat[i])):\n",
    "        mat[i][j] = normalize_inner_product(i,j)\n",
    "        \n"
   ]
  },
  {
   "cell_type": "code",
   "execution_count": 97,
   "metadata": {},
   "outputs": [
    {
     "data": {
      "image/png": "[encoded data removed]",
      "text/plain": [
       "<Figure size 432x288 with 2 Axes>"
      ]
     },
     "metadata": {
      "needs_background": "light"
     },
     "output_type": "display_data"
    }
   ],
   "source": [
    "df = DataFrame(mat)  \n",
    "ax = sns.heatmap(df, annot=False, cmap=\"Blues\",xticklabels=us, yticklabels=us, cbar_kws={'label': 'Inner Product'})\n",
    "plt.xlabel(\"acceptors\")\n",
    "plt.ylabel(\"donors\")\n",
    "#ax.tick_params(left=False, bottom=False) \n",
    "plt.show()"
   ]
  },
  {
   "cell_type": "code",
   "execution_count": 54,
   "metadata": {},
   "outputs": [
    {
     "data": {
      "text/plain": [
       "0.5000101460445691"
      ]
     },
     "execution_count": 54,
     "metadata": {},
     "output_type": "execute_result"
    }
   ],
   "source": [
    "max_ens[0]"
   ]
  },
  {
   "cell_type": "code",
   "execution_count": 51,
   "metadata": {},
   "outputs": [
    {
     "data": {
      "text/plain": [
       "[1, 2, 2, 3, 3, 3, 4, 4, 4, 4, 5, 5, 5, 5, 5]"
      ]
     },
     "execution_count": 51,
     "metadata": {},
     "output_type": "execute_result"
    }
   ],
   "source": [
    "us"
   ]
  },
  {
   "cell_type": "code",
   "execution_count": null,
   "metadata": {},
   "outputs": [],
   "source": []
  }
 ],
 "metadata": {
  "kernelspec": {
   "display_name": "Python 3",
   "language": "python",
   "name": "python3"
  },
  "language_info": {
   "codemirror_mode": {
    "name": "ipython",
    "version": 3
   },
   "file_extension": ".py",
   "mimetype": "text/x-python",
   "name": "python",
   "nbconvert_exporter": "python",
   "pygments_lexer": "ipython3",
   "version": "3.7.6"
  }
 },
 "nbformat": 4,
 "nbformat_minor": 4
}
